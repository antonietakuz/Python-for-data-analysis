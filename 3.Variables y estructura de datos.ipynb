{
 "cells": [
  {
   "cell_type": "markdown",
   "id": "d0979fc8",
   "metadata": {},
   "source": [
    "### Link acceso al material complementario\n",
    "https://1drv.ms/u/s!Anh5cvrOJtUTi4ptwdSHNem2qonhEw?e=IgjxLw"
   ]
  },
  {
   "cell_type": "markdown",
   "id": "2c01be37",
   "metadata": {},
   "source": [
    "# Modulo 1- Introduccion y repaso - Continua"
   ]
  },
  {
   "cell_type": "markdown",
   "id": "5ecd3975",
   "metadata": {},
   "source": [
    "# 2. Objetos \n",
    "En Python todo son objetos, en el sentido de la  programación orientada a objetos. Incluso las funciones y  las clases son objetos también. Eso permite que cualquier  cosa pueda ser referenciada por una variable. Y decimos  referenciada porque, en Python, crear una variable es crear  un nombre con una referencia (puntero) a la dirección de  memoria en donde el objeto se encuentra.\n",
    "Esta es la razón por la que una variable no está limitada a  un tipo de dato en particular (tipado dinámico) y crear una  nueva asignación a otro tipo de dato es simplemente  cambiar la referencia de la variable."
   ]
  },
  {
   "cell_type": "code",
   "execution_count": null,
   "id": "b98ea214",
   "metadata": {},
   "outputs": [],
   "source": [
    "var1 = 5\n",
    "print(id(var1))\n",
    "var2 = 10\n",
    "print(id(var2))\n",
    "print('--------------------------')\n",
    "print(var1) \n",
    "print(var2)\n",
    "\n"
   ]
  },
  {
   "cell_type": "markdown",
   "id": "be5ad52a",
   "metadata": {},
   "source": [
    "Esto implica que muchas variables pueden apuntar  al mismo objeto. \n",
    "\n",
    "De hecho, cuando se ejecuta una  expresión del tipo var2 = var1 no se crea una copia  del dato sino que se copia la referencia, por lo que las  dos variables apuntan al mismo objeto en la memoria.  "
   ]
  },
  {
   "cell_type": "code",
   "execution_count": null,
   "id": "d657851e",
   "metadata": {},
   "outputs": [],
   "source": [
    "var1 = var2\n",
    "print(id(var1))\n",
    "print('--------------------------')\n",
    "print(id(var2))\n",
    "print('--------------------------')\n",
    "print(var1) \n",
    "print(var2)"
   ]
  },
  {
   "cell_type": "markdown",
   "id": "9f548900",
   "metadata": {},
   "source": [
    "En este ejemplo se ve como ambas variables  apuntan al mismo objeto en la memoria y las  modificaciones hechas a través de lista1  son visibles para lista2.\n"
   ]
  },
  {
   "cell_type": "code",
   "execution_count": null,
   "id": "9c34e55a",
   "metadata": {},
   "outputs": [],
   "source": [
    "lista1 = [1,2,3,4]\n",
    "lista2 = lista1\n",
    "\n",
    "lista1[0] = 9999\n",
    "\n",
    "print(lista1)\n",
    "print(lista2)\n",
    "print('-------------------------------')\n",
    "print(id(lista1))\n",
    "print('-------------------------------')\n",
    "print(id(lista2))"
   ]
  },
  {
   "cell_type": "code",
   "execution_count": null,
   "id": "b7e53558",
   "metadata": {},
   "outputs": [],
   "source": [
    "lista3 = lista1.copy()\n",
    "print(id(lista1))\n",
    "print('-------------------------------')\n",
    "print(id(lista3))"
   ]
  },
  {
   "cell_type": "markdown",
   "id": "dce489c5",
   "metadata": {},
   "source": [
    "# 3. Colecciones en Python"
   ]
  },
  {
   "cell_type": "markdown",
   "id": "019e6633",
   "metadata": {},
   "source": [
    "Una colección permite agrupar varios objetos bajo un mismo nombre. Por  ejemplo, \n",
    "si necesitamos almacenar en nuestro programa los nombres de  los alumnos de un curso de programación, \n",
    "será más conveniente ubicarlos  a todos dentro de una misma colección de nombre alumnos, en lugar de  crear los objetos alumno1, alumno2, etc. \n",
    "Como estuvimos haciendo con las  listas. Las listas forman parte de lo que llamamos “colecciones” de Python.\n",
    "Las colecciones permiten acceder de forma rápida y organizada a los datos.  \n",
    "\n",
    "Colecciones en Python:\n",
    "Listas (ya conocidas por nosotros).\n",
    "Tuplas.\n",
    "Diccionarios."
   ]
  },
  {
   "cell_type": "markdown",
   "id": "db42ef69",
   "metadata": {},
   "source": [
    "## 3.1. Listas\n",
    "Las listas nos permiten agrupar varios objetos  (de cualquiera de los cuatro tipos de dato  básicos que vimos) en una misma variable.\n",
    "Cada  uno de estos objetos se conoce como elemento.\n",
    "Para crear una lista vamos a escoger un nombre  e indicar, entre corchetes y separados por  comas, los elementos.\n",
    "Por ejemplo, el siguiente  código crea una lista de cinco números primos"
   ]
  },
  {
   "cell_type": "code",
   "execution_count": null,
   "id": "f2079001",
   "metadata": {},
   "outputs": [],
   "source": [
    "numeros_primos = [2, 3, 5, 7, 11]\n",
    "print(numeros_primos)\n",
    "\n",
    "print('------------------------------------------')\n",
    "# La siguiente es una lista con nombres de  alumnos:\n",
    "\n",
    "\n",
    "alumnos = [\"Jorge\", \"Matias\", \"Juan\",  \"Martin\"]\n",
    "print(alumnos)\n",
    "\n",
    "print('------------------------------------------')\n",
    "# Y esta última una lista con valores de  distintos tipos de dato:\n",
    "\n",
    "datos = [3.14, True, -1, False, \"Hola  mundo\"]\n",
    "print(datos)\n"
   ]
  },
  {
   "cell_type": "markdown",
   "id": "ac3f79ad",
   "metadata": {},
   "source": [
    "## 3.1.1. Acceder a los elementos de una Listas\n",
    "Para acceder a un elemento de una lista a  partir de su índice,vamos a indicarlo entre  corchetes luego del nombre de la lista."
   ]
  },
  {
   "cell_type": "code",
   "execution_count": null,
   "id": "a985f0ee",
   "metadata": {},
   "outputs": [],
   "source": [
    "print(numeros_primos[0])  \n",
    "print(numeros_primos[1])   \n",
    "print(numeros_primos[2])\n",
    "print(numeros_primos[4]) \n",
    "\n",
    "print('-------------------------------')\n",
    "print(alumnos[2]) "
   ]
  },
  {
   "cell_type": "markdown",
   "id": "082d6e66",
   "metadata": {},
   "source": [
    "## 3.1.2. Agregar  elementos a una Lista\n",
    "Para realizarlos usamos las sintaxis:                                                                                            \n",
    "nombre_lista.append(elemento) # agrega un nuevo elemento al final de la lista.                                                             \n",
    "nombre_lista.insert(indice, elemento)"
   ]
  },
  {
   "cell_type": "code",
   "execution_count": null,
   "id": "36e68f55",
   "metadata": {},
   "outputs": [],
   "source": [
    "numeros_primos.append(13)\n",
    "print(numeros_primos[5])\n",
    "print(numeros_primos)\n",
    "print()\n",
    "\n",
    "numeros_primos.insert(2,3.14)\n",
    "print(numeros_primos[2])\n",
    "print(numeros_primos)"
   ]
  },
  {
   "cell_type": "markdown",
   "id": "00096c66",
   "metadata": {},
   "source": [
    "## 3.1.3. Eliminar elementos  y longitud de una Listas\n",
    "\n",
    "Para realizarlos usamos las sintaxis: \n",
    "\n",
    "del nombre_lista[indice]\n",
    "\n",
    "len(nombre_lista)\n",
    "\n",
    "Otra operación frecuente sobre listas es  obtener el número de elementos que  contiene. \n",
    "Lo conseguimos vía la instrucción  len(nombre_lista).\n"
   ]
  },
  {
   "cell_type": "code",
   "execution_count": null,
   "id": "817696d1",
   "metadata": {},
   "outputs": [],
   "source": [
    "del numeros_primos[2]\n",
    "print(numeros_primos[2])\n",
    "print(numeros_primos)\n",
    "print('-------------------------------')\n",
    "print(len(numeros_primos))"
   ]
  },
  {
   "cell_type": "markdown",
   "id": "7ecd5f44",
   "metadata": {},
   "source": [
    "## 3.1.4. Accede al último elemento.\n",
    "Existe una relación entre el número o la  cantidad de elemento de una lista y \n",
    "la  posición del último elemento. Puesto que los  índices comienzan del cero, \n",
    "es evidente que  el último será len(nombre_lista) - 1."
   ]
  },
  {
   "cell_type": "code",
   "execution_count": null,
   "id": "35a201db",
   "metadata": {},
   "outputs": [],
   "source": [
    "print(numeros_primos[len(numeros_primos) - 2] ) \n",
    "print('-------------------------------')\n",
    "print(numeros_primos[3])\n",
    "print('-------------------------------')  \n",
    "print(numeros_primos[2 + 1])\n",
    "print('-------------------------------')\n",
    "indice = 3\n",
    "print(numeros_primos[indice])"
   ]
  },
  {
   "cell_type": "markdown",
   "id": "0e784cde",
   "metadata": {},
   "source": [
    "## 3.2. Tuplas\n",
    "\n",
    "En Python, una tupla es un conjunto  ordenado e inmutable de elementos de  este o de diferente tipo. \n",
    "Se representan  escribiendo los elementos entre paréntesis  y separados por comas. \n",
    "Se accede por el  índice, al igual que sucedía en las listas.\n",
    "Las tuplas no permiten asignación  de ítems, y tampoco tienen métodos"
   ]
  },
  {
   "cell_type": "code",
   "execution_count": null,
   "id": "4a7f9dfb",
   "metadata": {},
   "outputs": [],
   "source": [
    "datos = (10,\"Hola\",5.5,True)\n",
    "print(type(datos))"
   ]
  },
  {
   "cell_type": "code",
   "execution_count": null,
   "id": "e0c732a3",
   "metadata": {},
   "outputs": [],
   "source": [
    "mi_lista = [1,2,3]\n",
    "print(type(mi_lista))\n",
    "print(mi_lista)\n",
    "print('-------------------------------')\n",
    "mi_tupla = (3,4,5)\n",
    "print(type(mi_tupla))"
   ]
  },
  {
   "cell_type": "code",
   "execution_count": null,
   "id": "115de720",
   "metadata": {},
   "outputs": [],
   "source": [
    "# Listas vs Tuplas en Python\n",
    "\n",
    "# LISTAS son mutables\n",
    "mi_lista[1] = 'two'\n",
    "mi_lista.append('four')\n",
    "print(mi_lista)\n",
    "print('-------------------------------')\n",
    "# TUPLAS son inmutables\n",
    "#mi_tupla[1] = 'two'\n",
    "mi_tupla.append('four')\n"
   ]
  },
  {
   "cell_type": "markdown",
   "id": "65997127",
   "metadata": {},
   "source": [
    "La diferencia cultural trata de como se utilizan realmente las listas y las tuplas: \n",
    "las listas se utilizan cuando se tiene una secuencia homogénea de longitud desconocida, \n",
    "las tuplas se utilizan cuando se conoce el número de elementos de antemano debido a que \n",
    "la posición del elemento es semánticamente significativa\n",
    "\n",
    "Por ejemplo, supongamos tenemos una función que dentro de un directorio nos devuelve todos los archivos .py (*.py). \n",
    "Esto se debería devolver en una lista, porque no sabemos cuantos archivos podemos encontrar.\n",
    "\n",
    "Por otra parte, supongamos que necesitamos almacenar 5 valores para representar la ubicación \n",
    "de las estaciones de observación meteorológicas: id, city, state, latitude y longitude. \n",
    "Una tupla es lo más adecuado para esto en lugar de una lista"
   ]
  },
  {
   "cell_type": "markdown",
   "id": "8292a609",
   "metadata": {},
   "source": [
    "## 3.3. Diccionarios\n",
    "\n",
    "Los diccionarios son colecciones, al igual  que las listas, pero sus elementos (o valores)  \n",
    "no están ordenados ni asociados a un  índice, sino a una clave. \n",
    "Entonces, decimos  que los miembros de un diccionario que  son pares de clave-valor.\n",
    "Para crear un diccionario vamos a emplear  llaves y separar sus miembros por comas,  \n",
    "que a su vez serán pares de una clave y un  valor separados por dos puntos.\n",
    "El siguiente código crea un diccionario de nombre  alumno1 cuyas claves son \"nombre\" y  \"cursos\", \n",
    "y sus valores, respectivamente,  \"Pablo\" y 3. \n",
    "Los valores de un diccionario  pueden ser de cualquier tipo de dato,  incluidos otros diccionarios y listas."
   ]
  },
  {
   "cell_type": "code",
   "execution_count": null,
   "id": "fa9272c1",
   "metadata": {},
   "outputs": [],
   "source": [
    "alumno1 = {\"nombre\": \"Pablo\", \"cursos\": 3}\n",
    "\n",
    "# Para acceder a los valores\n",
    "\n",
    "print(alumno1[\"nombre\"])  \n",
    "print(alumno1[\"cursos\"])\n",
    "\n",
    "print('-------------------------------')\n",
    "# Para cambiar los valores\n",
    "\n",
    "alumno1[\"cursos\"] = 4\n",
    "print(alumno1[\"cursos\"])\n",
    "\n",
    "\n",
    "# Para crear nuevos pares CLAVE:VALOR\n",
    "\n",
    "alumno1[\"curso_actual\"] = \"Python\"\n",
    "print(alumno1[\"curso_actual\"])\n",
    "print('-------------------------------')\n",
    "print(alumno1)"
   ]
  },
  {
   "cell_type": "markdown",
   "id": "82b121ae",
   "metadata": {},
   "source": [
    "# 4. Operadores"
   ]
  },
  {
   "cell_type": "markdown",
   "id": "a9fbe495",
   "metadata": {},
   "source": [
    "## 4.1. Operadores aritméticos\n",
    "Estas cuatro operaciones aritméticas retornan un entero  \n",
    "cuando los dos objetos sobre los que actúan son enteros.  \n",
    "Si alguno de ellos es un número de coma flotante, o bien  ambos, \n",
    "el resultado es un número de coma flotante. \n",
    "\n",
    "De  esto se sigue que pi - pi retorne 0.0 (un número de coma  flotante) y no 0 (un número entero)."
   ]
  },
  {
   "cell_type": "code",
   "execution_count": null,
   "id": "cad36bc2",
   "metadata": {},
   "outputs": [],
   "source": [
    "# +\tSuma los valores de tipo numérico\t\n",
    "print(5+2)\n",
    "# –\tResta los valores de tipo numérico\t\n",
    "print(5-2)\n",
    "\n",
    "# – Asigna un valor negativo a un dato numérico\t\n",
    "print(-5)\n",
    "\n",
    "# *\tMultiplica los valores de tipo numérico\t\n",
    "print(5*2)\n",
    "\n",
    "# /\tDivide los valores de tipo numérico\t\n",
    "print(5/2)\n",
    "\n",
    "# %\tDevuelve el resto de la división entre los valores de tipo numérico\t\n",
    "print(13%2)\n",
    "\n",
    "#  //\tDevuelve el cociente de la división entre los valores de tipo numérico\t\n",
    "print(13//2)\n",
    "\n",
    "# **\tCalcula el exponente entre valores de tipo numérico\n",
    "print(5**2)\n",
    "\n",
    "\n",
    "pi = 3.14\n",
    "print(pi-pi)"
   ]
  },
  {
   "cell_type": "markdown",
   "id": "2a7f770c",
   "metadata": {},
   "source": [
    "## 4.2. Operadores de Comparacion\n",
    "Son los que utilizamos para comparar dos valores. \n",
    "Devuelve un valor booleano (true o false) dependiendo de la condición."
   ]
  },
  {
   "cell_type": "code",
   "execution_count": null,
   "id": "a191e2d0",
   "metadata": {},
   "outputs": [],
   "source": [
    "# ==\tCompara los valores para ver si son iguales\t\n",
    "print(5==2)                               \n",
    "# != Compara los valores para ver si son distintos\t\n",
    "print(5!=2) \n",
    "\n",
    "# <\tCompara que el valor situado a la izquierda sea menor que el situado a la derecha\n",
    "print(5<2) \n",
    "\n",
    "# >\tCompara que el valor situado a la izquierda sea mayor que el situado a la derecha\t\n",
    "print(5>2)  \n",
    "\n",
    "# <= Compara que el valor situado a la izquierda sea menor o igual que el situado a la derecha\n",
    "print(5<=2) \n",
    "\n",
    "# >= Compara que el valor situado a la izquierda sea mayor o igual que el situado a la derecha\n",
    "print(5>=2) \n"
   ]
  },
  {
   "cell_type": "markdown",
   "id": "819738ec",
   "metadata": {},
   "source": [
    "Los operadores >, >=, < y <= sólo pueden aplicarse sobre  números enteros o de coma flotante; \n",
    "no obstante, los  operadores de igualdad y desigualdad permiten comparar indistintamente cualquiera de los cuatro tipos de dato  básicos "
   ]
  },
  {
   "cell_type": "code",
   "execution_count": null,
   "id": "66acfe7e",
   "metadata": {},
   "outputs": [],
   "source": [
    "print(\"Hola mundo\" == 3.14) \n",
    "\n",
    "print(3.14 != True)\n",
    "\n",
    "print(\"Hola\" != \"mundo\")  \n"
   ]
  },
  {
   "cell_type": "markdown",
   "id": "dbc8a681",
   "metadata": {},
   "source": [
    "## 4.3. Operadores Logicos (Booleanos)\n",
    "**and** Comprueba que el valor izquierdo y derecho se cumple\t\n",
    "True and False\n",
    "\n",
    "**or** Comprueba que el valor izquierdo o el derecho se cumple  \n",
    "True or False\n",
    "\n",
    "**not** Devuelve el valor contrario al valor booleano\t\n",
    "not True"
   ]
  },
  {
   "cell_type": "code",
   "execution_count": null,
   "id": "d5a89450",
   "metadata": {},
   "outputs": [],
   "source": [
    "#and\n",
    "print(True and True)\n",
    "\n",
    "#or\n",
    "print(True or False)\n",
    "\n",
    "#not\n",
    "print(not True)"
   ]
  },
  {
   "cell_type": "markdown",
   "id": "14a6aefe",
   "metadata": {},
   "source": [
    "## 4.4. Conjunción\n",
    "¿Cómo puedo determinar si **X** es mayor a 1 y  menor a 10, o, lo que es lo mismo, si **X** se  encuentra entre 1 y 10? \n",
    "Necesito combinar dos  operaciones de comparación.    \n",
    "La conjuncion nos permite  saber si ambas comparaciones son verdaderas"
   ]
  },
  {
   "cell_type": "code",
   "execution_count": null,
   "id": "9fd2cd0a",
   "metadata": {},
   "outputs": [],
   "source": [
    "X = 12\n",
    "X > 1 and X < 10"
   ]
  },
  {
   "cell_type": "markdown",
   "id": "af8981aa",
   "metadata": {},
   "source": [
    "## 4.5. Disyunción\n",
    "La disyunción nos permite  saber si alguna de dos comparaciones es verdadera"
   ]
  },
  {
   "cell_type": "code",
   "execution_count": null,
   "id": "96dc6a47",
   "metadata": {},
   "outputs": [],
   "source": [
    "X = 1\n",
    "X == 1 or X == 10"
   ]
  },
  {
   "cell_type": "markdown",
   "id": "7fa04aea",
   "metadata": {},
   "source": [
    "## 4.6 Negación\n",
    "La negación, que ejecutamos con la palabra  reservada not, invierte el valor lógico de un  booleano."
   ]
  },
  {
   "cell_type": "code",
   "execution_count": null,
   "id": "10bed054",
   "metadata": {},
   "outputs": [],
   "source": [
    "# Otros ejemplos, expresiones equivalentes\n",
    "\n",
    "print(pi != 3.14)\n",
    "\n",
    "print(not pi == 3.14)  "
   ]
  },
  {
   "cell_type": "markdown",
   "id": "3745c9b6",
   "metadata": {},
   "source": [
    "## 4.7. Operadores de Pertenencia\n",
    "En Python los operadores IN y NOT IN se llaman operadores  de pertenencia, se usan para  determinar si las variables se encuentran en una colección  (lista, tupla y diccionario) o no.   \n",
    "**in**: devuelve True cuando el valor está presente en la  secuencia.   \n",
    "**not in**: devuelve True cuando el valor no está presente  en la secuencia."
   ]
  },
  {
   "cell_type": "code",
   "execution_count": null,
   "id": "4e02d96b",
   "metadata": {},
   "outputs": [],
   "source": [
    "# En las listas se pregunta directamente  por el elemento(item).\n",
    "\n",
    "nombres = [\"Juan\",\"Tomas\",\"Susana\"]\n",
    "\n",
    "\"Susana\" in nombres  \n",
    "\n",
    "\"Alejandro\" in nombres  \n",
    "\n",
    "# En los diccionarios se pregunta por el key.\n",
    "\n",
    "alumnos = {\"Juan\":5,\"Florencia\":10,\"Horacio\":1}\n",
    "\n",
    "\"Juan\" in alumnos  \n",
    "\n",
    "\"Victoria\" in alumnos  \n",
    "\n",
    "\"Florencia\" not in alumnos  \n",
    "\n",
    "\"Esteban\" not in alumnos  \n"
   ]
  },
  {
   "cell_type": "markdown",
   "id": "19ec0cbe",
   "metadata": {},
   "source": [
    "## 4.8. Operadores de Identidad\n",
    "Los operadores de identidad **is** e **is not** permiten evaluar  si los operandos son el mismo objeto en la memoria, lo que  internamente se determina usando la función **id()**.     \n",
    "Esto es útil para saber si dos variables apuntan al mismo  objeto en la memoria o no, ya que el operador **==** sólo  compara si los operandos, que pueden ser objetos distintos,  tienen el mismo valor o no."
   ]
  },
  {
   "cell_type": "code",
   "execution_count": null,
   "id": "172c198c",
   "metadata": {},
   "outputs": [],
   "source": [
    "lista1 = [1,2,3]\n",
    "lista2 = lista1\n",
    "print(lista1 == lista2, lista1 is lista2)\n",
    "print('-----------------------------------')\n",
    "lista1 = lista1.copy()\n",
    "print(lista1 == lista2, lista1 is lista2)"
   ]
  },
  {
   "cell_type": "markdown",
   "id": "e59342f9",
   "metadata": {},
   "source": [
    "## 5. Funciones incorporadas (built in)\n",
    "Python tiene una variedad de funciones incorporadas  para realizar distintos tipos de tareas sin la necesidad  de importarlas.\n",
    "Algunas son para construir y convertir entre:\n",
    "\n",
    "distintos tipos de datos como: int(), float(), complex(),  bool(), str(), list(), tuple(), dict(),  set(), frozenset()     \n",
    "\n",
    "para trabajar con números: round(), abs(), divmod())\n",
    "\n",
    "colecciones: len(), min(), max(), sorted(), reversed(), map(),  filter()  \n",
    "\n",
    "con el bucle for: range(), enumerate(), zip()\n",
    "\n",
    "Esto le da gran ﬂexibilidad al lenguaje.\n"
   ]
  },
  {
   "cell_type": "code",
   "execution_count": null,
   "id": "b29b2d6d",
   "metadata": {},
   "outputs": [],
   "source": [
    "a = 2.5\n",
    "print(type(a))\n",
    "print('--------------')\n",
    "a = int(a)\n",
    "print(type(a))"
   ]
  },
  {
   "cell_type": "code",
   "execution_count": null,
   "id": "2a90b54a",
   "metadata": {},
   "outputs": [],
   "source": [
    "print(type(int()))"
   ]
  },
  {
   "cell_type": "code",
   "execution_count": null,
   "id": "520101e4",
   "metadata": {},
   "outputs": [],
   "source": [
    "import statistics \n",
    "\n",
    "lista = [4, 1, 5,10]\n",
    "statistics.mean(lista)"
   ]
  },
  {
   "cell_type": "code",
   "execution_count": null,
   "id": "e12ef083",
   "metadata": {},
   "outputs": [],
   "source": [
    "from statistics import mean\n",
    "lista = [4,1,5,10]\n",
    "mean(lista)\n"
   ]
  },
  {
   "cell_type": "markdown",
   "id": "b9a50b1f",
   "metadata": {},
   "source": [
    "## 6. Métodos\n",
    "También se dispone de métodos para realizar acciones  sobre tipos de dato en particular. Por ejemplo, para  listas tenemos los métodos append, insert, copy,  pop, extend, etc. Distintos tipos de datos implementan  distintos métodos, extendiendo las funcionalidades\n",
    "del lenguaje.\n",
    "Para ver los métodos disponibles para un objeto en  Jupyter Notebook sólo hay que tipear el nombre de la  variable que referencia al objeto seguido de un punto y  luego apretar Tab. Se muestra una lista con los métodos  disponibles."
   ]
  },
  {
   "cell_type": "code",
   "execution_count": null,
   "id": "9eb5a2bc",
   "metadata": {},
   "outputs": [],
   "source": [
    "num = 1\n",
    "lista = [1,2,3]\n",
    "dicc = {'A': 3, 'B': 7}\n",
    "conj = {1,2,3}"
   ]
  },
  {
   "cell_type": "code",
   "execution_count": null,
   "id": "432ff004",
   "metadata": {},
   "outputs": [],
   "source": [
    "#num.\n",
    "#lista.\n",
    "#dicc.\n",
    "#conj.\n"
   ]
  },
  {
   "cell_type": "markdown",
   "id": "88ef69fb",
   "metadata": {},
   "source": [
    "## 7. Estructuras de control de flujo\n",
    "Las estructuras de control permiten controlar el ﬂujo  de ejecución de un programa, que de otro modo es de  arriba hacia abajo. Las más básicas son el condicional  y los bucles, aunque funciones y clases también son  estructuras de control.\n",
    "Las instrucciones que pertenecen al bloque de código  de la estructura se indica con sangría. Estas estructuras  se pueden combinar de diversas maneras y anidar unas  dentro de otras para obtener el resultado deseado."
   ]
  },
  {
   "cell_type": "markdown",
   "id": "5bf89b74",
   "metadata": {},
   "source": [
    "### 7.1.Condicional\n",
    "Permite decidir si se ejecuta un bloque de código o  no en base a una condición. Se utilizan las palabras  **if**, **elif** y **else** en distintas combinaciones. "
   ]
  },
  {
   "cell_type": "code",
   "execution_count": null,
   "id": "ff4674d9",
   "metadata": {},
   "outputs": [],
   "source": [
    "a = 5\n",
    "if a > 10:\n",
    "\tprint(\"a es mayor que 10.\")  \n",
    "else:\n",
    "\tprint(\"a es menor o igual que 10.\")"
   ]
  },
  {
   "cell_type": "markdown",
   "id": "c02fcadc",
   "metadata": {},
   "source": [
    "### 7.2. Bucle While\n",
    "El bucle while es un bucle condicional que  ejecuta un bloque de código siempre que la  condición se evalúe a True.\n",
    "Remarquemos que la condición puede ser  cualquier expresión, cuyo resultado se va a  convertir a booleano. "
   ]
  },
  {
   "cell_type": "code",
   "execution_count": 1,
   "id": "7ad06702",
   "metadata": {},
   "outputs": [
    {
     "name": "stdout",
     "output_type": "stream",
     "text": [
      "0\n",
      "1\n",
      "2\n",
      "3\n",
      "4\n"
     ]
    }
   ],
   "source": [
    "n = 0\n",
    "while n < 5:\n",
    "    print(n)\n",
    "    n = n + 1\n",
    "    "
   ]
  },
  {
   "cell_type": "code",
   "execution_count": 2,
   "id": "40da4f8a",
   "metadata": {},
   "outputs": [
    {
     "name": "stdout",
     "output_type": "stream",
     "text": [
      "Escriba un número positivo: -9\n",
      "¡Ha escrito un número negativo! Inténtelo de nuevo\n",
      "Escriba un número positivo: -7\n",
      "¡Ha escrito un número negativo! Inténtelo de nuevo\n",
      "Escriba un número positivo: 9\n",
      "Gracias por su colaboración\n"
     ]
    }
   ],
   "source": [
    "numero = int(input(\"Escriba un número positivo: \"))\n",
    "while numero < 0:\n",
    "    print(\"¡Ha escrito un número negativo! Inténtelo de nuevo\")\n",
    "    numero = int(input(\"Escriba un número positivo: \"))\n",
    "print(\"Gracias por su colaboración\")"
   ]
  },
  {
   "cell_type": "markdown",
   "id": "4852181b",
   "metadata": {},
   "source": [
    "### 7.3. Bucle For\n",
    "El bucle for permite iterar sobre cada uno de los elementos  de un iterable, como una lista, por ejemplo. El bucle recorre  cada elemento y lo asigna a una variable deﬁnida en el  propio bucle. Así, podemos hacer uso del elemento  reﬁriéndonos a la variable.\n"
   ]
  },
  {
   "cell_type": "code",
   "execution_count": 3,
   "id": "c51b3cde",
   "metadata": {},
   "outputs": [
    {
     "name": "stdout",
     "output_type": "stream",
     "text": [
      "Matias\n",
      "Jorge\n",
      "Martin\n",
      "Pablo\n"
     ]
    }
   ],
   "source": [
    "alumnos = [\"Matias\", \"Jorge\", \"Martin\", \"Pablo\"]\n",
    "for alumno in alumnos:\n",
    "    print(alumno)"
   ]
  },
  {
   "cell_type": "code",
   "execution_count": 4,
   "id": "0612c905",
   "metadata": {},
   "outputs": [
    {
     "name": "stdout",
     "output_type": "stream",
     "text": [
      "A\n",
      "M\n",
      "I\n",
      "G\n",
      "O\n"
     ]
    }
   ],
   "source": [
    "saludo = 'AMIGO'\n",
    "for i in saludo:\n",
    "    print(i)"
   ]
  },
  {
   "cell_type": "code",
   "execution_count": null,
   "id": "da7e2ab7",
   "metadata": {},
   "outputs": [],
   "source": []
  }
 ],
 "metadata": {
  "kernelspec": {
   "display_name": "Python 3 (ipykernel)",
   "language": "python",
   "name": "python3"
  },
  "language_info": {
   "codemirror_mode": {
    "name": "ipython",
    "version": 3
   },
   "file_extension": ".py",
   "mimetype": "text/x-python",
   "name": "python",
   "nbconvert_exporter": "python",
   "pygments_lexer": "ipython3",
   "version": "3.9.7"
  }
 },
 "nbformat": 4,
 "nbformat_minor": 5
}
