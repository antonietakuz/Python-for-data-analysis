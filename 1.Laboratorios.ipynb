{
 "cells": [
  {
   "cell_type": "markdown",
   "metadata": {},
   "source": [
    "# Laboratorio 1, Clase 2 - Resolución\n",
    "\n",
    "## Ejercicio1\n",
    "Construir una función que dado un iterable, devuelva un diccionario con las frecuencias de sus elementos"
   ]
  },
  {
   "cell_type": "code",
   "execution_count": 1,
   "metadata": {},
   "outputs": [],
   "source": [
    "def frecuencias(iterable):\n",
    "    contador = {}\n",
    "    for item in iterable:\n",
    "        if item in contador:\n",
    "            contador[item] += 1\n",
    "        else:\n",
    "            contador[item] = 1\n",
    "    return contador"
   ]
  },
  {
   "cell_type": "code",
   "execution_count": 2,
   "metadata": {},
   "outputs": [
    {
     "data": {
      "text/plain": [
       "{1: 3, 5: 2, 4: 2, 2: 1, 7: 1, 8: 2, 9: 1}"
      ]
     },
     "execution_count": 2,
     "metadata": {},
     "output_type": "execute_result"
    }
   ],
   "source": [
    "frecuencias([1,5,4,2,1,5,4,7,8,9,8,1])"
   ]
  },
  {
   "cell_type": "markdown",
   "metadata": {},
   "source": [
    "## Ejercicio 2\n",
    "Construir una función que se llame suma_acotados. Esta función debe tomar un número arbitrario de argumentos posicionales y un keyword argument llamado cota que por defecto debe tener el valor None. Si el argumento cota es None, debe sumar todos los números, si no debe sumar los números que se encuentren entre –cota y cota. \n",
    "\n"
   ]
  },
  {
   "cell_type": "code",
   "execution_count": 3,
   "metadata": {},
   "outputs": [],
   "source": [
    "def suma_acotados(*args, cota=None):\n",
    "    if cota == None:\n",
    "        suma = 0\n",
    "        for num in args:\n",
    "            suma += num\n",
    "    else:\n",
    "        suma = 0\n",
    "        for num in args:\n",
    "            if -cota <= num <= cota:\n",
    "                suma += num\n",
    "    return suma"
   ]
  },
  {
   "cell_type": "code",
   "execution_count": 4,
   "metadata": {},
   "outputs": [
    {
     "data": {
      "text/plain": [
       "63"
      ]
     },
     "execution_count": 4,
     "metadata": {},
     "output_type": "execute_result"
    }
   ],
   "source": [
    "suma_acotados(6,2,3,8,9,7,5,1,3,2,5,4,8)"
   ]
  },
  {
   "cell_type": "code",
   "execution_count": 5,
   "metadata": {},
   "outputs": [
    {
     "data": {
      "text/plain": [
       "25"
      ]
     },
     "execution_count": 5,
     "metadata": {},
     "output_type": "execute_result"
    }
   ],
   "source": [
    "suma_acotados(6,2,3,8,9,7,5,1,3,2,5,4,8, cota=5)"
   ]
  },
  {
   "cell_type": "code",
   "execution_count": null,
   "metadata": {},
   "outputs": [],
   "source": []
  },
  {
   "cell_type": "code",
   "execution_count": 6,
   "metadata": {},
   "outputs": [
    {
     "data": {
      "text/plain": [
       "[14, 21, 69, 9, 54, 41, 30]"
      ]
     },
     "execution_count": 6,
     "metadata": {},
     "output_type": "execute_result"
    }
   ],
   "source": [
    "def cuenta(x):\n",
    "    return x**2 +5\n",
    "\n",
    "nums = [3, 4, 8, 2, 7, 6, 5]\n",
    "\n",
    "resultado = []\n",
    "for num in nums:\n",
    "    resultado.append(cuenta(num))\n",
    "resultado"
   ]
  },
  {
   "cell_type": "code",
   "execution_count": 7,
   "metadata": {},
   "outputs": [
    {
     "data": {
      "text/plain": [
       "[14, 21, 69, 9, 54, 41, 30]"
      ]
     },
     "execution_count": 7,
     "metadata": {},
     "output_type": "execute_result"
    }
   ],
   "source": [
    "def aplicar(fun, lista):\n",
    "    resultado = []\n",
    "    for item in lista:\n",
    "        resultado.append(fun(item))\n",
    "    return resultado\n",
    "\n",
    "aplicar(cuenta, nums)"
   ]
  },
  {
   "cell_type": "markdown",
   "metadata": {},
   "source": [
    "# Laboratorio 2, Clase 2 - Resolución\n",
    "\n",
    "## Ejercicio 1\n",
    "Crear una función que dado un string cree una tupla con el string y la cantidad de caracteres del string. Luego, dada una lista de strings, crear otra lista con el resultado de aplicar la función a cada string:\n",
    "\n",
    "- Usando bucles\n",
    "- Usando listas por comprensión\n",
    "- Usando la función map"
   ]
  },
  {
   "cell_type": "code",
   "execution_count": 8,
   "metadata": {},
   "outputs": [],
   "source": [
    "def f(s):\n",
    "    return (s, len(s))"
   ]
  },
  {
   "cell_type": "code",
   "execution_count": 9,
   "metadata": {},
   "outputs": [],
   "source": [
    "palabras = [\"caja\", \"fruta\", \"camión\", \"planeta\", \"mar\"]"
   ]
  },
  {
   "cell_type": "code",
   "execution_count": 10,
   "metadata": {},
   "outputs": [
    {
     "data": {
      "text/plain": [
       "[('caja', 4), ('fruta', 5), ('camión', 6), ('planeta', 7), ('mar', 3)]"
      ]
     },
     "execution_count": 10,
     "metadata": {},
     "output_type": "execute_result"
    }
   ],
   "source": [
    "resultado = []\n",
    "for palabra in palabras:\n",
    "    resultado.append(f(palabra))\n",
    "resultado"
   ]
  },
  {
   "cell_type": "code",
   "execution_count": 11,
   "metadata": {},
   "outputs": [
    {
     "data": {
      "text/plain": [
       "[('caja', 4), ('fruta', 5), ('camión', 6), ('planeta', 7), ('mar', 3)]"
      ]
     },
     "execution_count": 11,
     "metadata": {},
     "output_type": "execute_result"
    }
   ],
   "source": [
    "[f(palabra) for palabra in palabras]"
   ]
  },
  {
   "cell_type": "code",
   "execution_count": 12,
   "metadata": {},
   "outputs": [
    {
     "data": {
      "text/plain": [
       "[('caja', 4), ('fruta', 5), ('camión', 6), ('planeta', 7), ('mar', 3)]"
      ]
     },
     "execution_count": 12,
     "metadata": {},
     "output_type": "execute_result"
    }
   ],
   "source": [
    "list(map(f, palabras))"
   ]
  },
  {
   "cell_type": "markdown",
   "metadata": {},
   "source": [
    "Dada una lista de números usar filter para seleccionar los números que estén en el rango [8,20] y sean pares.\n"
   ]
  },
  {
   "cell_type": "code",
   "execution_count": 13,
   "metadata": {},
   "outputs": [
    {
     "data": {
      "text/plain": [
       "[12, 16, 10]"
      ]
     },
     "execution_count": 13,
     "metadata": {},
     "output_type": "execute_result"
    }
   ],
   "source": [
    "numeros = [5,1,9,12,48,23,16,24,11,7,10]\n",
    "\n",
    "def filtro(x):\n",
    "    return 8<=x<=20 and x%2==0\n",
    "\n",
    "list(filter(filtro, numeros))"
   ]
  },
  {
   "cell_type": "markdown",
   "metadata": {},
   "source": [
    "# Laboratorio 3, Clase 2 - Resolución\n",
    "\n",
    "## Ejercicio 1\n",
    "\n",
    "Rehacer los ejercicios del laboratorio 2 usando funciones lambda."
   ]
  },
  {
   "cell_type": "code",
   "execution_count": 14,
   "metadata": {},
   "outputs": [
    {
     "data": {
      "text/plain": [
       "[('caja', 4), ('fruta', 5), ('camión', 6), ('planeta', 7), ('mar', 3)]"
      ]
     },
     "execution_count": 14,
     "metadata": {},
     "output_type": "execute_result"
    }
   ],
   "source": [
    "palabras = [\"caja\", \"fruta\", \"camión\", \"planeta\", \"mar\"]\n",
    "\n",
    "list(map(lambda x: (x, len(x)), palabras))"
   ]
  },
  {
   "cell_type": "code",
   "execution_count": 15,
   "metadata": {},
   "outputs": [
    {
     "data": {
      "text/plain": [
       "[12, 16, 10]"
      ]
     },
     "execution_count": 15,
     "metadata": {},
     "output_type": "execute_result"
    }
   ],
   "source": [
    "numeros = [5,1,9,12,48,23,16,24,11,7,10]\n",
    "\n",
    "list(filter(lambda x: 8<=x<=20 and x%2==0, numeros))"
   ]
  },
  {
   "cell_type": "markdown",
   "metadata": {},
   "source": [
    "## Ejercicio 2\n",
    "\n",
    "Dada una lista de strings, usar filter y lambda para seleccionar solamente los strings que tengan más de seis caracteres."
   ]
  },
  {
   "cell_type": "code",
   "execution_count": 16,
   "metadata": {},
   "outputs": [],
   "source": [
    "animales = [\"jirafa\", \"elefante\", \"perro\", \"cocodrilo\", \"gato\", \"ratón\", \"murciélago\"]"
   ]
  },
  {
   "cell_type": "code",
   "execution_count": 17,
   "metadata": {},
   "outputs": [
    {
     "data": {
      "text/plain": [
       "['elefante', 'cocodrilo', 'murciélago']"
      ]
     },
     "execution_count": 17,
     "metadata": {},
     "output_type": "execute_result"
    }
   ],
   "source": [
    "list(filter(lambda x: len(x)>6, animales))"
   ]
  },
  {
   "cell_type": "markdown",
   "metadata": {},
   "source": [
    "## Ejercicio 3\n",
    "\n",
    "Supongamos que tenemos una lista de tuplas en donde cada una contiene el nombre de un producto y el precio correspondiente (por ejemplo: `[(\"Campera\", 3500), (\"Mochila\", 2400), (\"Zapatillas\", 5200), (\"Jean\", 1600)]`). Ordenar los productos según su precio de mayor a menor usando sorted, map y funciones lambda"
   ]
  },
  {
   "cell_type": "code",
   "execution_count": 18,
   "metadata": {},
   "outputs": [],
   "source": [
    "productos = [(\"Campera\", 3500), (\"Mochila\", 2400), (\"Zapatillas\", 5200), (\"Jean\", 1600)]"
   ]
  },
  {
   "cell_type": "code",
   "execution_count": 19,
   "metadata": {},
   "outputs": [
    {
     "data": {
      "text/plain": [
       "['Zapatillas', 'Campera', 'Mochila', 'Jean']"
      ]
     },
     "execution_count": 19,
     "metadata": {},
     "output_type": "execute_result"
    }
   ],
   "source": [
    "list(map(lambda x: x[0], sorted(productos, key=lambda x: x[1], reverse=True)))"
   ]
  },
  {
   "cell_type": "markdown",
   "metadata": {},
   "source": [
    "Si resulta más cómodo puede dividirse en partes"
   ]
  },
  {
   "cell_type": "code",
   "execution_count": 20,
   "metadata": {},
   "outputs": [
    {
     "data": {
      "text/plain": [
       "['Zapatillas', 'Campera', 'Mochila', 'Jean']"
      ]
     },
     "execution_count": 20,
     "metadata": {},
     "output_type": "execute_result"
    }
   ],
   "source": [
    "tuplas_ordenadas = sorted(productos, key=lambda x: x[1], reverse=True)\n",
    "productos_ordenados = list(map(lambda x: x[0], tuplas_ordenadas))\n",
    "productos_ordenados"
   ]
  },
  {
   "cell_type": "markdown",
   "metadata": {},
   "source": [
    "También puede ordenarse la lista \"inplace\" a través del método `sort`"
   ]
  },
  {
   "cell_type": "code",
   "execution_count": 22,
   "metadata": {},
   "outputs": [
    {
     "data": {
      "text/plain": [
       "['Zapatillas', 'Campera', 'Mochila', 'Jean']"
      ]
     },
     "execution_count": 22,
     "metadata": {},
     "output_type": "execute_result"
    }
   ],
   "source": [
    "productos.sort( key=lambda x: x[1], reverse=True)\n",
    "list(map(lambda x: x[0], productos))"
   ]
  }
 ],
 "metadata": {
  "kernelspec": {
   "display_name": "Python 3 (ipykernel)",
   "language": "python",
   "name": "python3"
  },
  "language_info": {
   "codemirror_mode": {
    "name": "ipython",
    "version": 3
   },
   "file_extension": ".py",
   "mimetype": "text/x-python",
   "name": "python",
   "nbconvert_exporter": "python",
   "pygments_lexer": "ipython3",
   "version": "3.9.7"
  }
 },
 "nbformat": 4,
 "nbformat_minor": 4
}
