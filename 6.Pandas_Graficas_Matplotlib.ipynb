{
 "cells": [
  {
   "cell_type": "code",
   "execution_count": 1,
   "id": "6d7d65fd",
   "metadata": {},
   "outputs": [],
   "source": [
    "import pandas as pd\n",
    "import numpy as np\n",
    "import matplotlib.pyplot as plt"
   ]
  },
  {
   "cell_type": "markdown",
   "id": "35b3245a",
   "metadata": {},
   "source": [
    "# Modulo 4.- Pandas 4"
   ]
  },
  {
   "cell_type": "markdown",
   "id": "3a7a34ac",
   "metadata": {},
   "source": [
    "## 4.1. Operaciones aritméticas\n",
    "Cuando realizamos operaciones entre series o dataframes,  todas las operaciones son alineadas según las etiquetas  (recordemos que en numpy la alineación es por la posición).\n",
    "\n",
    "Consideremos dos series con la misma cantidad de  elementos pero que sólo comparten algunos índices. Si  realizamos la suma de las series los elementos, se van a  sumar sólo si comparten el mismo índice.\n",
    "\n",
    "En el caso de que haya índices que estén presentes en una  serie pero no en la otra, los elementos se van a completar  con NaN de modo que la nueva serie tenga todos los índices  de ambas series.\n"
   ]
  },
  {
   "cell_type": "code",
   "execution_count": 52,
   "id": "d822b725",
   "metadata": {},
   "outputs": [],
   "source": [
    "s1 = pd.Series([5, 7, 2, 8, 0, 1])\n",
    "s2 = pd.Series([17, 4, 1, 0, 0, 1], index = [3, 4, 5, 6, 7, 8])"
   ]
  },
  {
   "cell_type": "code",
   "execution_count": 54,
   "id": "712e611d",
   "metadata": {},
   "outputs": [
    {
     "data": {
      "text/plain": [
       "(0    5\n",
       " 1    7\n",
       " 2    2\n",
       " 3    8\n",
       " 4    0\n",
       " 5    1\n",
       " dtype: int64,\n",
       " 3    17\n",
       " 4     4\n",
       " 5     1\n",
       " 6     0\n",
       " 7     0\n",
       " 8     1\n",
       " dtype: int64)"
      ]
     },
     "execution_count": 54,
     "metadata": {},
     "output_type": "execute_result"
    }
   ],
   "source": [
    "s1,s2"
   ]
  },
  {
   "cell_type": "code",
   "execution_count": 55,
   "id": "fba3573a",
   "metadata": {},
   "outputs": [
    {
     "data": {
      "text/plain": [
       "0     NaN\n",
       "1     NaN\n",
       "2     NaN\n",
       "3    25.0\n",
       "4     4.0\n",
       "5     2.0\n",
       "6     NaN\n",
       "7     NaN\n",
       "8     NaN\n",
       "dtype: float64"
      ]
     },
     "execution_count": 55,
     "metadata": {},
     "output_type": "execute_result"
    }
   ],
   "source": [
    "s1 + s2"
   ]
  },
  {
   "cell_type": "markdown",
   "id": "d610bb85",
   "metadata": {},
   "source": [
    "## 4.1. Alineación\n",
    "Con dataframes la alineación sucede tanto en  ﬁlas como en columnas.\n"
   ]
  },
  {
   "cell_type": "code",
   "execution_count": 58,
   "id": "b1d709af",
   "metadata": {},
   "outputs": [],
   "source": [
    "array1 = np.random.randint(0, 50, (6,4))\n",
    "array2 = np.random.randint(0, 50, (6,4))"
   ]
  },
  {
   "cell_type": "code",
   "execution_count": 59,
   "id": "402af876",
   "metadata": {},
   "outputs": [
    {
     "data": {
      "text/plain": [
       "(array([[ 2, 31, 12,  6],\n",
       "        [47, 36, 44, 48],\n",
       "        [42, 22, 48, 15],\n",
       "        [ 8, 18, 11, 32],\n",
       "        [18, 47, 46,  6],\n",
       "        [35, 36, 48,  2]]),\n",
       " array([[ 4, 14, 38, 49],\n",
       "        [40, 13, 16, 13],\n",
       "        [48, 46, 36, 46],\n",
       "        [38, 26, 30, 37],\n",
       "        [ 2, 14, 27, 13],\n",
       "        [29, 20, 43, 29]]))"
      ]
     },
     "execution_count": 59,
     "metadata": {},
     "output_type": "execute_result"
    }
   ],
   "source": [
    "array1,array2"
   ]
  },
  {
   "cell_type": "code",
   "execution_count": 60,
   "id": "8340061d",
   "metadata": {},
   "outputs": [
    {
     "data": {
      "text/html": [
       "<div>\n",
       "<style scoped>\n",
       "    .dataframe tbody tr th:only-of-type {\n",
       "        vertical-align: middle;\n",
       "    }\n",
       "\n",
       "    .dataframe tbody tr th {\n",
       "        vertical-align: top;\n",
       "    }\n",
       "\n",
       "    .dataframe thead th {\n",
       "        text-align: right;\n",
       "    }\n",
       "</style>\n",
       "<table border=\"1\" class=\"dataframe\">\n",
       "  <thead>\n",
       "    <tr style=\"text-align: right;\">\n",
       "      <th></th>\n",
       "      <th>A</th>\n",
       "      <th>B</th>\n",
       "      <th>C</th>\n",
       "      <th>D</th>\n",
       "    </tr>\n",
       "  </thead>\n",
       "  <tbody>\n",
       "    <tr>\n",
       "      <th>0</th>\n",
       "      <td>2</td>\n",
       "      <td>31</td>\n",
       "      <td>12</td>\n",
       "      <td>6</td>\n",
       "    </tr>\n",
       "    <tr>\n",
       "      <th>1</th>\n",
       "      <td>47</td>\n",
       "      <td>36</td>\n",
       "      <td>44</td>\n",
       "      <td>48</td>\n",
       "    </tr>\n",
       "    <tr>\n",
       "      <th>2</th>\n",
       "      <td>42</td>\n",
       "      <td>22</td>\n",
       "      <td>48</td>\n",
       "      <td>15</td>\n",
       "    </tr>\n",
       "    <tr>\n",
       "      <th>3</th>\n",
       "      <td>8</td>\n",
       "      <td>18</td>\n",
       "      <td>11</td>\n",
       "      <td>32</td>\n",
       "    </tr>\n",
       "    <tr>\n",
       "      <th>4</th>\n",
       "      <td>18</td>\n",
       "      <td>47</td>\n",
       "      <td>46</td>\n",
       "      <td>6</td>\n",
       "    </tr>\n",
       "    <tr>\n",
       "      <th>5</th>\n",
       "      <td>35</td>\n",
       "      <td>36</td>\n",
       "      <td>48</td>\n",
       "      <td>2</td>\n",
       "    </tr>\n",
       "  </tbody>\n",
       "</table>\n",
       "</div>"
      ],
      "text/plain": [
       "    A   B   C   D\n",
       "0   2  31  12   6\n",
       "1  47  36  44  48\n",
       "2  42  22  48  15\n",
       "3   8  18  11  32\n",
       "4  18  47  46   6\n",
       "5  35  36  48   2"
      ]
     },
     "execution_count": 60,
     "metadata": {},
     "output_type": "execute_result"
    }
   ],
   "source": [
    "df1 = pd.DataFrame(array1, columns = ['A', 'B', 'C', 'D'] )\n",
    "df1"
   ]
  },
  {
   "cell_type": "code",
   "execution_count": 61,
   "id": "c67c8a25",
   "metadata": {},
   "outputs": [
    {
     "data": {
      "text/html": [
       "<div>\n",
       "<style scoped>\n",
       "    .dataframe tbody tr th:only-of-type {\n",
       "        vertical-align: middle;\n",
       "    }\n",
       "\n",
       "    .dataframe tbody tr th {\n",
       "        vertical-align: top;\n",
       "    }\n",
       "\n",
       "    .dataframe thead th {\n",
       "        text-align: right;\n",
       "    }\n",
       "</style>\n",
       "<table border=\"1\" class=\"dataframe\">\n",
       "  <thead>\n",
       "    <tr style=\"text-align: right;\">\n",
       "      <th></th>\n",
       "      <th>C</th>\n",
       "      <th>D</th>\n",
       "      <th>E</th>\n",
       "      <th>F</th>\n",
       "    </tr>\n",
       "  </thead>\n",
       "  <tbody>\n",
       "    <tr>\n",
       "      <th>3</th>\n",
       "      <td>4</td>\n",
       "      <td>14</td>\n",
       "      <td>38</td>\n",
       "      <td>49</td>\n",
       "    </tr>\n",
       "    <tr>\n",
       "      <th>4</th>\n",
       "      <td>40</td>\n",
       "      <td>13</td>\n",
       "      <td>16</td>\n",
       "      <td>13</td>\n",
       "    </tr>\n",
       "    <tr>\n",
       "      <th>5</th>\n",
       "      <td>48</td>\n",
       "      <td>46</td>\n",
       "      <td>36</td>\n",
       "      <td>46</td>\n",
       "    </tr>\n",
       "    <tr>\n",
       "      <th>6</th>\n",
       "      <td>38</td>\n",
       "      <td>26</td>\n",
       "      <td>30</td>\n",
       "      <td>37</td>\n",
       "    </tr>\n",
       "    <tr>\n",
       "      <th>7</th>\n",
       "      <td>2</td>\n",
       "      <td>14</td>\n",
       "      <td>27</td>\n",
       "      <td>13</td>\n",
       "    </tr>\n",
       "    <tr>\n",
       "      <th>8</th>\n",
       "      <td>29</td>\n",
       "      <td>20</td>\n",
       "      <td>43</td>\n",
       "      <td>29</td>\n",
       "    </tr>\n",
       "  </tbody>\n",
       "</table>\n",
       "</div>"
      ],
      "text/plain": [
       "    C   D   E   F\n",
       "3   4  14  38  49\n",
       "4  40  13  16  13\n",
       "5  48  46  36  46\n",
       "6  38  26  30  37\n",
       "7   2  14  27  13\n",
       "8  29  20  43  29"
      ]
     },
     "execution_count": 61,
     "metadata": {},
     "output_type": "execute_result"
    }
   ],
   "source": [
    "df2 = pd.DataFrame(array2, index = [3, 4, 5, 6, 7, 8], columns = ['C', 'D', 'E', 'F'] )\n",
    "df2"
   ]
  },
  {
   "cell_type": "code",
   "execution_count": 62,
   "id": "63bdc689",
   "metadata": {},
   "outputs": [
    {
     "data": {
      "text/html": [
       "<div>\n",
       "<style scoped>\n",
       "    .dataframe tbody tr th:only-of-type {\n",
       "        vertical-align: middle;\n",
       "    }\n",
       "\n",
       "    .dataframe tbody tr th {\n",
       "        vertical-align: top;\n",
       "    }\n",
       "\n",
       "    .dataframe thead th {\n",
       "        text-align: right;\n",
       "    }\n",
       "</style>\n",
       "<table border=\"1\" class=\"dataframe\">\n",
       "  <thead>\n",
       "    <tr style=\"text-align: right;\">\n",
       "      <th></th>\n",
       "      <th>A</th>\n",
       "      <th>B</th>\n",
       "      <th>C</th>\n",
       "      <th>D</th>\n",
       "      <th>E</th>\n",
       "      <th>F</th>\n",
       "    </tr>\n",
       "  </thead>\n",
       "  <tbody>\n",
       "    <tr>\n",
       "      <th>0</th>\n",
       "      <td>NaN</td>\n",
       "      <td>NaN</td>\n",
       "      <td>NaN</td>\n",
       "      <td>NaN</td>\n",
       "      <td>NaN</td>\n",
       "      <td>NaN</td>\n",
       "    </tr>\n",
       "    <tr>\n",
       "      <th>1</th>\n",
       "      <td>NaN</td>\n",
       "      <td>NaN</td>\n",
       "      <td>NaN</td>\n",
       "      <td>NaN</td>\n",
       "      <td>NaN</td>\n",
       "      <td>NaN</td>\n",
       "    </tr>\n",
       "    <tr>\n",
       "      <th>2</th>\n",
       "      <td>NaN</td>\n",
       "      <td>NaN</td>\n",
       "      <td>NaN</td>\n",
       "      <td>NaN</td>\n",
       "      <td>NaN</td>\n",
       "      <td>NaN</td>\n",
       "    </tr>\n",
       "    <tr>\n",
       "      <th>3</th>\n",
       "      <td>NaN</td>\n",
       "      <td>NaN</td>\n",
       "      <td>15.0</td>\n",
       "      <td>46.0</td>\n",
       "      <td>NaN</td>\n",
       "      <td>NaN</td>\n",
       "    </tr>\n",
       "    <tr>\n",
       "      <th>4</th>\n",
       "      <td>NaN</td>\n",
       "      <td>NaN</td>\n",
       "      <td>86.0</td>\n",
       "      <td>19.0</td>\n",
       "      <td>NaN</td>\n",
       "      <td>NaN</td>\n",
       "    </tr>\n",
       "    <tr>\n",
       "      <th>5</th>\n",
       "      <td>NaN</td>\n",
       "      <td>NaN</td>\n",
       "      <td>96.0</td>\n",
       "      <td>48.0</td>\n",
       "      <td>NaN</td>\n",
       "      <td>NaN</td>\n",
       "    </tr>\n",
       "    <tr>\n",
       "      <th>6</th>\n",
       "      <td>NaN</td>\n",
       "      <td>NaN</td>\n",
       "      <td>NaN</td>\n",
       "      <td>NaN</td>\n",
       "      <td>NaN</td>\n",
       "      <td>NaN</td>\n",
       "    </tr>\n",
       "    <tr>\n",
       "      <th>7</th>\n",
       "      <td>NaN</td>\n",
       "      <td>NaN</td>\n",
       "      <td>NaN</td>\n",
       "      <td>NaN</td>\n",
       "      <td>NaN</td>\n",
       "      <td>NaN</td>\n",
       "    </tr>\n",
       "    <tr>\n",
       "      <th>8</th>\n",
       "      <td>NaN</td>\n",
       "      <td>NaN</td>\n",
       "      <td>NaN</td>\n",
       "      <td>NaN</td>\n",
       "      <td>NaN</td>\n",
       "      <td>NaN</td>\n",
       "    </tr>\n",
       "  </tbody>\n",
       "</table>\n",
       "</div>"
      ],
      "text/plain": [
       "    A   B     C     D   E   F\n",
       "0 NaN NaN   NaN   NaN NaN NaN\n",
       "1 NaN NaN   NaN   NaN NaN NaN\n",
       "2 NaN NaN   NaN   NaN NaN NaN\n",
       "3 NaN NaN  15.0  46.0 NaN NaN\n",
       "4 NaN NaN  86.0  19.0 NaN NaN\n",
       "5 NaN NaN  96.0  48.0 NaN NaN\n",
       "6 NaN NaN   NaN   NaN NaN NaN\n",
       "7 NaN NaN   NaN   NaN NaN NaN\n",
       "8 NaN NaN   NaN   NaN NaN NaN"
      ]
     },
     "execution_count": 62,
     "metadata": {},
     "output_type": "execute_result"
    }
   ],
   "source": [
    "df1 + df2"
   ]
  },
  {
   "cell_type": "markdown",
   "id": "ce679bfc",
   "metadata": {},
   "source": [
    "## 4.2. Operaciones\n",
    "Podemos operar entre dos columnas de un  dataframe. En este caso se comparte el índice, por  lo que todos los datos se encuentran alineados.\n",
    "\n",
    "Sólo si alguno de los valores es NaN el resultado  correspondiente también lo será.\n",
    "Estas operaciones generan una nueva serie, que  se puede usar para crear una nueva columna en el  dataframe o para reemplazar una existente. Esto  se logra con una asignación directa.\n"
   ]
  },
  {
   "cell_type": "code",
   "execution_count": 63,
   "id": "1a97d77e",
   "metadata": {},
   "outputs": [
    {
     "data": {
      "text/plain": [
       "0    33\n",
       "1    83\n",
       "2    64\n",
       "3    26\n",
       "4    65\n",
       "5    71\n",
       "dtype: int32"
      ]
     },
     "execution_count": 63,
     "metadata": {},
     "output_type": "execute_result"
    }
   ],
   "source": [
    "df1['A'] + df1['B']"
   ]
  },
  {
   "cell_type": "code",
   "execution_count": 64,
   "id": "b4ab5ac6",
   "metadata": {},
   "outputs": [
    {
     "data": {
      "text/html": [
       "<div>\n",
       "<style scoped>\n",
       "    .dataframe tbody tr th:only-of-type {\n",
       "        vertical-align: middle;\n",
       "    }\n",
       "\n",
       "    .dataframe tbody tr th {\n",
       "        vertical-align: top;\n",
       "    }\n",
       "\n",
       "    .dataframe thead th {\n",
       "        text-align: right;\n",
       "    }\n",
       "</style>\n",
       "<table border=\"1\" class=\"dataframe\">\n",
       "  <thead>\n",
       "    <tr style=\"text-align: right;\">\n",
       "      <th></th>\n",
       "      <th>A</th>\n",
       "      <th>B</th>\n",
       "      <th>C</th>\n",
       "      <th>D</th>\n",
       "      <th>E</th>\n",
       "    </tr>\n",
       "  </thead>\n",
       "  <tbody>\n",
       "    <tr>\n",
       "      <th>0</th>\n",
       "      <td>2</td>\n",
       "      <td>31</td>\n",
       "      <td>12</td>\n",
       "      <td>6</td>\n",
       "      <td>33</td>\n",
       "    </tr>\n",
       "    <tr>\n",
       "      <th>1</th>\n",
       "      <td>47</td>\n",
       "      <td>36</td>\n",
       "      <td>44</td>\n",
       "      <td>48</td>\n",
       "      <td>83</td>\n",
       "    </tr>\n",
       "    <tr>\n",
       "      <th>2</th>\n",
       "      <td>42</td>\n",
       "      <td>22</td>\n",
       "      <td>48</td>\n",
       "      <td>15</td>\n",
       "      <td>64</td>\n",
       "    </tr>\n",
       "    <tr>\n",
       "      <th>3</th>\n",
       "      <td>8</td>\n",
       "      <td>18</td>\n",
       "      <td>11</td>\n",
       "      <td>32</td>\n",
       "      <td>26</td>\n",
       "    </tr>\n",
       "    <tr>\n",
       "      <th>4</th>\n",
       "      <td>18</td>\n",
       "      <td>47</td>\n",
       "      <td>46</td>\n",
       "      <td>6</td>\n",
       "      <td>65</td>\n",
       "    </tr>\n",
       "    <tr>\n",
       "      <th>5</th>\n",
       "      <td>35</td>\n",
       "      <td>36</td>\n",
       "      <td>48</td>\n",
       "      <td>2</td>\n",
       "      <td>71</td>\n",
       "    </tr>\n",
       "  </tbody>\n",
       "</table>\n",
       "</div>"
      ],
      "text/plain": [
       "    A   B   C   D   E\n",
       "0   2  31  12   6  33\n",
       "1  47  36  44  48  83\n",
       "2  42  22  48  15  64\n",
       "3   8  18  11  32  26\n",
       "4  18  47  46   6  65\n",
       "5  35  36  48   2  71"
      ]
     },
     "execution_count": 64,
     "metadata": {},
     "output_type": "execute_result"
    }
   ],
   "source": [
    "# creacion de una nueva columna\n",
    "df1['E'] = df1['A'] + df1['B']\n",
    "\n",
    "df1"
   ]
  },
  {
   "cell_type": "code",
   "execution_count": 65,
   "id": "744904b9",
   "metadata": {},
   "outputs": [
    {
     "data": {
      "text/html": [
       "<div>\n",
       "<style scoped>\n",
       "    .dataframe tbody tr th:only-of-type {\n",
       "        vertical-align: middle;\n",
       "    }\n",
       "\n",
       "    .dataframe tbody tr th {\n",
       "        vertical-align: top;\n",
       "    }\n",
       "\n",
       "    .dataframe thead th {\n",
       "        text-align: right;\n",
       "    }\n",
       "</style>\n",
       "<table border=\"1\" class=\"dataframe\">\n",
       "  <thead>\n",
       "    <tr style=\"text-align: right;\">\n",
       "      <th></th>\n",
       "      <th>A</th>\n",
       "      <th>B</th>\n",
       "      <th>C</th>\n",
       "      <th>D</th>\n",
       "      <th>E</th>\n",
       "    </tr>\n",
       "  </thead>\n",
       "  <tbody>\n",
       "    <tr>\n",
       "      <th>0</th>\n",
       "      <td>2</td>\n",
       "      <td>31</td>\n",
       "      <td>12</td>\n",
       "      <td>6</td>\n",
       "      <td>18</td>\n",
       "    </tr>\n",
       "    <tr>\n",
       "      <th>1</th>\n",
       "      <td>47</td>\n",
       "      <td>36</td>\n",
       "      <td>44</td>\n",
       "      <td>48</td>\n",
       "      <td>92</td>\n",
       "    </tr>\n",
       "    <tr>\n",
       "      <th>2</th>\n",
       "      <td>42</td>\n",
       "      <td>22</td>\n",
       "      <td>48</td>\n",
       "      <td>15</td>\n",
       "      <td>63</td>\n",
       "    </tr>\n",
       "    <tr>\n",
       "      <th>3</th>\n",
       "      <td>8</td>\n",
       "      <td>18</td>\n",
       "      <td>11</td>\n",
       "      <td>32</td>\n",
       "      <td>43</td>\n",
       "    </tr>\n",
       "    <tr>\n",
       "      <th>4</th>\n",
       "      <td>18</td>\n",
       "      <td>47</td>\n",
       "      <td>46</td>\n",
       "      <td>6</td>\n",
       "      <td>52</td>\n",
       "    </tr>\n",
       "    <tr>\n",
       "      <th>5</th>\n",
       "      <td>35</td>\n",
       "      <td>36</td>\n",
       "      <td>48</td>\n",
       "      <td>2</td>\n",
       "      <td>50</td>\n",
       "    </tr>\n",
       "  </tbody>\n",
       "</table>\n",
       "</div>"
      ],
      "text/plain": [
       "    A   B   C   D   E\n",
       "0   2  31  12   6  18\n",
       "1  47  36  44  48  92\n",
       "2  42  22  48  15  63\n",
       "3   8  18  11  32  43\n",
       "4  18  47  46   6  52\n",
       "5  35  36  48   2  50"
      ]
     },
     "execution_count": 65,
     "metadata": {},
     "output_type": "execute_result"
    }
   ],
   "source": [
    "# reasignacion de columna existente\n",
    "df1['E'] = df1['C'] + df1['D']\n",
    "df1"
   ]
  },
  {
   "cell_type": "markdown",
   "id": "fa33f269",
   "metadata": {},
   "source": [
    "## 4.3. Metodos asociados\n",
    "Todos los operadores tienen métodos asociados que permiten  realizar la misma operación. Sin embargo, los métodos ofrecen  la posibilidad de controlar ciertos parámetros, dando más  ﬂexibilidad a la hora de hacer las operaciones.\n",
    "\n",
    "Por ejemplo, el parámetro fill_value completa los NaN  existentes en los objetos antes de la operación. También utiliza  este valor para cualquier alineación que sea necesaria (en caso  de que no exista la etiqueta en una de las estructuras).\n",
    "\n",
    "![imagen](metodos.png)"
   ]
  },
  {
   "cell_type": "code",
   "execution_count": 66,
   "id": "2346cebb",
   "metadata": {},
   "outputs": [
    {
     "data": {
      "text/plain": [
       "0     NaN\n",
       "1     NaN\n",
       "2     NaN\n",
       "3    25.0\n",
       "4     4.0\n",
       "5     2.0\n",
       "6     NaN\n",
       "7     NaN\n",
       "8     NaN\n",
       "dtype: float64"
      ]
     },
     "execution_count": 66,
     "metadata": {},
     "output_type": "execute_result"
    }
   ],
   "source": [
    "s1.add(s2)"
   ]
  },
  {
   "cell_type": "code",
   "execution_count": 67,
   "id": "fb31014a",
   "metadata": {},
   "outputs": [
    {
     "data": {
      "text/plain": [
       "0     5.0\n",
       "1     7.0\n",
       "2     2.0\n",
       "3    25.0\n",
       "4     4.0\n",
       "5     2.0\n",
       "6     0.0\n",
       "7     0.0\n",
       "8     1.0\n",
       "dtype: float64"
      ]
     },
     "execution_count": 67,
     "metadata": {},
     "output_type": "execute_result"
    }
   ],
   "source": [
    "s1.add(s2, fill_value = 0)"
   ]
  },
  {
   "cell_type": "markdown",
   "id": "f299c5e8",
   "metadata": {},
   "source": [
    "Los métodos asociados también permiten controlar cómo se  realiza el **broadcasting** entre dataframes y series.\n",
    "En este caso la alineación por defecto es por columnas, es decir  que al hacer la operación se van a comparar los índices de la  serie con las columnas del dataframe. Si sumamos directamente  un dataframe con una de sus columnas (y los índices de las ﬁlas  son distintos de las columnas), ningún dato se va a encontrar  alineado. Para controlar que la alineación se haga por ﬁlas  podemos usar el método con el parámetro axis = index."
   ]
  },
  {
   "cell_type": "code",
   "execution_count": 68,
   "id": "e3b869f1",
   "metadata": {},
   "outputs": [
    {
     "data": {
      "text/html": [
       "<div>\n",
       "<style scoped>\n",
       "    .dataframe tbody tr th:only-of-type {\n",
       "        vertical-align: middle;\n",
       "    }\n",
       "\n",
       "    .dataframe tbody tr th {\n",
       "        vertical-align: top;\n",
       "    }\n",
       "\n",
       "    .dataframe thead th {\n",
       "        text-align: right;\n",
       "    }\n",
       "</style>\n",
       "<table border=\"1\" class=\"dataframe\">\n",
       "  <thead>\n",
       "    <tr style=\"text-align: right;\">\n",
       "      <th></th>\n",
       "      <th>A</th>\n",
       "      <th>B</th>\n",
       "      <th>C</th>\n",
       "      <th>D</th>\n",
       "      <th>E</th>\n",
       "      <th>0</th>\n",
       "      <th>1</th>\n",
       "      <th>2</th>\n",
       "      <th>3</th>\n",
       "      <th>4</th>\n",
       "      <th>5</th>\n",
       "    </tr>\n",
       "  </thead>\n",
       "  <tbody>\n",
       "    <tr>\n",
       "      <th>0</th>\n",
       "      <td>NaN</td>\n",
       "      <td>NaN</td>\n",
       "      <td>NaN</td>\n",
       "      <td>NaN</td>\n",
       "      <td>NaN</td>\n",
       "      <td>NaN</td>\n",
       "      <td>NaN</td>\n",
       "      <td>NaN</td>\n",
       "      <td>NaN</td>\n",
       "      <td>NaN</td>\n",
       "      <td>NaN</td>\n",
       "    </tr>\n",
       "    <tr>\n",
       "      <th>1</th>\n",
       "      <td>NaN</td>\n",
       "      <td>NaN</td>\n",
       "      <td>NaN</td>\n",
       "      <td>NaN</td>\n",
       "      <td>NaN</td>\n",
       "      <td>NaN</td>\n",
       "      <td>NaN</td>\n",
       "      <td>NaN</td>\n",
       "      <td>NaN</td>\n",
       "      <td>NaN</td>\n",
       "      <td>NaN</td>\n",
       "    </tr>\n",
       "    <tr>\n",
       "      <th>2</th>\n",
       "      <td>NaN</td>\n",
       "      <td>NaN</td>\n",
       "      <td>NaN</td>\n",
       "      <td>NaN</td>\n",
       "      <td>NaN</td>\n",
       "      <td>NaN</td>\n",
       "      <td>NaN</td>\n",
       "      <td>NaN</td>\n",
       "      <td>NaN</td>\n",
       "      <td>NaN</td>\n",
       "      <td>NaN</td>\n",
       "    </tr>\n",
       "    <tr>\n",
       "      <th>3</th>\n",
       "      <td>NaN</td>\n",
       "      <td>NaN</td>\n",
       "      <td>NaN</td>\n",
       "      <td>NaN</td>\n",
       "      <td>NaN</td>\n",
       "      <td>NaN</td>\n",
       "      <td>NaN</td>\n",
       "      <td>NaN</td>\n",
       "      <td>NaN</td>\n",
       "      <td>NaN</td>\n",
       "      <td>NaN</td>\n",
       "    </tr>\n",
       "    <tr>\n",
       "      <th>4</th>\n",
       "      <td>NaN</td>\n",
       "      <td>NaN</td>\n",
       "      <td>NaN</td>\n",
       "      <td>NaN</td>\n",
       "      <td>NaN</td>\n",
       "      <td>NaN</td>\n",
       "      <td>NaN</td>\n",
       "      <td>NaN</td>\n",
       "      <td>NaN</td>\n",
       "      <td>NaN</td>\n",
       "      <td>NaN</td>\n",
       "    </tr>\n",
       "    <tr>\n",
       "      <th>5</th>\n",
       "      <td>NaN</td>\n",
       "      <td>NaN</td>\n",
       "      <td>NaN</td>\n",
       "      <td>NaN</td>\n",
       "      <td>NaN</td>\n",
       "      <td>NaN</td>\n",
       "      <td>NaN</td>\n",
       "      <td>NaN</td>\n",
       "      <td>NaN</td>\n",
       "      <td>NaN</td>\n",
       "      <td>NaN</td>\n",
       "    </tr>\n",
       "  </tbody>\n",
       "</table>\n",
       "</div>"
      ],
      "text/plain": [
       "    A   B   C   D   E   0   1   2   3   4   5\n",
       "0 NaN NaN NaN NaN NaN NaN NaN NaN NaN NaN NaN\n",
       "1 NaN NaN NaN NaN NaN NaN NaN NaN NaN NaN NaN\n",
       "2 NaN NaN NaN NaN NaN NaN NaN NaN NaN NaN NaN\n",
       "3 NaN NaN NaN NaN NaN NaN NaN NaN NaN NaN NaN\n",
       "4 NaN NaN NaN NaN NaN NaN NaN NaN NaN NaN NaN\n",
       "5 NaN NaN NaN NaN NaN NaN NaN NaN NaN NaN NaN"
      ]
     },
     "execution_count": 68,
     "metadata": {},
     "output_type": "execute_result"
    }
   ],
   "source": [
    "df1 + df1['A']\n",
    "# equivalente a df1.add(df1['A'], axis = \"columns\")"
   ]
  },
  {
   "cell_type": "code",
   "execution_count": 69,
   "id": "0ff3bd3e",
   "metadata": {},
   "outputs": [
    {
     "data": {
      "text/html": [
       "<div>\n",
       "<style scoped>\n",
       "    .dataframe tbody tr th:only-of-type {\n",
       "        vertical-align: middle;\n",
       "    }\n",
       "\n",
       "    .dataframe tbody tr th {\n",
       "        vertical-align: top;\n",
       "    }\n",
       "\n",
       "    .dataframe thead th {\n",
       "        text-align: right;\n",
       "    }\n",
       "</style>\n",
       "<table border=\"1\" class=\"dataframe\">\n",
       "  <thead>\n",
       "    <tr style=\"text-align: right;\">\n",
       "      <th></th>\n",
       "      <th>A</th>\n",
       "      <th>B</th>\n",
       "      <th>C</th>\n",
       "      <th>D</th>\n",
       "      <th>E</th>\n",
       "    </tr>\n",
       "  </thead>\n",
       "  <tbody>\n",
       "    <tr>\n",
       "      <th>0</th>\n",
       "      <td>4</td>\n",
       "      <td>33</td>\n",
       "      <td>14</td>\n",
       "      <td>8</td>\n",
       "      <td>20</td>\n",
       "    </tr>\n",
       "    <tr>\n",
       "      <th>1</th>\n",
       "      <td>94</td>\n",
       "      <td>83</td>\n",
       "      <td>91</td>\n",
       "      <td>95</td>\n",
       "      <td>139</td>\n",
       "    </tr>\n",
       "    <tr>\n",
       "      <th>2</th>\n",
       "      <td>84</td>\n",
       "      <td>64</td>\n",
       "      <td>90</td>\n",
       "      <td>57</td>\n",
       "      <td>105</td>\n",
       "    </tr>\n",
       "    <tr>\n",
       "      <th>3</th>\n",
       "      <td>16</td>\n",
       "      <td>26</td>\n",
       "      <td>19</td>\n",
       "      <td>40</td>\n",
       "      <td>51</td>\n",
       "    </tr>\n",
       "    <tr>\n",
       "      <th>4</th>\n",
       "      <td>36</td>\n",
       "      <td>65</td>\n",
       "      <td>64</td>\n",
       "      <td>24</td>\n",
       "      <td>70</td>\n",
       "    </tr>\n",
       "    <tr>\n",
       "      <th>5</th>\n",
       "      <td>70</td>\n",
       "      <td>71</td>\n",
       "      <td>83</td>\n",
       "      <td>37</td>\n",
       "      <td>85</td>\n",
       "    </tr>\n",
       "  </tbody>\n",
       "</table>\n",
       "</div>"
      ],
      "text/plain": [
       "    A   B   C   D    E\n",
       "0   4  33  14   8   20\n",
       "1  94  83  91  95  139\n",
       "2  84  64  90  57  105\n",
       "3  16  26  19  40   51\n",
       "4  36  65  64  24   70\n",
       "5  70  71  83  37   85"
      ]
     },
     "execution_count": 69,
     "metadata": {},
     "output_type": "execute_result"
    }
   ],
   "source": [
    "df1.add(df1['A'], axis = 'index')"
   ]
  },
  {
   "cell_type": "markdown",
   "id": "cd5e0f63",
   "metadata": {},
   "source": [
    "## 4.4. Comparaciones\n",
    "También existen los operadores de comparación y  sus métodos correspondientes. El comportamiento es  similar al de los operadores y métodos aritméticos.\n",
    "Estas operaciones producen estructuras de booleanos  que luego se pueden utilizar para hacer ﬁltros.\n",
    "Para producir ﬁltros más complejos tenemos que ser  capaces de combinar comparaciones. Los operadores  and, or y not no funcionan con series o dataframes.  Para hacer operaciones lógicas elemento a elemento  hay que usar los operadores  &, | y ~.\n",
    "Es importante usar paréntesis para agrupar  correctamente las operaciones ya que no tienen el  mismo orden de precedencia que los operadores  habituales.\n"
   ]
  },
  {
   "cell_type": "code",
   "execution_count": 70,
   "id": "ec502dfb",
   "metadata": {},
   "outputs": [
    {
     "data": {
      "text/html": [
       "<div>\n",
       "<style scoped>\n",
       "    .dataframe tbody tr th:only-of-type {\n",
       "        vertical-align: middle;\n",
       "    }\n",
       "\n",
       "    .dataframe tbody tr th {\n",
       "        vertical-align: top;\n",
       "    }\n",
       "\n",
       "    .dataframe thead th {\n",
       "        text-align: right;\n",
       "    }\n",
       "</style>\n",
       "<table border=\"1\" class=\"dataframe\">\n",
       "  <thead>\n",
       "    <tr style=\"text-align: right;\">\n",
       "      <th></th>\n",
       "      <th>C</th>\n",
       "      <th>D</th>\n",
       "      <th>E</th>\n",
       "      <th>F</th>\n",
       "    </tr>\n",
       "  </thead>\n",
       "  <tbody>\n",
       "    <tr>\n",
       "      <th>3</th>\n",
       "      <td>4</td>\n",
       "      <td>14</td>\n",
       "      <td>38</td>\n",
       "      <td>49</td>\n",
       "    </tr>\n",
       "    <tr>\n",
       "      <th>4</th>\n",
       "      <td>40</td>\n",
       "      <td>13</td>\n",
       "      <td>16</td>\n",
       "      <td>13</td>\n",
       "    </tr>\n",
       "    <tr>\n",
       "      <th>5</th>\n",
       "      <td>48</td>\n",
       "      <td>46</td>\n",
       "      <td>36</td>\n",
       "      <td>46</td>\n",
       "    </tr>\n",
       "    <tr>\n",
       "      <th>6</th>\n",
       "      <td>38</td>\n",
       "      <td>26</td>\n",
       "      <td>30</td>\n",
       "      <td>37</td>\n",
       "    </tr>\n",
       "    <tr>\n",
       "      <th>7</th>\n",
       "      <td>2</td>\n",
       "      <td>14</td>\n",
       "      <td>27</td>\n",
       "      <td>13</td>\n",
       "    </tr>\n",
       "    <tr>\n",
       "      <th>8</th>\n",
       "      <td>29</td>\n",
       "      <td>20</td>\n",
       "      <td>43</td>\n",
       "      <td>29</td>\n",
       "    </tr>\n",
       "  </tbody>\n",
       "</table>\n",
       "</div>"
      ],
      "text/plain": [
       "    C   D   E   F\n",
       "3   4  14  38  49\n",
       "4  40  13  16  13\n",
       "5  48  46  36  46\n",
       "6  38  26  30  37\n",
       "7   2  14  27  13\n",
       "8  29  20  43  29"
      ]
     },
     "execution_count": 70,
     "metadata": {},
     "output_type": "execute_result"
    }
   ],
   "source": [
    "df2"
   ]
  },
  {
   "cell_type": "code",
   "execution_count": 71,
   "id": "63e46e6f",
   "metadata": {},
   "outputs": [
    {
     "data": {
      "text/html": [
       "<div>\n",
       "<style scoped>\n",
       "    .dataframe tbody tr th:only-of-type {\n",
       "        vertical-align: middle;\n",
       "    }\n",
       "\n",
       "    .dataframe tbody tr th {\n",
       "        vertical-align: top;\n",
       "    }\n",
       "\n",
       "    .dataframe thead th {\n",
       "        text-align: right;\n",
       "    }\n",
       "</style>\n",
       "<table border=\"1\" class=\"dataframe\">\n",
       "  <thead>\n",
       "    <tr style=\"text-align: right;\">\n",
       "      <th></th>\n",
       "      <th>C</th>\n",
       "      <th>D</th>\n",
       "      <th>E</th>\n",
       "      <th>F</th>\n",
       "    </tr>\n",
       "  </thead>\n",
       "  <tbody>\n",
       "    <tr>\n",
       "      <th>4</th>\n",
       "      <td>40</td>\n",
       "      <td>13</td>\n",
       "      <td>16</td>\n",
       "      <td>13</td>\n",
       "    </tr>\n",
       "    <tr>\n",
       "      <th>5</th>\n",
       "      <td>48</td>\n",
       "      <td>46</td>\n",
       "      <td>36</td>\n",
       "      <td>46</td>\n",
       "    </tr>\n",
       "    <tr>\n",
       "      <th>6</th>\n",
       "      <td>38</td>\n",
       "      <td>26</td>\n",
       "      <td>30</td>\n",
       "      <td>37</td>\n",
       "    </tr>\n",
       "    <tr>\n",
       "      <th>8</th>\n",
       "      <td>29</td>\n",
       "      <td>20</td>\n",
       "      <td>43</td>\n",
       "      <td>29</td>\n",
       "    </tr>\n",
       "  </tbody>\n",
       "</table>\n",
       "</div>"
      ],
      "text/plain": [
       "    C   D   E   F\n",
       "4  40  13  16  13\n",
       "5  48  46  36  46\n",
       "6  38  26  30  37\n",
       "8  29  20  43  29"
      ]
     },
     "execution_count": 71,
     "metadata": {},
     "output_type": "execute_result"
    }
   ],
   "source": [
    "df2[df2['C']>19]"
   ]
  },
  {
   "cell_type": "code",
   "execution_count": 73,
   "id": "cfbaae6b",
   "metadata": {},
   "outputs": [
    {
     "data": {
      "text/html": [
       "<div>\n",
       "<style scoped>\n",
       "    .dataframe tbody tr th:only-of-type {\n",
       "        vertical-align: middle;\n",
       "    }\n",
       "\n",
       "    .dataframe tbody tr th {\n",
       "        vertical-align: top;\n",
       "    }\n",
       "\n",
       "    .dataframe thead th {\n",
       "        text-align: right;\n",
       "    }\n",
       "</style>\n",
       "<table border=\"1\" class=\"dataframe\">\n",
       "  <thead>\n",
       "    <tr style=\"text-align: right;\">\n",
       "      <th></th>\n",
       "      <th>C</th>\n",
       "      <th>D</th>\n",
       "      <th>E</th>\n",
       "      <th>F</th>\n",
       "    </tr>\n",
       "  </thead>\n",
       "  <tbody>\n",
       "    <tr>\n",
       "      <th>5</th>\n",
       "      <td>48</td>\n",
       "      <td>46</td>\n",
       "      <td>36</td>\n",
       "      <td>46</td>\n",
       "    </tr>\n",
       "    <tr>\n",
       "      <th>8</th>\n",
       "      <td>29</td>\n",
       "      <td>20</td>\n",
       "      <td>43</td>\n",
       "      <td>29</td>\n",
       "    </tr>\n",
       "  </tbody>\n",
       "</table>\n",
       "</div>"
      ],
      "text/plain": [
       "    C   D   E   F\n",
       "5  48  46  36  46\n",
       "8  29  20  43  29"
      ]
     },
     "execution_count": 73,
     "metadata": {},
     "output_type": "execute_result"
    }
   ],
   "source": [
    "df2[(df2['C']>19) & (df2['E']>30)]"
   ]
  },
  {
   "cell_type": "markdown",
   "id": "6a6d7b62",
   "metadata": {},
   "source": [
    "# Modulo 4.- Pandas 5"
   ]
  },
  {
   "cell_type": "markdown",
   "id": "121d3e50",
   "metadata": {},
   "source": [
    "## 5.1. Estadisticas\n",
    "Pandas provee numerosos métodos para realizar estadísticas  sobre los datos tanto en series como en dataframes. Por defecto,  estos métodos ignoran los missing values, no teniéndolos en  cuenta a la hora de realizar los cálculos. Si se usa el parámetro  skipna = False los valores NaN se propagan al resultado ﬁnal.\n",
    "Cuando se trabaja con un dataframe, estas funciones se calculan  por columna y sólo las que tienen números y devuelven una serie.\n",
    "\n",
    "Entre estos métodos podemos encontrar: **sum, mean, std, var,  mode, median, count, min, max, prod**"
   ]
  },
  {
   "cell_type": "code",
   "execution_count": 74,
   "id": "10494f47",
   "metadata": {},
   "outputs": [
    {
     "data": {
      "text/plain": [
       "PassengerId    446.000000\n",
       "Survived         0.383838\n",
       "Pclass           2.308642\n",
       "Age             29.699118\n",
       "SibSp            0.523008\n",
       "Parch            0.381594\n",
       "Fare            32.204208\n",
       "dtype: float64"
      ]
     },
     "execution_count": 74,
     "metadata": {},
     "output_type": "execute_result"
    }
   ],
   "source": [
    "data.mean()"
   ]
  },
  {
   "cell_type": "code",
   "execution_count": 75,
   "id": "a42e6552",
   "metadata": {},
   "outputs": [
    {
     "data": {
      "text/plain": [
       "(29.69911764705882, 14.526497332334044)"
      ]
     },
     "execution_count": 75,
     "metadata": {},
     "output_type": "execute_result"
    }
   ],
   "source": [
    "# promedio y desviacion standar de las edades\n",
    "data['Age'].mean(), data['Age'].std()"
   ]
  },
  {
   "cell_type": "code",
   "execution_count": 76,
   "id": "65e67c91",
   "metadata": {},
   "outputs": [
    {
     "data": {
      "text/plain": [
       "38.233440860215055"
      ]
     },
     "execution_count": 76,
     "metadata": {},
     "output_type": "execute_result"
    }
   ],
   "source": [
    "# promedio de edad de los pasajeros de primera clase\n",
    "data.loc[data[\"Pclass\"] == 1, 'Age'].mean()"
   ]
  },
  {
   "cell_type": "code",
   "execution_count": 77,
   "id": "22354b9d",
   "metadata": {},
   "outputs": [
    {
     "data": {
      "text/plain": [
       "34.61176470588235"
      ]
     },
     "execution_count": 77,
     "metadata": {},
     "output_type": "execute_result"
    }
   ],
   "source": [
    "# promedio de edad de las mujeres de primera clase\n",
    "data.loc[(data[\"Pclass\"] == 1) & (data[\"Sex\"] == 'female') , 'Age'].mean()"
   ]
  },
  {
   "cell_type": "code",
   "execution_count": 78,
   "id": "b7190995",
   "metadata": {},
   "outputs": [
    {
     "data": {
      "text/plain": [
       "577"
      ]
     },
     "execution_count": 78,
     "metadata": {},
     "output_type": "execute_result"
    }
   ],
   "source": [
    "# contar cantidad de varones\n",
    "data.loc[data[\"Sex\"] == 'male', \"Sex\"].count()"
   ]
  },
  {
   "cell_type": "code",
   "execution_count": 79,
   "id": "1cc021f9",
   "metadata": {},
   "outputs": [
    {
     "data": {
      "text/plain": [
       "(0.42, 80.0)"
      ]
     },
     "execution_count": 79,
     "metadata": {},
     "output_type": "execute_result"
    }
   ],
   "source": [
    "data['Age'].min(), data['Age'].max()"
   ]
  },
  {
   "cell_type": "code",
   "execution_count": 80,
   "id": "beacbbe6",
   "metadata": {},
   "outputs": [
    {
     "data": {
      "text/plain": [
       "PassengerId    891\n",
       "Survived         2\n",
       "Pclass           3\n",
       "Name           891\n",
       "Sex              2\n",
       "Age             88\n",
       "SibSp            7\n",
       "Parch            7\n",
       "Ticket         681\n",
       "Fare           248\n",
       "Cabin          147\n",
       "Embarked         3\n",
       "dtype: int64"
      ]
     },
     "execution_count": 80,
     "metadata": {},
     "output_type": "execute_result"
    }
   ],
   "source": [
    "# cantidad de elementos unicos en cada columna\n",
    "data.nunique()"
   ]
  },
  {
   "cell_type": "markdown",
   "id": "7806ad0e",
   "metadata": {},
   "source": [
    "## 5.2. describe()\n",
    "El método describe permite ver un resumen de las  estadísticas principales de cada columna.\n",
    "Cuando la columna es **numérica** devuelve: cantidad de  elementos válidos, promedio, desviación standard,  mínimo, máximo y cuartiles.\n",
    "\n",
    "Cuando la columna **no es numérica** devuelve: cantidad  de elementos válidos, cantidad de elementos únicos y el  elemento más frecuente y su frecuencia.\n",
    "\n",
    "Cuando el dataframe incluye **columnas numéricas y no  numéricas**, el método sólo muestra el resumen de las  columnas numéricas. Este comportamiento se puede  controlar con los parámetros include/exclude."
   ]
  },
  {
   "cell_type": "code",
   "execution_count": 81,
   "id": "446d55d2",
   "metadata": {},
   "outputs": [
    {
     "data": {
      "text/html": [
       "<div>\n",
       "<style scoped>\n",
       "    .dataframe tbody tr th:only-of-type {\n",
       "        vertical-align: middle;\n",
       "    }\n",
       "\n",
       "    .dataframe tbody tr th {\n",
       "        vertical-align: top;\n",
       "    }\n",
       "\n",
       "    .dataframe thead th {\n",
       "        text-align: right;\n",
       "    }\n",
       "</style>\n",
       "<table border=\"1\" class=\"dataframe\">\n",
       "  <thead>\n",
       "    <tr style=\"text-align: right;\">\n",
       "      <th></th>\n",
       "      <th>PassengerId</th>\n",
       "      <th>Survived</th>\n",
       "      <th>Pclass</th>\n",
       "      <th>Age</th>\n",
       "      <th>SibSp</th>\n",
       "      <th>Parch</th>\n",
       "      <th>Fare</th>\n",
       "    </tr>\n",
       "  </thead>\n",
       "  <tbody>\n",
       "    <tr>\n",
       "      <th>count</th>\n",
       "      <td>891.000000</td>\n",
       "      <td>891.000000</td>\n",
       "      <td>891.000000</td>\n",
       "      <td>714.000000</td>\n",
       "      <td>891.000000</td>\n",
       "      <td>891.000000</td>\n",
       "      <td>891.000000</td>\n",
       "    </tr>\n",
       "    <tr>\n",
       "      <th>mean</th>\n",
       "      <td>446.000000</td>\n",
       "      <td>0.383838</td>\n",
       "      <td>2.308642</td>\n",
       "      <td>29.699118</td>\n",
       "      <td>0.523008</td>\n",
       "      <td>0.381594</td>\n",
       "      <td>32.204208</td>\n",
       "    </tr>\n",
       "    <tr>\n",
       "      <th>std</th>\n",
       "      <td>257.353842</td>\n",
       "      <td>0.486592</td>\n",
       "      <td>0.836071</td>\n",
       "      <td>14.526497</td>\n",
       "      <td>1.102743</td>\n",
       "      <td>0.806057</td>\n",
       "      <td>49.693429</td>\n",
       "    </tr>\n",
       "    <tr>\n",
       "      <th>min</th>\n",
       "      <td>1.000000</td>\n",
       "      <td>0.000000</td>\n",
       "      <td>1.000000</td>\n",
       "      <td>0.420000</td>\n",
       "      <td>0.000000</td>\n",
       "      <td>0.000000</td>\n",
       "      <td>0.000000</td>\n",
       "    </tr>\n",
       "    <tr>\n",
       "      <th>25%</th>\n",
       "      <td>223.500000</td>\n",
       "      <td>0.000000</td>\n",
       "      <td>2.000000</td>\n",
       "      <td>20.125000</td>\n",
       "      <td>0.000000</td>\n",
       "      <td>0.000000</td>\n",
       "      <td>7.910400</td>\n",
       "    </tr>\n",
       "    <tr>\n",
       "      <th>50%</th>\n",
       "      <td>446.000000</td>\n",
       "      <td>0.000000</td>\n",
       "      <td>3.000000</td>\n",
       "      <td>28.000000</td>\n",
       "      <td>0.000000</td>\n",
       "      <td>0.000000</td>\n",
       "      <td>14.454200</td>\n",
       "    </tr>\n",
       "    <tr>\n",
       "      <th>75%</th>\n",
       "      <td>668.500000</td>\n",
       "      <td>1.000000</td>\n",
       "      <td>3.000000</td>\n",
       "      <td>38.000000</td>\n",
       "      <td>1.000000</td>\n",
       "      <td>0.000000</td>\n",
       "      <td>31.000000</td>\n",
       "    </tr>\n",
       "    <tr>\n",
       "      <th>max</th>\n",
       "      <td>891.000000</td>\n",
       "      <td>1.000000</td>\n",
       "      <td>3.000000</td>\n",
       "      <td>80.000000</td>\n",
       "      <td>8.000000</td>\n",
       "      <td>6.000000</td>\n",
       "      <td>512.329200</td>\n",
       "    </tr>\n",
       "  </tbody>\n",
       "</table>\n",
       "</div>"
      ],
      "text/plain": [
       "       PassengerId    Survived      Pclass         Age       SibSp  \\\n",
       "count   891.000000  891.000000  891.000000  714.000000  891.000000   \n",
       "mean    446.000000    0.383838    2.308642   29.699118    0.523008   \n",
       "std     257.353842    0.486592    0.836071   14.526497    1.102743   \n",
       "min       1.000000    0.000000    1.000000    0.420000    0.000000   \n",
       "25%     223.500000    0.000000    2.000000   20.125000    0.000000   \n",
       "50%     446.000000    0.000000    3.000000   28.000000    0.000000   \n",
       "75%     668.500000    1.000000    3.000000   38.000000    1.000000   \n",
       "max     891.000000    1.000000    3.000000   80.000000    8.000000   \n",
       "\n",
       "            Parch        Fare  \n",
       "count  891.000000  891.000000  \n",
       "mean     0.381594   32.204208  \n",
       "std      0.806057   49.693429  \n",
       "min      0.000000    0.000000  \n",
       "25%      0.000000    7.910400  \n",
       "50%      0.000000   14.454200  \n",
       "75%      0.000000   31.000000  \n",
       "max      6.000000  512.329200  "
      ]
     },
     "execution_count": 81,
     "metadata": {},
     "output_type": "execute_result"
    }
   ],
   "source": [
    "data.describe()"
   ]
  },
  {
   "cell_type": "code",
   "execution_count": 82,
   "id": "cd983fcc",
   "metadata": {},
   "outputs": [
    {
     "data": {
      "text/plain": [
       "count     889\n",
       "unique      3\n",
       "top         S\n",
       "freq      644\n",
       "Name: Embarked, dtype: object"
      ]
     },
     "execution_count": 82,
     "metadata": {},
     "output_type": "execute_result"
    }
   ],
   "source": [
    "data['Embarked'].describe()"
   ]
  },
  {
   "cell_type": "markdown",
   "id": "231a5e4b",
   "metadata": {},
   "source": [
    "## 5.3. aggregate()\n",
    "El método aggregate (con el alias agg) permite hacer  un resumen con las funciones de agregación que  querramos. Se le puede pasar como argumentos un  string con el nombre de la función o la función en sí  (que puede incluir funciones de numpy).\n",
    "En principio estas funciones se calculan sobre todas las  columnas, lo que puede causar resultados inesperados.  Por ejemplo, la función sum aplicada a strings, los  concatena todos. Se pueden seleccionar las columnas  numéricas con el método select_dtypes."
   ]
  },
  {
   "cell_type": "code",
   "execution_count": 83,
   "id": "ac733ed1",
   "metadata": {},
   "outputs": [
    {
     "data": {
      "text/html": [
       "<div>\n",
       "<style scoped>\n",
       "    .dataframe tbody tr th:only-of-type {\n",
       "        vertical-align: middle;\n",
       "    }\n",
       "\n",
       "    .dataframe tbody tr th {\n",
       "        vertical-align: top;\n",
       "    }\n",
       "\n",
       "    .dataframe thead th {\n",
       "        text-align: right;\n",
       "    }\n",
       "</style>\n",
       "<table border=\"1\" class=\"dataframe\">\n",
       "  <thead>\n",
       "    <tr style=\"text-align: right;\">\n",
       "      <th></th>\n",
       "      <th>PassengerId</th>\n",
       "      <th>Survived</th>\n",
       "      <th>Pclass</th>\n",
       "      <th>Age</th>\n",
       "      <th>SibSp</th>\n",
       "      <th>Parch</th>\n",
       "      <th>Fare</th>\n",
       "    </tr>\n",
       "  </thead>\n",
       "  <tbody>\n",
       "    <tr>\n",
       "      <th>sum</th>\n",
       "      <td>397386.0</td>\n",
       "      <td>342.000000</td>\n",
       "      <td>2057.000000</td>\n",
       "      <td>21205.170000</td>\n",
       "      <td>466.000000</td>\n",
       "      <td>340.000000</td>\n",
       "      <td>28693.949300</td>\n",
       "    </tr>\n",
       "    <tr>\n",
       "      <th>min</th>\n",
       "      <td>1.0</td>\n",
       "      <td>0.000000</td>\n",
       "      <td>1.000000</td>\n",
       "      <td>0.420000</td>\n",
       "      <td>0.000000</td>\n",
       "      <td>0.000000</td>\n",
       "      <td>0.000000</td>\n",
       "    </tr>\n",
       "    <tr>\n",
       "      <th>amax</th>\n",
       "      <td>891.0</td>\n",
       "      <td>1.000000</td>\n",
       "      <td>3.000000</td>\n",
       "      <td>80.000000</td>\n",
       "      <td>8.000000</td>\n",
       "      <td>6.000000</td>\n",
       "      <td>512.329200</td>\n",
       "    </tr>\n",
       "    <tr>\n",
       "      <th>var</th>\n",
       "      <td>66231.0</td>\n",
       "      <td>0.236772</td>\n",
       "      <td>0.699015</td>\n",
       "      <td>211.019125</td>\n",
       "      <td>1.216043</td>\n",
       "      <td>0.649728</td>\n",
       "      <td>2469.436846</td>\n",
       "    </tr>\n",
       "  </tbody>\n",
       "</table>\n",
       "</div>"
      ],
      "text/plain": [
       "      PassengerId    Survived       Pclass           Age       SibSp  \\\n",
       "sum      397386.0  342.000000  2057.000000  21205.170000  466.000000   \n",
       "min           1.0    0.000000     1.000000      0.420000    0.000000   \n",
       "amax        891.0    1.000000     3.000000     80.000000    8.000000   \n",
       "var       66231.0    0.236772     0.699015    211.019125    1.216043   \n",
       "\n",
       "           Parch          Fare  \n",
       "sum   340.000000  28693.949300  \n",
       "min     0.000000      0.000000  \n",
       "amax    6.000000    512.329200  \n",
       "var     0.649728   2469.436846  "
      ]
     },
     "execution_count": 83,
     "metadata": {},
     "output_type": "execute_result"
    }
   ],
   "source": [
    "data.select_dtypes('number').aggregate(['sum', 'min', np.max, 'var'])"
   ]
  },
  {
   "cell_type": "markdown",
   "id": "a072fce3",
   "metadata": {},
   "source": [
    "## 5.4. value_counts()\n",
    "El método value_counts para series permite encontrar  una distribución de frecuencias de los valores únicos que  contiene. Devuelve una serie cuyos índices son los valores  únicos de la serie original y sus valores son las respectivas  frecuencias.\n",
    "\n",
    "El resultado está ordenado de mayor a menor, de modo  que el primer elemento es el más frecuente.\n",
    "Se puede hacer que se ordene en orden ascendente con  el parámetro ascending.\n",
    "El parámetro normalize permite obtener las proporciones  de cada valor."
   ]
  },
  {
   "cell_type": "code",
   "execution_count": 6,
   "id": "3e12f4fb",
   "metadata": {},
   "outputs": [
    {
     "data": {
      "text/plain": [
       "1    5\n",
       "2    2\n",
       "4    2\n",
       "3    1\n",
       "5    1\n",
       "dtype: int64"
      ]
     },
     "execution_count": 6,
     "metadata": {},
     "output_type": "execute_result"
    }
   ],
   "source": [
    "s = pd.Series([1, 2, 1, 3, 5, 2, 1, 1, 4, 4, 1])\n",
    "s.value_counts()"
   ]
  },
  {
   "cell_type": "code",
   "execution_count": 85,
   "id": "b6a5085f",
   "metadata": {},
   "outputs": [
    {
     "data": {
      "text/plain": [
       "1    0.454545\n",
       "2    0.181818\n",
       "3    0.090909\n",
       "4    0.181818\n",
       "5    0.090909\n",
       "dtype: float64"
      ]
     },
     "execution_count": 85,
     "metadata": {},
     "output_type": "execute_result"
    }
   ],
   "source": [
    "s.value_counts(normalize = True, sort = False)"
   ]
  },
  {
   "cell_type": "code",
   "execution_count": 86,
   "id": "a55f5dcc",
   "metadata": {},
   "outputs": [
    {
     "data": {
      "text/plain": [
       "1    0.454545\n",
       "2    0.181818\n",
       "4    0.181818\n",
       "3    0.090909\n",
       "5    0.090909\n",
       "dtype: float64"
      ]
     },
     "execution_count": 86,
     "metadata": {},
     "output_type": "execute_result"
    }
   ],
   "source": [
    "s.value_counts(normalize = True, sort = True)"
   ]
  },
  {
   "cell_type": "code",
   "execution_count": 7,
   "id": "46b4d873",
   "metadata": {},
   "outputs": [
    {
     "data": {
      "text/plain": [
       "1    45.45%\n",
       "2    18.18%\n",
       "4    18.18%\n",
       "3     9.09%\n",
       "5     9.09%\n",
       "Name: Columna 1, dtype: object"
      ]
     },
     "execution_count": 7,
     "metadata": {},
     "output_type": "execute_result"
    }
   ],
   "source": [
    "# para mostrar el resultado en formato de %\n",
    "s1 =s.value_counts(normalize = True, sort = True)\n",
    "s2 =pd.DataFrame(s1,columns = ['Columna 1'])\n",
    "\n",
    "s2= s2['Columna 1'] .apply(lambda x: format(x, '.2%'))\n",
    "s2"
   ]
  },
  {
   "cell_type": "markdown",
   "id": "82625ab6",
   "metadata": {},
   "source": [
    "# Modulo 5.- Pandas 6"
   ]
  },
  {
   "cell_type": "markdown",
   "id": "c2b62625",
   "metadata": {},
   "source": [
    "## 6.1. Groupby\n",
    "Como hemos visto, es muy fácil hacer estadísticas sobre  columnas de un dataframe. Pero muchas veces estamos  interesados en realizar estadísticas a subconjuntos de  esos datos según la categoría a la que pertenezcan. Por  ejemplo, encontrar el promedio de edad para hombres y  mujeres, o para hombres y mujeres divididos también por  la clase en la que viajaban.\n",
    "\n",
    "Para este tipo de operaciones existe el método groupby,  que permite hacer los agrupamientos de una forma  eﬁciente y sencilla. Este método crea una estructura de  datos particular a la que le podemos aplicar diferentes  operaciones estadísticas.      \n",
    "**Sólo cuando aplicamos estas  operaciones se devuelve un dataframe con la información.**"
   ]
  },
  {
   "cell_type": "code",
   "execution_count": 8,
   "id": "35805590",
   "metadata": {},
   "outputs": [
    {
     "data": {
      "text/html": [
       "<div>\n",
       "<style scoped>\n",
       "    .dataframe tbody tr th:only-of-type {\n",
       "        vertical-align: middle;\n",
       "    }\n",
       "\n",
       "    .dataframe tbody tr th {\n",
       "        vertical-align: top;\n",
       "    }\n",
       "\n",
       "    .dataframe thead th {\n",
       "        text-align: right;\n",
       "    }\n",
       "</style>\n",
       "<table border=\"1\" class=\"dataframe\">\n",
       "  <thead>\n",
       "    <tr style=\"text-align: right;\">\n",
       "      <th></th>\n",
       "      <th>PassengerId</th>\n",
       "      <th>Survived</th>\n",
       "      <th>Pclass</th>\n",
       "      <th>Name</th>\n",
       "      <th>Sex</th>\n",
       "      <th>Age</th>\n",
       "      <th>SibSp</th>\n",
       "      <th>Parch</th>\n",
       "      <th>Ticket</th>\n",
       "      <th>Fare</th>\n",
       "      <th>Cabin</th>\n",
       "      <th>Embarked</th>\n",
       "    </tr>\n",
       "  </thead>\n",
       "  <tbody>\n",
       "    <tr>\n",
       "      <th>0</th>\n",
       "      <td>1</td>\n",
       "      <td>0</td>\n",
       "      <td>3</td>\n",
       "      <td>Braund, Mr. Owen Harris</td>\n",
       "      <td>male</td>\n",
       "      <td>22.0</td>\n",
       "      <td>1</td>\n",
       "      <td>0</td>\n",
       "      <td>A/5 21171</td>\n",
       "      <td>7.2500</td>\n",
       "      <td>NaN</td>\n",
       "      <td>S</td>\n",
       "    </tr>\n",
       "    <tr>\n",
       "      <th>1</th>\n",
       "      <td>2</td>\n",
       "      <td>1</td>\n",
       "      <td>1</td>\n",
       "      <td>Cumings, Mrs. John Bradley (Florence Briggs Th...</td>\n",
       "      <td>female</td>\n",
       "      <td>38.0</td>\n",
       "      <td>1</td>\n",
       "      <td>0</td>\n",
       "      <td>PC 17599</td>\n",
       "      <td>71.2833</td>\n",
       "      <td>C85</td>\n",
       "      <td>C</td>\n",
       "    </tr>\n",
       "    <tr>\n",
       "      <th>2</th>\n",
       "      <td>3</td>\n",
       "      <td>1</td>\n",
       "      <td>3</td>\n",
       "      <td>Heikkinen, Miss. Laina</td>\n",
       "      <td>female</td>\n",
       "      <td>26.0</td>\n",
       "      <td>0</td>\n",
       "      <td>0</td>\n",
       "      <td>STON/O2. 3101282</td>\n",
       "      <td>7.9250</td>\n",
       "      <td>NaN</td>\n",
       "      <td>S</td>\n",
       "    </tr>\n",
       "    <tr>\n",
       "      <th>3</th>\n",
       "      <td>4</td>\n",
       "      <td>1</td>\n",
       "      <td>1</td>\n",
       "      <td>Futrelle, Mrs. Jacques Heath (Lily May Peel)</td>\n",
       "      <td>female</td>\n",
       "      <td>35.0</td>\n",
       "      <td>1</td>\n",
       "      <td>0</td>\n",
       "      <td>113803</td>\n",
       "      <td>53.1000</td>\n",
       "      <td>C123</td>\n",
       "      <td>S</td>\n",
       "    </tr>\n",
       "    <tr>\n",
       "      <th>4</th>\n",
       "      <td>5</td>\n",
       "      <td>0</td>\n",
       "      <td>3</td>\n",
       "      <td>Allen, Mr. William Henry</td>\n",
       "      <td>male</td>\n",
       "      <td>35.0</td>\n",
       "      <td>0</td>\n",
       "      <td>0</td>\n",
       "      <td>373450</td>\n",
       "      <td>8.0500</td>\n",
       "      <td>NaN</td>\n",
       "      <td>S</td>\n",
       "    </tr>\n",
       "    <tr>\n",
       "      <th>...</th>\n",
       "      <td>...</td>\n",
       "      <td>...</td>\n",
       "      <td>...</td>\n",
       "      <td>...</td>\n",
       "      <td>...</td>\n",
       "      <td>...</td>\n",
       "      <td>...</td>\n",
       "      <td>...</td>\n",
       "      <td>...</td>\n",
       "      <td>...</td>\n",
       "      <td>...</td>\n",
       "      <td>...</td>\n",
       "    </tr>\n",
       "    <tr>\n",
       "      <th>886</th>\n",
       "      <td>887</td>\n",
       "      <td>0</td>\n",
       "      <td>2</td>\n",
       "      <td>Montvila, Rev. Juozas</td>\n",
       "      <td>male</td>\n",
       "      <td>27.0</td>\n",
       "      <td>0</td>\n",
       "      <td>0</td>\n",
       "      <td>211536</td>\n",
       "      <td>13.0000</td>\n",
       "      <td>NaN</td>\n",
       "      <td>S</td>\n",
       "    </tr>\n",
       "    <tr>\n",
       "      <th>887</th>\n",
       "      <td>888</td>\n",
       "      <td>1</td>\n",
       "      <td>1</td>\n",
       "      <td>Graham, Miss. Margaret Edith</td>\n",
       "      <td>female</td>\n",
       "      <td>19.0</td>\n",
       "      <td>0</td>\n",
       "      <td>0</td>\n",
       "      <td>112053</td>\n",
       "      <td>30.0000</td>\n",
       "      <td>B42</td>\n",
       "      <td>S</td>\n",
       "    </tr>\n",
       "    <tr>\n",
       "      <th>888</th>\n",
       "      <td>889</td>\n",
       "      <td>0</td>\n",
       "      <td>3</td>\n",
       "      <td>Johnston, Miss. Catherine Helen \"Carrie\"</td>\n",
       "      <td>female</td>\n",
       "      <td>NaN</td>\n",
       "      <td>1</td>\n",
       "      <td>2</td>\n",
       "      <td>W./C. 6607</td>\n",
       "      <td>23.4500</td>\n",
       "      <td>NaN</td>\n",
       "      <td>S</td>\n",
       "    </tr>\n",
       "    <tr>\n",
       "      <th>889</th>\n",
       "      <td>890</td>\n",
       "      <td>1</td>\n",
       "      <td>1</td>\n",
       "      <td>Behr, Mr. Karl Howell</td>\n",
       "      <td>male</td>\n",
       "      <td>26.0</td>\n",
       "      <td>0</td>\n",
       "      <td>0</td>\n",
       "      <td>111369</td>\n",
       "      <td>30.0000</td>\n",
       "      <td>C148</td>\n",
       "      <td>C</td>\n",
       "    </tr>\n",
       "    <tr>\n",
       "      <th>890</th>\n",
       "      <td>891</td>\n",
       "      <td>0</td>\n",
       "      <td>3</td>\n",
       "      <td>Dooley, Mr. Patrick</td>\n",
       "      <td>male</td>\n",
       "      <td>32.0</td>\n",
       "      <td>0</td>\n",
       "      <td>0</td>\n",
       "      <td>370376</td>\n",
       "      <td>7.7500</td>\n",
       "      <td>NaN</td>\n",
       "      <td>Q</td>\n",
       "    </tr>\n",
       "  </tbody>\n",
       "</table>\n",
       "<p>891 rows × 12 columns</p>\n",
       "</div>"
      ],
      "text/plain": [
       "     PassengerId  Survived  Pclass  \\\n",
       "0              1         0       3   \n",
       "1              2         1       1   \n",
       "2              3         1       3   \n",
       "3              4         1       1   \n",
       "4              5         0       3   \n",
       "..           ...       ...     ...   \n",
       "886          887         0       2   \n",
       "887          888         1       1   \n",
       "888          889         0       3   \n",
       "889          890         1       1   \n",
       "890          891         0       3   \n",
       "\n",
       "                                                  Name     Sex   Age  SibSp  \\\n",
       "0                              Braund, Mr. Owen Harris    male  22.0      1   \n",
       "1    Cumings, Mrs. John Bradley (Florence Briggs Th...  female  38.0      1   \n",
       "2                               Heikkinen, Miss. Laina  female  26.0      0   \n",
       "3         Futrelle, Mrs. Jacques Heath (Lily May Peel)  female  35.0      1   \n",
       "4                             Allen, Mr. William Henry    male  35.0      0   \n",
       "..                                                 ...     ...   ...    ...   \n",
       "886                              Montvila, Rev. Juozas    male  27.0      0   \n",
       "887                       Graham, Miss. Margaret Edith  female  19.0      0   \n",
       "888           Johnston, Miss. Catherine Helen \"Carrie\"  female   NaN      1   \n",
       "889                              Behr, Mr. Karl Howell    male  26.0      0   \n",
       "890                                Dooley, Mr. Patrick    male  32.0      0   \n",
       "\n",
       "     Parch            Ticket     Fare Cabin Embarked  \n",
       "0        0         A/5 21171   7.2500   NaN        S  \n",
       "1        0          PC 17599  71.2833   C85        C  \n",
       "2        0  STON/O2. 3101282   7.9250   NaN        S  \n",
       "3        0            113803  53.1000  C123        S  \n",
       "4        0            373450   8.0500   NaN        S  \n",
       "..     ...               ...      ...   ...      ...  \n",
       "886      0            211536  13.0000   NaN        S  \n",
       "887      0            112053  30.0000   B42        S  \n",
       "888      2        W./C. 6607  23.4500   NaN        S  \n",
       "889      0            111369  30.0000  C148        C  \n",
       "890      0            370376   7.7500   NaN        Q  \n",
       "\n",
       "[891 rows x 12 columns]"
      ]
     },
     "execution_count": 8,
     "metadata": {},
     "output_type": "execute_result"
    }
   ],
   "source": [
    "# seguinos usando el dataset de Titanic\n",
    "data = pd.read_csv('titanic.csv')\n",
    "data"
   ]
  },
  {
   "cell_type": "markdown",
   "id": "e99b0ea4",
   "metadata": {},
   "source": [
    "El método groupby sólo crea  la estructura de datos a la que se le puede  aplicar la función de agregación."
   ]
  },
  {
   "cell_type": "code",
   "execution_count": 9,
   "id": "7c97990d",
   "metadata": {},
   "outputs": [
    {
     "data": {
      "text/plain": [
       "<pandas.core.groupby.generic.DataFrameGroupBy object at 0x00000204E1B039A0>"
      ]
     },
     "execution_count": 9,
     "metadata": {},
     "output_type": "execute_result"
    }
   ],
   "source": [
    "data.groupby('Sex')"
   ]
  },
  {
   "cell_type": "code",
   "execution_count": 10,
   "id": "6f2c0781",
   "metadata": {},
   "outputs": [
    {
     "data": {
      "text/html": [
       "<div>\n",
       "<style scoped>\n",
       "    .dataframe tbody tr th:only-of-type {\n",
       "        vertical-align: middle;\n",
       "    }\n",
       "\n",
       "    .dataframe tbody tr th {\n",
       "        vertical-align: top;\n",
       "    }\n",
       "\n",
       "    .dataframe thead th {\n",
       "        text-align: right;\n",
       "    }\n",
       "</style>\n",
       "<table border=\"1\" class=\"dataframe\">\n",
       "  <thead>\n",
       "    <tr style=\"text-align: right;\">\n",
       "      <th></th>\n",
       "      <th>PassengerId</th>\n",
       "      <th>Survived</th>\n",
       "      <th>Pclass</th>\n",
       "      <th>Name</th>\n",
       "      <th>Age</th>\n",
       "      <th>SibSp</th>\n",
       "      <th>Parch</th>\n",
       "      <th>Ticket</th>\n",
       "      <th>Fare</th>\n",
       "      <th>Cabin</th>\n",
       "      <th>Embarked</th>\n",
       "    </tr>\n",
       "    <tr>\n",
       "      <th>Sex</th>\n",
       "      <th></th>\n",
       "      <th></th>\n",
       "      <th></th>\n",
       "      <th></th>\n",
       "      <th></th>\n",
       "      <th></th>\n",
       "      <th></th>\n",
       "      <th></th>\n",
       "      <th></th>\n",
       "      <th></th>\n",
       "      <th></th>\n",
       "    </tr>\n",
       "  </thead>\n",
       "  <tbody>\n",
       "    <tr>\n",
       "      <th>female</th>\n",
       "      <td>314</td>\n",
       "      <td>314</td>\n",
       "      <td>314</td>\n",
       "      <td>314</td>\n",
       "      <td>261</td>\n",
       "      <td>314</td>\n",
       "      <td>314</td>\n",
       "      <td>314</td>\n",
       "      <td>314</td>\n",
       "      <td>97</td>\n",
       "      <td>312</td>\n",
       "    </tr>\n",
       "    <tr>\n",
       "      <th>male</th>\n",
       "      <td>577</td>\n",
       "      <td>577</td>\n",
       "      <td>577</td>\n",
       "      <td>577</td>\n",
       "      <td>453</td>\n",
       "      <td>577</td>\n",
       "      <td>577</td>\n",
       "      <td>577</td>\n",
       "      <td>577</td>\n",
       "      <td>107</td>\n",
       "      <td>577</td>\n",
       "    </tr>\n",
       "  </tbody>\n",
       "</table>\n",
       "</div>"
      ],
      "text/plain": [
       "        PassengerId  Survived  Pclass  Name  Age  SibSp  Parch  Ticket  Fare  \\\n",
       "Sex                                                                            \n",
       "female          314       314     314   314  261    314    314     314   314   \n",
       "male            577       577     577   577  453    577    577     577   577   \n",
       "\n",
       "        Cabin  Embarked  \n",
       "Sex                      \n",
       "female     97       312  \n",
       "male      107       577  "
      ]
     },
     "execution_count": 10,
     "metadata": {},
     "output_type": "execute_result"
    }
   ],
   "source": [
    "data.groupby('Sex').count()"
   ]
  },
  {
   "cell_type": "markdown",
   "id": "7afa2667",
   "metadata": {},
   "source": [
    "Si la operación a realizar solamente admite números, se aplica a las  columnas numéricas exclusivamente.\n"
   ]
  },
  {
   "cell_type": "code",
   "execution_count": 11,
   "id": "02374712",
   "metadata": {},
   "outputs": [
    {
     "data": {
      "text/html": [
       "<div>\n",
       "<style scoped>\n",
       "    .dataframe tbody tr th:only-of-type {\n",
       "        vertical-align: middle;\n",
       "    }\n",
       "\n",
       "    .dataframe tbody tr th {\n",
       "        vertical-align: top;\n",
       "    }\n",
       "\n",
       "    .dataframe thead th {\n",
       "        text-align: right;\n",
       "    }\n",
       "</style>\n",
       "<table border=\"1\" class=\"dataframe\">\n",
       "  <thead>\n",
       "    <tr style=\"text-align: right;\">\n",
       "      <th></th>\n",
       "      <th>PassengerId</th>\n",
       "      <th>Survived</th>\n",
       "      <th>Pclass</th>\n",
       "      <th>Age</th>\n",
       "      <th>SibSp</th>\n",
       "      <th>Parch</th>\n",
       "      <th>Fare</th>\n",
       "    </tr>\n",
       "    <tr>\n",
       "      <th>Sex</th>\n",
       "      <th></th>\n",
       "      <th></th>\n",
       "      <th></th>\n",
       "      <th></th>\n",
       "      <th></th>\n",
       "      <th></th>\n",
       "      <th></th>\n",
       "    </tr>\n",
       "  </thead>\n",
       "  <tbody>\n",
       "    <tr>\n",
       "      <th>female</th>\n",
       "      <td>431.028662</td>\n",
       "      <td>0.742038</td>\n",
       "      <td>2.159236</td>\n",
       "      <td>27.915709</td>\n",
       "      <td>0.694268</td>\n",
       "      <td>0.649682</td>\n",
       "      <td>44.479818</td>\n",
       "    </tr>\n",
       "    <tr>\n",
       "      <th>male</th>\n",
       "      <td>454.147314</td>\n",
       "      <td>0.188908</td>\n",
       "      <td>2.389948</td>\n",
       "      <td>30.726645</td>\n",
       "      <td>0.429809</td>\n",
       "      <td>0.235702</td>\n",
       "      <td>25.523893</td>\n",
       "    </tr>\n",
       "  </tbody>\n",
       "</table>\n",
       "</div>"
      ],
      "text/plain": [
       "        PassengerId  Survived    Pclass        Age     SibSp     Parch  \\\n",
       "Sex                                                                      \n",
       "female   431.028662  0.742038  2.159236  27.915709  0.694268  0.649682   \n",
       "male     454.147314  0.188908  2.389948  30.726645  0.429809  0.235702   \n",
       "\n",
       "             Fare  \n",
       "Sex                \n",
       "female  44.479818  \n",
       "male    25.523893  "
      ]
     },
     "execution_count": 11,
     "metadata": {},
     "output_type": "execute_result"
    }
   ],
   "source": [
    "data.groupby('Sex').mean()"
   ]
  },
  {
   "cell_type": "markdown",
   "id": "3de63d8d",
   "metadata": {},
   "source": [
    "Si queremos restringir el resultado a ciertas columnas podemos  hacerlo de varias maneras:\n",
    "- Una es seleccionar la columna de interés luego de hacer las  operaciones.\n",
    "- Otra es seleccionar las columnas necesarias antes de hacer el groupby (se debe incluir la columna con la que agrupar).\n",
    "- Y la otra opción es seleccionar la columna de interés después de  hacer el groupby, pero antes de aplicar la función de agregación.\n",
    "\n",
    "El tipo de estructura a devolver puede  variar según el método de selección"
   ]
  },
  {
   "cell_type": "code",
   "execution_count": 12,
   "id": "7b6017ca",
   "metadata": {},
   "outputs": [
    {
     "data": {
      "text/plain": [
       "Sex\n",
       "female    27.915709\n",
       "male      30.726645\n",
       "Name: Age, dtype: float64"
      ]
     },
     "execution_count": 12,
     "metadata": {},
     "output_type": "execute_result"
    }
   ],
   "source": [
    "data.groupby('Sex').mean()['Age']"
   ]
  },
  {
   "cell_type": "code",
   "execution_count": 13,
   "id": "399510c9",
   "metadata": {},
   "outputs": [
    {
     "data": {
      "text/html": [
       "<div>\n",
       "<style scoped>\n",
       "    .dataframe tbody tr th:only-of-type {\n",
       "        vertical-align: middle;\n",
       "    }\n",
       "\n",
       "    .dataframe tbody tr th {\n",
       "        vertical-align: top;\n",
       "    }\n",
       "\n",
       "    .dataframe thead th {\n",
       "        text-align: right;\n",
       "    }\n",
       "</style>\n",
       "<table border=\"1\" class=\"dataframe\">\n",
       "  <thead>\n",
       "    <tr style=\"text-align: right;\">\n",
       "      <th></th>\n",
       "      <th>Age</th>\n",
       "    </tr>\n",
       "    <tr>\n",
       "      <th>Sex</th>\n",
       "      <th></th>\n",
       "    </tr>\n",
       "  </thead>\n",
       "  <tbody>\n",
       "    <tr>\n",
       "      <th>female</th>\n",
       "      <td>27.915709</td>\n",
       "    </tr>\n",
       "    <tr>\n",
       "      <th>male</th>\n",
       "      <td>30.726645</td>\n",
       "    </tr>\n",
       "  </tbody>\n",
       "</table>\n",
       "</div>"
      ],
      "text/plain": [
       "              Age\n",
       "Sex              \n",
       "female  27.915709\n",
       "male    30.726645"
      ]
     },
     "execution_count": 13,
     "metadata": {},
     "output_type": "execute_result"
    }
   ],
   "source": [
    "# promedio de edad segun sexo\n",
    "data[['Age', 'Sex']].groupby('Sex').mean()"
   ]
  },
  {
   "cell_type": "code",
   "execution_count": 14,
   "id": "dd89d43a",
   "metadata": {},
   "outputs": [
    {
     "data": {
      "text/plain": [
       "Sex\n",
       "female    27.915709\n",
       "male      30.726645\n",
       "Name: Age, dtype: float64"
      ]
     },
     "execution_count": 14,
     "metadata": {},
     "output_type": "execute_result"
    }
   ],
   "source": [
    "data.groupby('Sex')['Age'].mean()"
   ]
  },
  {
   "cell_type": "code",
   "execution_count": 15,
   "id": "efa807cb",
   "metadata": {},
   "outputs": [
    {
     "data": {
      "text/html": [
       "<div>\n",
       "<style scoped>\n",
       "    .dataframe tbody tr th:only-of-type {\n",
       "        vertical-align: middle;\n",
       "    }\n",
       "\n",
       "    .dataframe tbody tr th {\n",
       "        vertical-align: top;\n",
       "    }\n",
       "\n",
       "    .dataframe thead th {\n",
       "        text-align: right;\n",
       "    }\n",
       "</style>\n",
       "<table border=\"1\" class=\"dataframe\">\n",
       "  <thead>\n",
       "    <tr style=\"text-align: right;\">\n",
       "      <th></th>\n",
       "      <th>Age</th>\n",
       "    </tr>\n",
       "    <tr>\n",
       "      <th>Pclass</th>\n",
       "      <th></th>\n",
       "    </tr>\n",
       "  </thead>\n",
       "  <tbody>\n",
       "    <tr>\n",
       "      <th>1</th>\n",
       "      <td>80.0</td>\n",
       "    </tr>\n",
       "    <tr>\n",
       "      <th>2</th>\n",
       "      <td>70.0</td>\n",
       "    </tr>\n",
       "    <tr>\n",
       "      <th>3</th>\n",
       "      <td>74.0</td>\n",
       "    </tr>\n",
       "  </tbody>\n",
       "</table>\n",
       "</div>"
      ],
      "text/plain": [
       "         Age\n",
       "Pclass      \n",
       "1       80.0\n",
       "2       70.0\n",
       "3       74.0"
      ]
     },
     "execution_count": 15,
     "metadata": {},
     "output_type": "execute_result"
    }
   ],
   "source": [
    "# maxima de edad en cada clase\n",
    "data[['Age', 'Pclass']].groupby('Pclass').max()"
   ]
  },
  {
   "cell_type": "code",
   "execution_count": 16,
   "id": "01a21c7a",
   "metadata": {},
   "outputs": [
    {
     "data": {
      "text/html": [
       "<div>\n",
       "<style scoped>\n",
       "    .dataframe tbody tr th:only-of-type {\n",
       "        vertical-align: middle;\n",
       "    }\n",
       "\n",
       "    .dataframe tbody tr th {\n",
       "        vertical-align: top;\n",
       "    }\n",
       "\n",
       "    .dataframe thead th {\n",
       "        text-align: right;\n",
       "    }\n",
       "</style>\n",
       "<table border=\"1\" class=\"dataframe\">\n",
       "  <thead>\n",
       "    <tr style=\"text-align: right;\">\n",
       "      <th></th>\n",
       "      <th>PassengerId</th>\n",
       "      <th>Pclass</th>\n",
       "      <th>Name</th>\n",
       "      <th>Sex</th>\n",
       "      <th>Age</th>\n",
       "      <th>SibSp</th>\n",
       "      <th>Parch</th>\n",
       "      <th>Ticket</th>\n",
       "      <th>Fare</th>\n",
       "      <th>Cabin</th>\n",
       "      <th>Embarked</th>\n",
       "    </tr>\n",
       "    <tr>\n",
       "      <th>Survived</th>\n",
       "      <th></th>\n",
       "      <th></th>\n",
       "      <th></th>\n",
       "      <th></th>\n",
       "      <th></th>\n",
       "      <th></th>\n",
       "      <th></th>\n",
       "      <th></th>\n",
       "      <th></th>\n",
       "      <th></th>\n",
       "      <th></th>\n",
       "    </tr>\n",
       "  </thead>\n",
       "  <tbody>\n",
       "    <tr>\n",
       "      <th>0</th>\n",
       "      <td>549</td>\n",
       "      <td>549</td>\n",
       "      <td>549</td>\n",
       "      <td>549</td>\n",
       "      <td>424</td>\n",
       "      <td>549</td>\n",
       "      <td>549</td>\n",
       "      <td>549</td>\n",
       "      <td>549</td>\n",
       "      <td>68</td>\n",
       "      <td>549</td>\n",
       "    </tr>\n",
       "    <tr>\n",
       "      <th>1</th>\n",
       "      <td>342</td>\n",
       "      <td>342</td>\n",
       "      <td>342</td>\n",
       "      <td>342</td>\n",
       "      <td>290</td>\n",
       "      <td>342</td>\n",
       "      <td>342</td>\n",
       "      <td>342</td>\n",
       "      <td>342</td>\n",
       "      <td>136</td>\n",
       "      <td>340</td>\n",
       "    </tr>\n",
       "  </tbody>\n",
       "</table>\n",
       "</div>"
      ],
      "text/plain": [
       "          PassengerId  Pclass  Name  Sex  Age  SibSp  Parch  Ticket  Fare  \\\n",
       "Survived                                                                    \n",
       "0                 549     549   549  549  424    549    549     549   549   \n",
       "1                 342     342   342  342  290    342    342     342   342   \n",
       "\n",
       "          Cabin  Embarked  \n",
       "Survived                   \n",
       "0            68       549  \n",
       "1           136       340  "
      ]
     },
     "execution_count": 16,
     "metadata": {},
     "output_type": "execute_result"
    }
   ],
   "source": [
    "# cantidad de valores no nulos por columna agrupados por sobrevivencia\n",
    "data.groupby('Survived').count()"
   ]
  },
  {
   "cell_type": "code",
   "execution_count": 17,
   "id": "70943f9c",
   "metadata": {},
   "outputs": [
    {
     "data": {
      "text/plain": [
       "Survived\n",
       "0    549\n",
       "1    342\n",
       "dtype: int64"
      ]
     },
     "execution_count": 17,
     "metadata": {},
     "output_type": "execute_result"
    }
   ],
   "source": [
    "# cantidad de filas agrupadas por sobrevivencia\n",
    "data.groupby('Survived').size()"
   ]
  },
  {
   "cell_type": "markdown",
   "id": "123b9ed2",
   "metadata": {},
   "source": [
    "En caso de querer realizar varias operaciones a los mismos  grupos se puede utilizar aggregate (o su alias, agg)."
   ]
  },
  {
   "cell_type": "code",
   "execution_count": 19,
   "id": "be363d57",
   "metadata": {},
   "outputs": [
    {
     "data": {
      "text/html": [
       "<div>\n",
       "<style scoped>\n",
       "    .dataframe tbody tr th:only-of-type {\n",
       "        vertical-align: middle;\n",
       "    }\n",
       "\n",
       "    .dataframe tbody tr th {\n",
       "        vertical-align: top;\n",
       "    }\n",
       "\n",
       "    .dataframe thead tr th {\n",
       "        text-align: left;\n",
       "    }\n",
       "\n",
       "    .dataframe thead tr:last-of-type th {\n",
       "        text-align: right;\n",
       "    }\n",
       "</style>\n",
       "<table border=\"1\" class=\"dataframe\">\n",
       "  <thead>\n",
       "    <tr>\n",
       "      <th></th>\n",
       "      <th colspan=\"4\" halign=\"left\">Age</th>\n",
       "    </tr>\n",
       "    <tr>\n",
       "      <th></th>\n",
       "      <th>min</th>\n",
       "      <th>max</th>\n",
       "      <th>mean</th>\n",
       "      <th>std</th>\n",
       "    </tr>\n",
       "    <tr>\n",
       "      <th>Pclass</th>\n",
       "      <th></th>\n",
       "      <th></th>\n",
       "      <th></th>\n",
       "      <th></th>\n",
       "    </tr>\n",
       "  </thead>\n",
       "  <tbody>\n",
       "    <tr>\n",
       "      <th>1</th>\n",
       "      <td>0.92</td>\n",
       "      <td>80.0</td>\n",
       "      <td>38.233441</td>\n",
       "      <td>14.802856</td>\n",
       "    </tr>\n",
       "    <tr>\n",
       "      <th>2</th>\n",
       "      <td>0.67</td>\n",
       "      <td>70.0</td>\n",
       "      <td>29.877630</td>\n",
       "      <td>14.001077</td>\n",
       "    </tr>\n",
       "    <tr>\n",
       "      <th>3</th>\n",
       "      <td>0.42</td>\n",
       "      <td>74.0</td>\n",
       "      <td>25.140620</td>\n",
       "      <td>12.495398</td>\n",
       "    </tr>\n",
       "  </tbody>\n",
       "</table>\n",
       "</div>"
      ],
      "text/plain": [
       "         Age                            \n",
       "         min   max       mean        std\n",
       "Pclass                                  \n",
       "1       0.92  80.0  38.233441  14.802856\n",
       "2       0.67  70.0  29.877630  14.001077\n",
       "3       0.42  74.0  25.140620  12.495398"
      ]
     },
     "execution_count": 19,
     "metadata": {},
     "output_type": "execute_result"
    }
   ],
   "source": [
    "data[['Age', 'Pclass']].groupby('Pclass').agg(['min', 'max','mean','std'])"
   ]
  },
  {
   "cell_type": "markdown",
   "id": "85ee895a",
   "metadata": {},
   "source": [
    "También se puede agrupar por  varias categorías, haciendo  agrupamientos más especíﬁcos.  Por ejemplo, el promedio de edad  discriminando tanto por clase  como por sexo."
   ]
  },
  {
   "cell_type": "code",
   "execution_count": 20,
   "id": "9ee88e12",
   "metadata": {},
   "outputs": [
    {
     "data": {
      "text/html": [
       "<div>\n",
       "<style scoped>\n",
       "    .dataframe tbody tr th:only-of-type {\n",
       "        vertical-align: middle;\n",
       "    }\n",
       "\n",
       "    .dataframe tbody tr th {\n",
       "        vertical-align: top;\n",
       "    }\n",
       "\n",
       "    .dataframe thead th {\n",
       "        text-align: right;\n",
       "    }\n",
       "</style>\n",
       "<table border=\"1\" class=\"dataframe\">\n",
       "  <thead>\n",
       "    <tr style=\"text-align: right;\">\n",
       "      <th></th>\n",
       "      <th></th>\n",
       "      <th>Age</th>\n",
       "    </tr>\n",
       "    <tr>\n",
       "      <th>Pclass</th>\n",
       "      <th>Sex</th>\n",
       "      <th></th>\n",
       "    </tr>\n",
       "  </thead>\n",
       "  <tbody>\n",
       "    <tr>\n",
       "      <th rowspan=\"2\" valign=\"top\">1</th>\n",
       "      <th>female</th>\n",
       "      <td>34.611765</td>\n",
       "    </tr>\n",
       "    <tr>\n",
       "      <th>male</th>\n",
       "      <td>41.281386</td>\n",
       "    </tr>\n",
       "    <tr>\n",
       "      <th rowspan=\"2\" valign=\"top\">2</th>\n",
       "      <th>female</th>\n",
       "      <td>28.722973</td>\n",
       "    </tr>\n",
       "    <tr>\n",
       "      <th>male</th>\n",
       "      <td>30.740707</td>\n",
       "    </tr>\n",
       "    <tr>\n",
       "      <th rowspan=\"2\" valign=\"top\">3</th>\n",
       "      <th>female</th>\n",
       "      <td>21.750000</td>\n",
       "    </tr>\n",
       "    <tr>\n",
       "      <th>male</th>\n",
       "      <td>26.507589</td>\n",
       "    </tr>\n",
       "  </tbody>\n",
       "</table>\n",
       "</div>"
      ],
      "text/plain": [
       "                     Age\n",
       "Pclass Sex              \n",
       "1      female  34.611765\n",
       "       male    41.281386\n",
       "2      female  28.722973\n",
       "       male    30.740707\n",
       "3      female  21.750000\n",
       "       male    26.507589"
      ]
     },
     "execution_count": 20,
     "metadata": {},
     "output_type": "execute_result"
    }
   ],
   "source": [
    "data[['Pclass', 'Sex', 'Age']].groupby(['Pclass', 'Sex']).mean()"
   ]
  },
  {
   "cell_type": "code",
   "execution_count": 21,
   "id": "1aacc17c",
   "metadata": {},
   "outputs": [
    {
     "data": {
      "text/html": [
       "<div>\n",
       "<style scoped>\n",
       "    .dataframe tbody tr th:only-of-type {\n",
       "        vertical-align: middle;\n",
       "    }\n",
       "\n",
       "    .dataframe tbody tr th {\n",
       "        vertical-align: top;\n",
       "    }\n",
       "\n",
       "    .dataframe thead th {\n",
       "        text-align: right;\n",
       "    }\n",
       "</style>\n",
       "<table border=\"1\" class=\"dataframe\">\n",
       "  <thead>\n",
       "    <tr style=\"text-align: right;\">\n",
       "      <th></th>\n",
       "      <th></th>\n",
       "      <th>Survived</th>\n",
       "    </tr>\n",
       "    <tr>\n",
       "      <th>Pclass</th>\n",
       "      <th>Sex</th>\n",
       "      <th></th>\n",
       "    </tr>\n",
       "  </thead>\n",
       "  <tbody>\n",
       "    <tr>\n",
       "      <th rowspan=\"2\" valign=\"top\">1</th>\n",
       "      <th>female</th>\n",
       "      <td>0.968085</td>\n",
       "    </tr>\n",
       "    <tr>\n",
       "      <th>male</th>\n",
       "      <td>0.368852</td>\n",
       "    </tr>\n",
       "    <tr>\n",
       "      <th rowspan=\"2\" valign=\"top\">2</th>\n",
       "      <th>female</th>\n",
       "      <td>0.921053</td>\n",
       "    </tr>\n",
       "    <tr>\n",
       "      <th>male</th>\n",
       "      <td>0.157407</td>\n",
       "    </tr>\n",
       "    <tr>\n",
       "      <th rowspan=\"2\" valign=\"top\">3</th>\n",
       "      <th>female</th>\n",
       "      <td>0.500000</td>\n",
       "    </tr>\n",
       "    <tr>\n",
       "      <th>male</th>\n",
       "      <td>0.135447</td>\n",
       "    </tr>\n",
       "  </tbody>\n",
       "</table>\n",
       "</div>"
      ],
      "text/plain": [
       "               Survived\n",
       "Pclass Sex             \n",
       "1      female  0.968085\n",
       "       male    0.368852\n",
       "2      female  0.921053\n",
       "       male    0.157407\n",
       "3      female  0.500000\n",
       "       male    0.135447"
      ]
     },
     "execution_count": 21,
     "metadata": {},
     "output_type": "execute_result"
    }
   ],
   "source": [
    "# proporcion de supervivencia por clase y por sexo\n",
    "data[['Pclass', 'Sex', 'Survived']].groupby(['Pclass', 'Sex']).mean()"
   ]
  },
  {
   "cell_type": "code",
   "execution_count": 23,
   "id": "5342b5b5",
   "metadata": {},
   "outputs": [
    {
     "name": "stdout",
     "output_type": "stream",
     "text": [
      "        Survived\n",
      "Pclass          \n",
      "1            216\n",
      "2            184\n",
      "3            491\n",
      "------------------------\n",
      "PassengerId    891\n",
      "Survived       891\n",
      "Pclass         891\n",
      "Name           891\n",
      "Sex            891\n",
      "Age            714\n",
      "SibSp          891\n",
      "Parch          891\n",
      "Ticket         891\n",
      "Fare           891\n",
      "Cabin          204\n",
      "Embarked       889\n",
      "dtype: int64\n",
      "------------------------\n",
      "        Survived\n",
      "Pclass          \n",
      "1       0.629630\n",
      "2       0.472826\n",
      "3       0.242363\n",
      "------------------------\n",
      "          PassengerId    Pclass        Age     SibSp     Parch       Fare\n",
      "Survived                                                                 \n",
      "0          447.016393  2.531876  30.626179  0.553734  0.329690  22.117887\n",
      "1          444.368421  1.950292  28.343690  0.473684  0.464912  48.395408\n"
     ]
    }
   ],
   "source": [
    "print(data[['Pclass', 'Survived']].groupby(['Pclass']).count())\n",
    "print('------------------------')\n",
    "print(data.count())\n",
    "print('------------------------')\n",
    "print(data[['Pclass', 'Survived']].groupby(['Pclass']).mean())\n",
    "print('------------------------')\n",
    "print(data.groupby(['Survived']).mean())"
   ]
  },
  {
   "cell_type": "markdown",
   "id": "ed0d9c1b",
   "metadata": {},
   "source": [
    "# Modulo 5.- Pandas 7"
   ]
  },
  {
   "cell_type": "markdown",
   "id": "1e1542ad",
   "metadata": {},
   "source": [
    "## 7.1. Gráficos\n",
    "Pandas ofrece muchas facilidades para hacer gráﬁcos de  manera sencilla. Se basa en Matplotlib, el principal  módulo de gráﬁcos de Python, que estudiaremos la  próxima clase, para realizar los gráﬁcos.\n",
    "\n",
    "Podemos acceder a las funcionalidades para graﬁcar a  través del método plot. Permite acceder a distintos tipos  de gráﬁcos de forma sencilla. Por ejemplo, se pueden  hacer histogramas con plot.hist(), gráﬁcos de barras  con plt.bar, y de torta con plt.pie()."
   ]
  },
  {
   "cell_type": "markdown",
   "id": "14028583",
   "metadata": {},
   "source": [
    "### 7.1.1. Histogramas\n",
    "Un histograma es una representación  de la distribución de un conjunto de  números. El rango se divide en barras  y la altura de la barra es proporcional a  la cantidad de datos que entran en el  rango de la barra (ancho). Se puede  deﬁnir la cantidad de barras a mostrar."
   ]
  },
  {
   "cell_type": "code",
   "execution_count": 24,
   "id": "ed6c3fd6",
   "metadata": {},
   "outputs": [
    {
     "data": {
      "text/plain": [
       "<AxesSubplot:ylabel='Frequency'>"
      ]
     },
     "execution_count": 24,
     "metadata": {},
     "output_type": "execute_result"
    },
    {
     "data": {
      "image/png": "[encoded data removed]",
      "text/plain": [
       "<Figure size 432x288 with 1 Axes>"
      ]
     },
     "metadata": {
      "needs_background": "light"
     },
     "output_type": "display_data"
    }
   ],
   "source": [
    "data['Age'].plot.hist()"
   ]
  },
  {
   "cell_type": "markdown",
   "id": "a9727b83",
   "metadata": {},
   "source": [
    "Los métodos vienen con algunos parámetros para controlar el  aspecto del gráﬁco."
   ]
  },
  {
   "cell_type": "code",
   "execution_count": 25,
   "id": "473bed3e",
   "metadata": {},
   "outputs": [
    {
     "data": {
      "text/plain": [
       "<AxesSubplot:title={'center':'Distribucion de edades'}, ylabel='Frequency'>"
      ]
     },
     "execution_count": 25,
     "metadata": {},
     "output_type": "execute_result"
    },
    {
     "data": {
      "image/png": "[encoded data removed]",
      "text/plain": [
       "<Figure size 432x288 with 1 Axes>"
      ]
     },
     "metadata": {
      "needs_background": "light"
     },
     "output_type": "display_data"
    }
   ],
   "source": [
    "data['Age'].plot.hist(bins = 20, title = 'Distribucion de edades', legend = True, color = 'red', edgecolor = 'black' )"
   ]
  },
  {
   "cell_type": "markdown",
   "id": "72c0c405",
   "metadata": {},
   "source": [
    "### 7.1.2. Gráfico de Barras\n",
    "Este tipo de gráﬁcos muestra barras de altura variable. En general, son útiles para  mostrar estadísticas tomadas por categorías por medio de groupby."
   ]
  },
  {
   "cell_type": "code",
   "execution_count": 27,
   "id": "d23abf33",
   "metadata": {},
   "outputs": [
    {
     "data": {
      "text/plain": [
       "<AxesSubplot:xlabel='Sex'>"
      ]
     },
     "execution_count": 27,
     "metadata": {},
     "output_type": "execute_result"
    },
    {
     "data": {
      "image/png": "[encoded data removed]",
      "text/plain": [
       "<Figure size 432x288 with 1 Axes>"
      ]
     },
     "metadata": {
      "needs_background": "light"
     },
     "output_type": "display_data"
    }
   ],
   "source": [
    "data.groupby('Sex').size().plot.bar()"
   ]
  },
  {
   "cell_type": "code",
   "execution_count": 30,
   "id": "dcbff589",
   "metadata": {},
   "outputs": [
    {
     "data": {
      "text/plain": [
       "<AxesSubplot:xlabel='Sex'>"
      ]
     },
     "execution_count": 30,
     "metadata": {},
     "output_type": "execute_result"
    },
    {
     "data": {
      "image/png": "[encoded data removed]",
      "text/plain": [
       "<Figure size 432x288 with 1 Axes>"
      ]
     },
     "metadata": {
      "needs_background": "light"
     },
     "output_type": "display_data"
    }
   ],
   "source": [
    "data.groupby('Sex')['Survived'].sum().plot.bar(edgecolor = 'black')"
   ]
  },
  {
   "cell_type": "markdown",
   "id": "5ace82ac",
   "metadata": {},
   "source": [
    "### 7.1.3. Gráfico de Torta\n",
    "Otra forma de representar  este tipo de información  es el gráﬁco de tortas,  donde el área de la cuña  es proporcional al número  que representa."
   ]
  },
  {
   "cell_type": "code",
   "execution_count": 31,
   "id": "7cb49ff0",
   "metadata": {},
   "outputs": [
    {
     "data": {
      "text/plain": [
       "<AxesSubplot:title={'center':'Proporcion de hombres y mujeres'}, ylabel='None'>"
      ]
     },
     "execution_count": 31,
     "metadata": {},
     "output_type": "execute_result"
    },
    {
     "data": {
      "image/png": "[encoded data removed]",
      "text/plain": [
       "<Figure size 432x288 with 1 Axes>"
      ]
     },
     "metadata": {},
     "output_type": "display_data"
    }
   ],
   "source": [
    "data.groupby('Sex').size().plot.pie(title = 'Proporcion de hombres y mujeres')"
   ]
  },
  {
   "cell_type": "markdown",
   "id": "dce7a071",
   "metadata": {},
   "source": [
    "### 7.1.3. Gráfico de Lineas\n",
    "Si los datos están ordenados se puede usar plot  para representarlos sobre una línea en donde el  eje x es el índice de la serie y el eje y es el valor.\n",
    "\n",
    "Si este método se aplica sobre un dataframe, las  columnas numéricas se muestran en el mismo  gráﬁco compartiendo el eje x. A continuación  creamos un dataset para practicar.\n",
    "\n"
   ]
  },
  {
   "cell_type": "code",
   "execution_count": 32,
   "id": "0d148e98",
   "metadata": {},
   "outputs": [
    {
     "data": {
      "text/plain": [
       "array([[ 1.34088435e+00, -7.26365252e-01,  8.82803105e-01,\n",
       "         8.47840848e-01],\n",
       "       [ 1.95270394e+00, -2.65805094e-01, -2.06315143e+00,\n",
       "        -9.58939098e-03],\n",
       "       [ 2.30191640e+00,  1.70045038e+00, -2.22668625e+00,\n",
       "         1.81749523e+00],\n",
       "       ...,\n",
       "       [-1.23840534e+01, -2.90523633e+01,  3.42655888e+01,\n",
       "        -2.56867356e+01],\n",
       "       [-1.31607410e+01, -3.02012088e+01,  3.37091156e+01,\n",
       "        -2.55563856e+01],\n",
       "       [-1.35353564e+01, -3.03099577e+01,  3.28290526e+01,\n",
       "        -2.66235786e+01]])"
      ]
     },
     "execution_count": 32,
     "metadata": {},
     "output_type": "execute_result"
    }
   ],
   "source": [
    "arr = np.random.randn(1000,4).cumsum(axis = 0)\n",
    "arr"
   ]
  },
  {
   "cell_type": "code",
   "execution_count": 33,
   "id": "98bf9975",
   "metadata": {},
   "outputs": [
    {
     "data": {
      "text/html": [
       "<div>\n",
       "<style scoped>\n",
       "    .dataframe tbody tr th:only-of-type {\n",
       "        vertical-align: middle;\n",
       "    }\n",
       "\n",
       "    .dataframe tbody tr th {\n",
       "        vertical-align: top;\n",
       "    }\n",
       "\n",
       "    .dataframe thead th {\n",
       "        text-align: right;\n",
       "    }\n",
       "</style>\n",
       "<table border=\"1\" class=\"dataframe\">\n",
       "  <thead>\n",
       "    <tr style=\"text-align: right;\">\n",
       "      <th></th>\n",
       "      <th>A</th>\n",
       "      <th>B</th>\n",
       "      <th>C</th>\n",
       "      <th>D</th>\n",
       "    </tr>\n",
       "  </thead>\n",
       "  <tbody>\n",
       "    <tr>\n",
       "      <th>0</th>\n",
       "      <td>1.340884</td>\n",
       "      <td>-0.726365</td>\n",
       "      <td>0.882803</td>\n",
       "      <td>0.847841</td>\n",
       "    </tr>\n",
       "    <tr>\n",
       "      <th>1</th>\n",
       "      <td>1.952704</td>\n",
       "      <td>-0.265805</td>\n",
       "      <td>-2.063151</td>\n",
       "      <td>-0.009589</td>\n",
       "    </tr>\n",
       "    <tr>\n",
       "      <th>2</th>\n",
       "      <td>2.301916</td>\n",
       "      <td>1.700450</td>\n",
       "      <td>-2.226686</td>\n",
       "      <td>1.817495</td>\n",
       "    </tr>\n",
       "    <tr>\n",
       "      <th>3</th>\n",
       "      <td>3.466218</td>\n",
       "      <td>1.021051</td>\n",
       "      <td>-1.787520</td>\n",
       "      <td>1.762945</td>\n",
       "    </tr>\n",
       "    <tr>\n",
       "      <th>4</th>\n",
       "      <td>3.433600</td>\n",
       "      <td>-0.815154</td>\n",
       "      <td>-2.536631</td>\n",
       "      <td>1.996180</td>\n",
       "    </tr>\n",
       "    <tr>\n",
       "      <th>...</th>\n",
       "      <td>...</td>\n",
       "      <td>...</td>\n",
       "      <td>...</td>\n",
       "      <td>...</td>\n",
       "    </tr>\n",
       "    <tr>\n",
       "      <th>995</th>\n",
       "      <td>-14.635804</td>\n",
       "      <td>-30.920496</td>\n",
       "      <td>33.426863</td>\n",
       "      <td>-24.606312</td>\n",
       "    </tr>\n",
       "    <tr>\n",
       "      <th>996</th>\n",
       "      <td>-12.985528</td>\n",
       "      <td>-29.847373</td>\n",
       "      <td>33.290967</td>\n",
       "      <td>-24.963137</td>\n",
       "    </tr>\n",
       "    <tr>\n",
       "      <th>997</th>\n",
       "      <td>-12.384053</td>\n",
       "      <td>-29.052363</td>\n",
       "      <td>34.265589</td>\n",
       "      <td>-25.686736</td>\n",
       "    </tr>\n",
       "    <tr>\n",
       "      <th>998</th>\n",
       "      <td>-13.160741</td>\n",
       "      <td>-30.201209</td>\n",
       "      <td>33.709116</td>\n",
       "      <td>-25.556386</td>\n",
       "    </tr>\n",
       "    <tr>\n",
       "      <th>999</th>\n",
       "      <td>-13.535356</td>\n",
       "      <td>-30.309958</td>\n",
       "      <td>32.829053</td>\n",
       "      <td>-26.623579</td>\n",
       "    </tr>\n",
       "  </tbody>\n",
       "</table>\n",
       "<p>1000 rows × 4 columns</p>\n",
       "</div>"
      ],
      "text/plain": [
       "             A          B          C          D\n",
       "0     1.340884  -0.726365   0.882803   0.847841\n",
       "1     1.952704  -0.265805  -2.063151  -0.009589\n",
       "2     2.301916   1.700450  -2.226686   1.817495\n",
       "3     3.466218   1.021051  -1.787520   1.762945\n",
       "4     3.433600  -0.815154  -2.536631   1.996180\n",
       "..         ...        ...        ...        ...\n",
       "995 -14.635804 -30.920496  33.426863 -24.606312\n",
       "996 -12.985528 -29.847373  33.290967 -24.963137\n",
       "997 -12.384053 -29.052363  34.265589 -25.686736\n",
       "998 -13.160741 -30.201209  33.709116 -25.556386\n",
       "999 -13.535356 -30.309958  32.829053 -26.623579\n",
       "\n",
       "[1000 rows x 4 columns]"
      ]
     },
     "execution_count": 33,
     "metadata": {},
     "output_type": "execute_result"
    }
   ],
   "source": [
    "df = pd.DataFrame(arr, columns = ['A', 'B', 'C', 'D'])\n",
    "df"
   ]
  },
  {
   "cell_type": "code",
   "execution_count": 34,
   "id": "ca37dffe",
   "metadata": {},
   "outputs": [
    {
     "data": {
      "text/plain": [
       "<AxesSubplot:>"
      ]
     },
     "execution_count": 34,
     "metadata": {},
     "output_type": "execute_result"
    },
    {
     "data": {
      "image/png": "[encoded data removed]",
      "text/plain": [
       "<Figure size 432x288 with 1 Axes>"
      ]
     },
     "metadata": {
      "needs_background": "light"
     },
     "output_type": "display_data"
    }
   ],
   "source": [
    "df['A'].plot()"
   ]
  },
  {
   "cell_type": "code",
   "execution_count": 35,
   "id": "f6b4c722",
   "metadata": {},
   "outputs": [
    {
     "data": {
      "text/plain": [
       "<AxesSubplot:>"
      ]
     },
     "execution_count": 35,
     "metadata": {},
     "output_type": "execute_result"
    },
    {
     "data": {
      "image/png": "[encoded data removed]",
      "text/plain": [
       "<Figure size 432x288 with 1 Axes>"
      ]
     },
     "metadata": {
      "needs_background": "light"
     },
     "output_type": "display_data"
    }
   ],
   "source": [
    "df.plot()"
   ]
  },
  {
   "cell_type": "markdown",
   "id": "75ec91ad",
   "metadata": {},
   "source": [
    "# Modulo 5.- Pandas 8"
   ]
  },
  {
   "cell_type": "markdown",
   "id": "79e380db",
   "metadata": {},
   "source": [
    "## 8.1. Missing values\n",
    "Tener un dataset con missing values es un caso muy  común a la hora de trabajar con datos. Puede suceder  que algunos datos se hayan perdido, por lo que no  estén disponibles, o que no se hayan recolectado  correctamente. Incluso puede suceder que la  información jamás haya existido.\n",
    "\n",
    "Existen varias técnicas a la hora de trabajar con  missing values y pandas ofrece funcionalidades para  manipularlos."
   ]
  },
  {
   "cell_type": "markdown",
   "id": "3669ea0c",
   "metadata": {},
   "source": [
    "Para representar missing values pandas usa  principalmente el valor np.nan (NaN: Not a  Number). Este es un valor especial dentro de  los números ﬂotantes."
   ]
  },
  {
   "cell_type": "code",
   "execution_count": 36,
   "id": "d76e5281",
   "metadata": {},
   "outputs": [
    {
     "data": {
      "text/plain": [
       "float"
      ]
     },
     "execution_count": 36,
     "metadata": {},
     "output_type": "execute_result"
    }
   ],
   "source": [
    "np.nan\n",
    "type(np.nan)"
   ]
  },
  {
   "cell_type": "markdown",
   "id": "81683789",
   "metadata": {},
   "source": [
    "Como np.nan es un ﬂotante, cuando se  encuentra en una columna de enteros,  toda la columna es promovida al tipo de  dato ﬂotante."
   ]
  },
  {
   "cell_type": "code",
   "execution_count": 37,
   "id": "21d49768",
   "metadata": {},
   "outputs": [
    {
     "data": {
      "text/html": [
       "<div>\n",
       "<style scoped>\n",
       "    .dataframe tbody tr th:only-of-type {\n",
       "        vertical-align: middle;\n",
       "    }\n",
       "\n",
       "    .dataframe tbody tr th {\n",
       "        vertical-align: top;\n",
       "    }\n",
       "\n",
       "    .dataframe thead th {\n",
       "        text-align: right;\n",
       "    }\n",
       "</style>\n",
       "<table border=\"1\" class=\"dataframe\">\n",
       "  <thead>\n",
       "    <tr style=\"text-align: right;\">\n",
       "      <th></th>\n",
       "      <th>A</th>\n",
       "      <th>B</th>\n",
       "    </tr>\n",
       "  </thead>\n",
       "  <tbody>\n",
       "    <tr>\n",
       "      <th>0</th>\n",
       "      <td>1</td>\n",
       "      <td>8.0</td>\n",
       "    </tr>\n",
       "    <tr>\n",
       "      <th>1</th>\n",
       "      <td>3</td>\n",
       "      <td>2.0</td>\n",
       "    </tr>\n",
       "    <tr>\n",
       "      <th>2</th>\n",
       "      <td>5</td>\n",
       "      <td>NaN</td>\n",
       "    </tr>\n",
       "    <tr>\n",
       "      <th>3</th>\n",
       "      <td>4</td>\n",
       "      <td>1.0</td>\n",
       "    </tr>\n",
       "    <tr>\n",
       "      <th>4</th>\n",
       "      <td>2</td>\n",
       "      <td>5.0</td>\n",
       "    </tr>\n",
       "  </tbody>\n",
       "</table>\n",
       "</div>"
      ],
      "text/plain": [
       "   A    B\n",
       "0  1  8.0\n",
       "1  3  2.0\n",
       "2  5  NaN\n",
       "3  4  1.0\n",
       "4  2  5.0"
      ]
     },
     "execution_count": 37,
     "metadata": {},
     "output_type": "execute_result"
    }
   ],
   "source": [
    "df = pd.DataFrame({'A': [1, 3, 5, 4, 2], 'B': [8, 2, np.nan, 1, 5]})\n",
    "df"
   ]
  },
  {
   "cell_type": "markdown",
   "id": "ff12ddb9",
   "metadata": {},
   "source": [
    "A la hora de hacer cálculos entre NaN y otros valores,  el resultado siempre se promueve a NaN.\n",
    "\n",
    "Sin embargo, algunos métodos permiten controlar  cómo se trata los missing values. Los métodos  asociados a los operadores permite deﬁnir un valor a  reemplazar para NaN antes de realizar la operación."
   ]
  },
  {
   "cell_type": "code",
   "execution_count": 38,
   "id": "f494f8e7",
   "metadata": {},
   "outputs": [
    {
     "data": {
      "text/plain": [
       "0    9.0\n",
       "1    5.0\n",
       "2    NaN\n",
       "3    5.0\n",
       "4    7.0\n",
       "dtype: float64"
      ]
     },
     "execution_count": 38,
     "metadata": {},
     "output_type": "execute_result"
    }
   ],
   "source": [
    "df['A'] + df['B']"
   ]
  },
  {
   "cell_type": "code",
   "execution_count": 39,
   "id": "887b21cb",
   "metadata": {},
   "outputs": [
    {
     "data": {
      "text/plain": [
       "0    9.0\n",
       "1    5.0\n",
       "2    NaN\n",
       "3    5.0\n",
       "4    7.0\n",
       "dtype: float64"
      ]
     },
     "execution_count": 39,
     "metadata": {},
     "output_type": "execute_result"
    }
   ],
   "source": [
    "df['A'].add(df['B'])"
   ]
  },
  {
   "cell_type": "code",
   "execution_count": 40,
   "id": "b94760ac",
   "metadata": {},
   "outputs": [
    {
     "data": {
      "text/plain": [
       "0    9.0\n",
       "1    5.0\n",
       "2    5.0\n",
       "3    5.0\n",
       "4    7.0\n",
       "dtype: float64"
      ]
     },
     "execution_count": 40,
     "metadata": {},
     "output_type": "execute_result"
    }
   ],
   "source": [
    "df['A'].add(df['B'], fill_value = 0)"
   ]
  },
  {
   "cell_type": "markdown",
   "id": "01914abb",
   "metadata": {},
   "source": [
    "A su vez, las funciones de agregación también  permiten controlar cómo se trata NaN.\n",
    "Por defecto son ignorados, pero se puede controlar  con el parámetro skipna."
   ]
  },
  {
   "cell_type": "code",
   "execution_count": 41,
   "id": "f7545c09",
   "metadata": {},
   "outputs": [
    {
     "data": {
      "text/plain": [
       "A    3.0\n",
       "B    4.0\n",
       "dtype: float64"
      ]
     },
     "execution_count": 41,
     "metadata": {},
     "output_type": "execute_result"
    }
   ],
   "source": [
    "df.mean()"
   ]
  },
  {
   "cell_type": "code",
   "execution_count": 42,
   "id": "94b74091",
   "metadata": {},
   "outputs": [
    {
     "data": {
      "text/plain": [
       "A    3.0\n",
       "B    NaN\n",
       "dtype: float64"
      ]
     },
     "execution_count": 42,
     "metadata": {},
     "output_type": "execute_result"
    }
   ],
   "source": [
    "df.mean(skipna = False)"
   ]
  },
  {
   "cell_type": "markdown",
   "id": "cab1e7fb",
   "metadata": {},
   "source": [
    "Otro valor especial dentro de los números  ﬂotantes es np.inf (que se usa para  representar el inﬁnito, no missing values)."
   ]
  },
  {
   "cell_type": "code",
   "execution_count": 43,
   "id": "19e0dfa3",
   "metadata": {},
   "outputs": [
    {
     "data": {
      "text/plain": [
       "float"
      ]
     },
     "execution_count": 43,
     "metadata": {},
     "output_type": "execute_result"
    }
   ],
   "source": [
    "np.inf\n",
    "type(np.inf)"
   ]
  },
  {
   "cell_type": "markdown",
   "id": "fbb0e293",
   "metadata": {},
   "source": [
    "El otro valor que se usa para representar  missing values es None, que es un tipo de  dato de Python con un único valor.\n"
   ]
  },
  {
   "cell_type": "code",
   "execution_count": 44,
   "id": "83cd25f8",
   "metadata": {},
   "outputs": [
    {
     "data": {
      "text/plain": [
       "NoneType"
      ]
     },
     "execution_count": 44,
     "metadata": {},
     "output_type": "execute_result"
    }
   ],
   "source": [
    "type(None)"
   ]
  },
  {
   "cell_type": "markdown",
   "id": "1112b7ba",
   "metadata": {},
   "source": [
    "## 8.2. isna\n",
    "Para detectar missing values está el método\n",
    "isna (o su alias, isnull).\n",
    "\n",
    "Este método mapea los datos del dataframe  o serie a booleanos. Sólo mapea np.nan y  None a True y cualquier otro valor a False.\n",
    "\n",
    "Alternativamente, está el método notna (y su  alias, notnull) para hacer el mapeo inverso."
   ]
  },
  {
   "cell_type": "code",
   "execution_count": 45,
   "id": "627b3742",
   "metadata": {},
   "outputs": [
    {
     "data": {
      "text/html": [
       "<div>\n",
       "<style scoped>\n",
       "    .dataframe tbody tr th:only-of-type {\n",
       "        vertical-align: middle;\n",
       "    }\n",
       "\n",
       "    .dataframe tbody tr th {\n",
       "        vertical-align: top;\n",
       "    }\n",
       "\n",
       "    .dataframe thead th {\n",
       "        text-align: right;\n",
       "    }\n",
       "</style>\n",
       "<table border=\"1\" class=\"dataframe\">\n",
       "  <thead>\n",
       "    <tr style=\"text-align: right;\">\n",
       "      <th></th>\n",
       "      <th>A</th>\n",
       "      <th>B</th>\n",
       "    </tr>\n",
       "  </thead>\n",
       "  <tbody>\n",
       "    <tr>\n",
       "      <th>0</th>\n",
       "      <td>False</td>\n",
       "      <td>False</td>\n",
       "    </tr>\n",
       "    <tr>\n",
       "      <th>1</th>\n",
       "      <td>False</td>\n",
       "      <td>False</td>\n",
       "    </tr>\n",
       "    <tr>\n",
       "      <th>2</th>\n",
       "      <td>False</td>\n",
       "      <td>True</td>\n",
       "    </tr>\n",
       "    <tr>\n",
       "      <th>3</th>\n",
       "      <td>False</td>\n",
       "      <td>False</td>\n",
       "    </tr>\n",
       "    <tr>\n",
       "      <th>4</th>\n",
       "      <td>False</td>\n",
       "      <td>False</td>\n",
       "    </tr>\n",
       "  </tbody>\n",
       "</table>\n",
       "</div>"
      ],
      "text/plain": [
       "       A      B\n",
       "0  False  False\n",
       "1  False  False\n",
       "2  False   True\n",
       "3  False  False\n",
       "4  False  False"
      ]
     },
     "execution_count": 45,
     "metadata": {},
     "output_type": "execute_result"
    }
   ],
   "source": [
    "df.isna()"
   ]
  },
  {
   "cell_type": "code",
   "execution_count": 46,
   "id": "bec44648",
   "metadata": {},
   "outputs": [
    {
     "data": {
      "text/html": [
       "<div>\n",
       "<style scoped>\n",
       "    .dataframe tbody tr th:only-of-type {\n",
       "        vertical-align: middle;\n",
       "    }\n",
       "\n",
       "    .dataframe tbody tr th {\n",
       "        vertical-align: top;\n",
       "    }\n",
       "\n",
       "    .dataframe thead th {\n",
       "        text-align: right;\n",
       "    }\n",
       "</style>\n",
       "<table border=\"1\" class=\"dataframe\">\n",
       "  <thead>\n",
       "    <tr style=\"text-align: right;\">\n",
       "      <th></th>\n",
       "      <th>A</th>\n",
       "      <th>B</th>\n",
       "    </tr>\n",
       "  </thead>\n",
       "  <tbody>\n",
       "    <tr>\n",
       "      <th>0</th>\n",
       "      <td>True</td>\n",
       "      <td>True</td>\n",
       "    </tr>\n",
       "    <tr>\n",
       "      <th>1</th>\n",
       "      <td>True</td>\n",
       "      <td>True</td>\n",
       "    </tr>\n",
       "    <tr>\n",
       "      <th>2</th>\n",
       "      <td>True</td>\n",
       "      <td>False</td>\n",
       "    </tr>\n",
       "    <tr>\n",
       "      <th>3</th>\n",
       "      <td>True</td>\n",
       "      <td>True</td>\n",
       "    </tr>\n",
       "    <tr>\n",
       "      <th>4</th>\n",
       "      <td>True</td>\n",
       "      <td>True</td>\n",
       "    </tr>\n",
       "  </tbody>\n",
       "</table>\n",
       "</div>"
      ],
      "text/plain": [
       "      A      B\n",
       "0  True   True\n",
       "1  True   True\n",
       "2  True  False\n",
       "3  True   True\n",
       "4  True   True"
      ]
     },
     "execution_count": 46,
     "metadata": {},
     "output_type": "execute_result"
    }
   ],
   "source": [
    "df.notna()"
   ]
  },
  {
   "cell_type": "markdown",
   "id": "aa5b5106",
   "metadata": {},
   "source": [
    "Teniendo en cuenta que True se  trata como 1 y False como 0,  podemos realizar estadísticas sobre  la cantidad de missing values."
   ]
  },
  {
   "cell_type": "code",
   "execution_count": 47,
   "id": "bacd6e86",
   "metadata": {},
   "outputs": [
    {
     "data": {
      "text/plain": [
       "PassengerId      0\n",
       "Survived         0\n",
       "Pclass           0\n",
       "Name             0\n",
       "Sex              0\n",
       "Age            177\n",
       "SibSp            0\n",
       "Parch            0\n",
       "Ticket           0\n",
       "Fare             0\n",
       "Cabin          687\n",
       "Embarked         2\n",
       "dtype: int64"
      ]
     },
     "execution_count": 47,
     "metadata": {},
     "output_type": "execute_result"
    }
   ],
   "source": [
    "# cantidad de NaN por columna en el dataset del Titanic\n",
    "data.isna().sum()"
   ]
  },
  {
   "cell_type": "code",
   "execution_count": 48,
   "id": "22ab96de",
   "metadata": {},
   "outputs": [
    {
     "data": {
      "text/plain": [
       "PassengerId    False\n",
       "Survived       False\n",
       "Pclass         False\n",
       "Name           False\n",
       "Sex            False\n",
       "Age             True\n",
       "SibSp          False\n",
       "Parch          False\n",
       "Ticket         False\n",
       "Fare           False\n",
       "Cabin           True\n",
       "Embarked        True\n",
       "dtype: bool"
      ]
     },
     "execution_count": 48,
     "metadata": {},
     "output_type": "execute_result"
    }
   ],
   "source": [
    "# columnas que presentan NaN\n",
    "data.isna().any()"
   ]
  },
  {
   "cell_type": "markdown",
   "id": "a085e69a",
   "metadata": {},
   "source": [
    "## 8.3. dropna\n",
    "Una forma de tratar los NaN es simplemente  descartarlos.\n",
    "\n",
    "El método dropna elimina las ﬁlas que  contengan al menos un NaN. Se puede  limitar las columnas a considerar con el  parámetro subset."
   ]
  },
  {
   "cell_type": "code",
   "execution_count": 51,
   "id": "4b936097",
   "metadata": {},
   "outputs": [
    {
     "name": "stdout",
     "output_type": "stream",
     "text": [
      "<class 'pandas.core.frame.DataFrame'>\n",
      "Int64Index: 183 entries, 1 to 889\n",
      "Data columns (total 12 columns):\n",
      " #   Column       Non-Null Count  Dtype  \n",
      "---  ------       --------------  -----  \n",
      " 0   PassengerId  183 non-null    int64  \n",
      " 1   Survived     183 non-null    int64  \n",
      " 2   Pclass       183 non-null    int64  \n",
      " 3   Name         183 non-null    object \n",
      " 4   Sex          183 non-null    object \n",
      " 5   Age          183 non-null    float64\n",
      " 6   SibSp        183 non-null    int64  \n",
      " 7   Parch        183 non-null    int64  \n",
      " 8   Ticket       183 non-null    object \n",
      " 9   Fare         183 non-null    float64\n",
      " 10  Cabin        183 non-null    object \n",
      " 11  Embarked     183 non-null    object \n",
      "dtypes: float64(2), int64(5), object(5)\n",
      "memory usage: 18.6+ KB\n"
     ]
    }
   ],
   "source": [
    "data.dropna().info()"
   ]
  },
  {
   "cell_type": "markdown",
   "id": "195c9eb8",
   "metadata": {},
   "source": [
    "## 8.4. fillna\n",
    "Para no perder tanta información, también  es posible reemplazar los NaN por un valor  que consideremos apropiado con el método  fillna.\n",
    "\n",
    "Por ejemplo, reemplazar los NaN en la  columna Age por el promedio de edad.\n"
   ]
  },
  {
   "cell_type": "code",
   "execution_count": 52,
   "id": "ec6a5afa",
   "metadata": {},
   "outputs": [
    {
     "data": {
      "text/plain": [
       "0      22.000000\n",
       "1      38.000000\n",
       "2      26.000000\n",
       "3      35.000000\n",
       "4      35.000000\n",
       "         ...    \n",
       "886    27.000000\n",
       "887    19.000000\n",
       "888    29.699118\n",
       "889    26.000000\n",
       "890    32.000000\n",
       "Name: Age, Length: 891, dtype: float64"
      ]
     },
     "execution_count": 52,
     "metadata": {},
     "output_type": "execute_result"
    }
   ],
   "source": [
    "data['Age'].fillna(data['Age'].mean())"
   ]
  },
  {
   "cell_type": "markdown",
   "id": "9d31feb9",
   "metadata": {},
   "source": [
    "## 8.5. interpolate\n",
    "Cuando tenemos datos ordenados  (por ejemplo una serie de tiempo) se  pueden interpolar los datos faltantes  con el método interpolate."
   ]
  },
  {
   "cell_type": "code",
   "execution_count": 53,
   "id": "727dff42",
   "metadata": {},
   "outputs": [
    {
     "data": {
      "text/plain": [
       "<AxesSubplot:>"
      ]
     },
     "execution_count": 53,
     "metadata": {},
     "output_type": "execute_result"
    },
    {
     "data": {
      "image/png": "[encoded data removed]",
      "text/plain": [
       "<Figure size 432x288 with 1 Axes>"
      ]
     },
     "metadata": {
      "needs_background": "light"
     },
     "output_type": "display_data"
    }
   ],
   "source": [
    "s = pd.Series([1, 3, 4, 3, 6, np.nan, 4, 6, 7, 5, 8, 9, np.nan, 11, 13])\n",
    "s.plot()"
   ]
  },
  {
   "cell_type": "markdown",
   "id": "fc404024",
   "metadata": {},
   "source": [
    "Por defecto hace una interpolación  lineal, pero se pueden especiﬁcar  otros métodos."
   ]
  },
  {
   "cell_type": "code",
   "execution_count": 55,
   "id": "40997ad5",
   "metadata": {},
   "outputs": [
    {
     "name": "stdout",
     "output_type": "stream",
     "text": [
      "0      1.0\n",
      "1      3.0\n",
      "2      4.0\n",
      "3      3.0\n",
      "4      6.0\n",
      "5      NaN\n",
      "6      4.0\n",
      "7      6.0\n",
      "8      7.0\n",
      "9      5.0\n",
      "10     8.0\n",
      "11     9.0\n",
      "12     NaN\n",
      "13    11.0\n",
      "14    13.0\n",
      "dtype: float64\n"
     ]
    },
    {
     "data": {
      "text/plain": [
       "<AxesSubplot:>"
      ]
     },
     "execution_count": 55,
     "metadata": {},
     "output_type": "execute_result"
    },
    {
     "data": {
      "image/png": "[encoded data removed]",
      "text/plain": [
       "<Figure size 432x288 with 1 Axes>"
      ]
     },
     "metadata": {
      "needs_background": "light"
     },
     "output_type": "display_data"
    }
   ],
   "source": [
    "print(s)\n",
    "s.interpolate()\n",
    "s.interpolate().plot()"
   ]
  },
  {
   "cell_type": "code",
   "execution_count": 56,
   "id": "2fd637e8",
   "metadata": {},
   "outputs": [
    {
     "data": {
      "text/plain": [
       "<AxesSubplot:>"
      ]
     },
     "execution_count": 56,
     "metadata": {},
     "output_type": "execute_result"
    },
    {
     "data": {
      "image/png": "[encoded data removed]",
      "text/plain": [
       "<Figure size 432x288 with 1 Axes>"
      ]
     },
     "metadata": {
      "needs_background": "light"
     },
     "output_type": "display_data"
    }
   ],
   "source": [
    "s.interpolate(method = 'quadratic')\n",
    "s.interpolate(method = 'quadratic').plot()"
   ]
  },
  {
   "cell_type": "markdown",
   "id": "2a86cb51",
   "metadata": {},
   "source": [
    "# Modulo 5.- Pandas 9"
   ]
  },
  {
   "cell_type": "markdown",
   "id": "a9c139fc",
   "metadata": {},
   "source": [
    "## 9.1. Strings\n",
    "Existen numerosos métodos para trabajar con strings en  objetos tipo Series e Index (no aplica a Dataframes).\n",
    "\n",
    "En general, tienen el mismo nombre que los métodos de  python para strings y están agrupados en el atributo  str. Así es posible hacer operaciones sobre todos los  elementos de la estructura con un único comando.\n",
    "\n",
    "Por ejemplo, para cambiar entre mayúsculas y  minúsculas existen lower, upper, title y swapcase."
   ]
  },
  {
   "cell_type": "code",
   "execution_count": 57,
   "id": "4e6ab4d7",
   "metadata": {},
   "outputs": [
    {
     "data": {
      "text/plain": [
       "0                                braund, mr. owen harris\n",
       "1      cumings, mrs. john bradley (florence briggs th...\n",
       "2                                 heikkinen, miss. laina\n",
       "3           futrelle, mrs. jacques heath (lily may peel)\n",
       "4                               allen, mr. william henry\n",
       "                             ...                        \n",
       "886                                montvila, rev. juozas\n",
       "887                         graham, miss. margaret edith\n",
       "888             johnston, miss. catherine helen \"carrie\"\n",
       "889                                behr, mr. karl howell\n",
       "890                                  dooley, mr. patrick\n",
       "Name: Name, Length: 891, dtype: object"
      ]
     },
     "execution_count": 57,
     "metadata": {},
     "output_type": "execute_result"
    }
   ],
   "source": [
    "data['Name'].str.lower()"
   ]
  },
  {
   "cell_type": "code",
   "execution_count": 58,
   "id": "d7badcbb",
   "metadata": {},
   "outputs": [
    {
     "data": {
      "text/plain": [
       "0                                BRAUND, MR. OWEN HARRIS\n",
       "1      CUMINGS, MRS. JOHN BRADLEY (FLORENCE BRIGGS TH...\n",
       "2                                 HEIKKINEN, MISS. LAINA\n",
       "3           FUTRELLE, MRS. JACQUES HEATH (LILY MAY PEEL)\n",
       "4                               ALLEN, MR. WILLIAM HENRY\n",
       "                             ...                        \n",
       "886                                MONTVILA, REV. JUOZAS\n",
       "887                         GRAHAM, MISS. MARGARET EDITH\n",
       "888             JOHNSTON, MISS. CATHERINE HELEN \"CARRIE\"\n",
       "889                                BEHR, MR. KARL HOWELL\n",
       "890                                  DOOLEY, MR. PATRICK\n",
       "Name: Name, Length: 891, dtype: object"
      ]
     },
     "execution_count": 58,
     "metadata": {},
     "output_type": "execute_result"
    }
   ],
   "source": [
    "data['Name'].str.upper()"
   ]
  },
  {
   "cell_type": "code",
   "execution_count": 59,
   "id": "1f49c918",
   "metadata": {},
   "outputs": [
    {
     "data": {
      "text/plain": [
       "0                                Braund, Mr. Owen Harris\n",
       "1      Cumings, Mrs. John Bradley (Florence Briggs Th...\n",
       "2                                 Heikkinen, Miss. Laina\n",
       "3           Futrelle, Mrs. Jacques Heath (Lily May Peel)\n",
       "4                               Allen, Mr. William Henry\n",
       "                             ...                        \n",
       "886                                Montvila, Rev. Juozas\n",
       "887                         Graham, Miss. Margaret Edith\n",
       "888             Johnston, Miss. Catherine Helen \"Carrie\"\n",
       "889                                Behr, Mr. Karl Howell\n",
       "890                                  Dooley, Mr. Patrick\n",
       "Name: Name, Length: 891, dtype: object"
      ]
     },
     "execution_count": 59,
     "metadata": {},
     "output_type": "execute_result"
    }
   ],
   "source": [
    "data['Name'].str.title()"
   ]
  },
  {
   "cell_type": "code",
   "execution_count": 60,
   "id": "80222747",
   "metadata": {},
   "outputs": [
    {
     "data": {
      "text/plain": [
       "0                                bRAUND, mR. oWEN hARRIS\n",
       "1      cUMINGS, mRS. jOHN bRADLEY (fLORENCE bRIGGS tH...\n",
       "2                                 hEIKKINEN, mISS. lAINA\n",
       "3           fUTRELLE, mRS. jACQUES hEATH (lILY mAY pEEL)\n",
       "4                               aLLEN, mR. wILLIAM hENRY\n",
       "                             ...                        \n",
       "886                                mONTVILA, rEV. jUOZAS\n",
       "887                         gRAHAM, mISS. mARGARET eDITH\n",
       "888             jOHNSTON, mISS. cATHERINE hELEN \"cARRIE\"\n",
       "889                                bEHR, mR. kARL hOWELL\n",
       "890                                  dOOLEY, mR. pATRICK\n",
       "Name: Name, Length: 891, dtype: object"
      ]
     },
     "execution_count": 60,
     "metadata": {},
     "output_type": "execute_result"
    }
   ],
   "source": [
    "data['Name'].str.swapcase()"
   ]
  },
  {
   "cell_type": "markdown",
   "id": "25150e1a",
   "metadata": {},
   "source": [
    "El método **split** permite separar los  strings en partes. Por defecto, usa el  espacio en blanco como separador, pero  podemos deﬁnir cualquier carácter o  substring para usar como separador.      \n",
    "Para  cada elemento devuelve una lista con los  strings que fueron separados."
   ]
  },
  {
   "cell_type": "code",
   "execution_count": 62,
   "id": "735843a9",
   "metadata": {},
   "outputs": [
    {
     "data": {
      "text/plain": [
       "0                           [Braund,, Mr., Owen, Harris]\n",
       "1      [Cumings,, Mrs., John, Bradley, (Florence, Bri...\n",
       "2                             [Heikkinen,, Miss., Laina]\n",
       "3      [Futrelle,, Mrs., Jacques, Heath, (Lily, May, ...\n",
       "4                          [Allen,, Mr., William, Henry]\n",
       "                             ...                        \n",
       "886                            [Montvila,, Rev., Juozas]\n",
       "887                    [Graham,, Miss., Margaret, Edith]\n",
       "888       [Johnston,, Miss., Catherine, Helen, \"Carrie\"]\n",
       "889                           [Behr,, Mr., Karl, Howell]\n",
       "890                              [Dooley,, Mr., Patrick]\n",
       "Name: Name, Length: 891, dtype: object"
      ]
     },
     "execution_count": 62,
     "metadata": {},
     "output_type": "execute_result"
    }
   ],
   "source": [
    "data['Name'].str.split()"
   ]
  },
  {
   "cell_type": "markdown",
   "id": "37683c48",
   "metadata": {},
   "source": [
    "El método **count** cuenta cuantas veces  aparece un substring en cada elemento.!"
   ]
  },
  {
   "cell_type": "code",
   "execution_count": 64,
   "id": "8378805e",
   "metadata": {},
   "outputs": [
    {
     "data": {
      "text/plain": [
       "0      1\n",
       "1      1\n",
       "2      0\n",
       "3      1\n",
       "4      1\n",
       "      ..\n",
       "886    0\n",
       "887    0\n",
       "888    0\n",
       "889    1\n",
       "890    1\n",
       "Name: Name, Length: 891, dtype: int64"
      ]
     },
     "execution_count": 64,
     "metadata": {},
     "output_type": "execute_result"
    }
   ],
   "source": [
    "data['Name'].str.count('Mr.')"
   ]
  },
  {
   "cell_type": "markdown",
   "id": "c6086cc9",
   "metadata": {},
   "source": [
    "El método **contains** devuelve True o  False según cada string contenga o no  cierto substring."
   ]
  },
  {
   "cell_type": "code",
   "execution_count": 65,
   "id": "307b441b",
   "metadata": {},
   "outputs": [
    {
     "data": {
      "text/plain": [
       "0       True\n",
       "1       True\n",
       "2      False\n",
       "3       True\n",
       "4       True\n",
       "       ...  \n",
       "886    False\n",
       "887    False\n",
       "888    False\n",
       "889     True\n",
       "890     True\n",
       "Name: Name, Length: 891, dtype: bool"
      ]
     },
     "execution_count": 65,
     "metadata": {},
     "output_type": "execute_result"
    }
   ],
   "source": [
    "data['Name'].str.contains('Mr.')"
   ]
  },
  {
   "cell_type": "markdown",
   "id": "dbedb0a2",
   "metadata": {},
   "source": [
    "Los métodos **startswith** y **endswith**  permiten saber si cada string empieza  o termina con cierto preﬁjo o suﬁjo."
   ]
  },
  {
   "cell_type": "code",
   "execution_count": 66,
   "id": "3a657f2c",
   "metadata": {},
   "outputs": [
    {
     "data": {
      "text/plain": [
       "9"
      ]
     },
     "execution_count": 66,
     "metadata": {},
     "output_type": "execute_result"
    }
   ],
   "source": [
    "# cantidad de strings que empiezan con \"Anderson\"\n",
    "data['Name'].str.startswith('Andersson').sum()"
   ]
  },
  {
   "cell_type": "code",
   "execution_count": 67,
   "id": "7cc8d9af",
   "metadata": {},
   "outputs": [
    {
     "data": {
      "text/plain": [
       "False"
      ]
     },
     "execution_count": 67,
     "metadata": {},
     "output_type": "execute_result"
    }
   ],
   "source": [
    "# existe algun string que empieze con 'Perez'?\n",
    "data['Name'].str.startswith('Perez').any()"
   ]
  },
  {
   "cell_type": "markdown",
   "id": "a8034cb9",
   "metadata": {},
   "source": [
    "El método **len** calcula la cantidad de  caracteres de cada string, como si  estuviéramos aplicando la función  len a cada uno."
   ]
  },
  {
   "cell_type": "code",
   "execution_count": 68,
   "id": "c60e2251",
   "metadata": {},
   "outputs": [
    {
     "data": {
      "text/plain": [
       "0      23\n",
       "1      51\n",
       "2      22\n",
       "3      44\n",
       "4      24\n",
       "       ..\n",
       "886    21\n",
       "887    28\n",
       "888    40\n",
       "889    21\n",
       "890    19\n",
       "Name: Name, Length: 891, dtype: int64"
      ]
     },
     "execution_count": 68,
     "metadata": {},
     "output_type": "execute_result"
    }
   ],
   "source": [
    "data['Name'].str.len()"
   ]
  },
  {
   "cell_type": "markdown",
   "id": "0b11db2e",
   "metadata": {},
   "source": [
    "También ha varios métodos para  comprobar si los strings están  compuestos por cierto tipo de  caracteres.\n",
    "\n",
    "Los métodos **isdigit, isnumeric  e isdecimal** permiten chequear  que sean caracteres numéricos;  isalpha que sean letras; **isalnum**  que sean letras o números;  **islower, isupper e  istitle** que  cumplan con el formato."
   ]
  },
  {
   "cell_type": "code",
   "execution_count": 69,
   "id": "55d30612",
   "metadata": {},
   "outputs": [
    {
     "data": {
      "text/plain": [
       "0       abc\n",
       "1       ABC\n",
       "2       007\n",
       "3    abc007\n",
       "dtype: object"
      ]
     },
     "execution_count": 69,
     "metadata": {},
     "output_type": "execute_result"
    }
   ],
   "source": [
    "s = pd.Series(['abc', 'ABC', '007', 'abc007'])\n",
    "s"
   ]
  },
  {
   "cell_type": "code",
   "execution_count": 70,
   "id": "d0041e54",
   "metadata": {},
   "outputs": [
    {
     "data": {
      "text/plain": [
       "0     True\n",
       "1     True\n",
       "2    False\n",
       "3    False\n",
       "dtype: bool"
      ]
     },
     "execution_count": 70,
     "metadata": {},
     "output_type": "execute_result"
    }
   ],
   "source": [
    "s.str.isalpha()"
   ]
  },
  {
   "cell_type": "code",
   "execution_count": 71,
   "id": "b95fa8ff",
   "metadata": {},
   "outputs": [
    {
     "data": {
      "text/plain": [
       "0     True\n",
       "1    False\n",
       "2    False\n",
       "3     True\n",
       "dtype: bool"
      ]
     },
     "execution_count": 71,
     "metadata": {},
     "output_type": "execute_result"
    }
   ],
   "source": [
    "s.str.islower()"
   ]
  },
  {
   "cell_type": "code",
   "execution_count": 72,
   "id": "365fda73",
   "metadata": {},
   "outputs": [
    {
     "data": {
      "text/plain": [
       "0    False\n",
       "1    False\n",
       "2     True\n",
       "3    False\n",
       "dtype: bool"
      ]
     },
     "execution_count": 72,
     "metadata": {},
     "output_type": "execute_result"
    }
   ],
   "source": [
    "s.str.isnumeric()"
   ]
  },
  {
   "cell_type": "markdown",
   "id": "a0dc5ff4",
   "metadata": {},
   "source": [
    "El atributo str también permite  hacer indexación y slices sobre los  strings usando corchetes.\n",
    "En caso de indexar una posición  mayor a la longitud del string se  devuelve NaN."
   ]
  },
  {
   "cell_type": "code",
   "execution_count": 73,
   "id": "1fe8f98f",
   "metadata": {},
   "outputs": [
    {
     "data": {
      "text/plain": [
       "0      Bra\n",
       "1      Cum\n",
       "2      Hei\n",
       "3      Fut\n",
       "4      All\n",
       "      ... \n",
       "886    Mon\n",
       "887    Gra\n",
       "888    Joh\n",
       "889    Beh\n",
       "890    Doo\n",
       "Name: Name, Length: 891, dtype: object"
      ]
     },
     "execution_count": 73,
     "metadata": {},
     "output_type": "execute_result"
    }
   ],
   "source": [
    "data['Name'].str[0:3]"
   ]
  },
  {
   "cell_type": "code",
   "execution_count": 74,
   "id": "79c82202",
   "metadata": {},
   "outputs": [
    {
     "data": {
      "text/plain": [
       "0      NaN\n",
       "1        g\n",
       "2      NaN\n",
       "3        e\n",
       "4      NaN\n",
       "      ... \n",
       "886    NaN\n",
       "887    NaN\n",
       "888    NaN\n",
       "889    NaN\n",
       "890    NaN\n",
       "Name: Name, Length: 891, dtype: object"
      ]
     },
     "execution_count": 74,
     "metadata": {},
     "output_type": "execute_result"
    }
   ],
   "source": [
    "data['Name'].str[40]"
   ]
  },
  {
   "cell_type": "markdown",
   "id": "9d551709",
   "metadata": {},
   "source": [
    "# Modulo 5.- Pandas 10"
   ]
  },
  {
   "cell_type": "markdown",
   "id": "f3d7d6f5",
   "metadata": {},
   "source": [
    "## 10.1. Fechas\n",
    "Para representar fechas y horas se utiliza un tipo  de dato especial: **datetime64**. Y para representar  intervalos de tiempo su usa **timedelta64**.       \n",
    "Son  tipos de datos que incorporan características y  operaciones propias de trabajar y medir tiempos.\n",
    "\n",
    "Usualmente cuando leemos un archivo las fechas  se representan como strings. Para convertirlo a  datetime64 se usa la función  pd.to_datetime,  que permite controlar el formato con el que se va a  leer la información, que puede venir de diferentes  formas:**yyyy-mm-dd, dd/mm/yy, Month dd,  yyyy, etc.**"
   ]
  },
  {
   "cell_type": "markdown",
   "id": "093fea99",
   "metadata": {},
   "source": [
    "Para esta sección vamos a usar de ejemplo el archivo **GoldPrice.csv**.  Este archivo contiene casi 10 años de registros en el precio del oro.  La primera columna tiene strings que representan las fechas en el  formato **\"Sep 11, 2020\"**. \n",
    "\n",
    "Podemos convertir la columna al tipo de dato  datetime con pd.to_datetime."
   ]
  },
  {
   "cell_type": "code",
   "execution_count": 77,
   "id": "070baa95",
   "metadata": {},
   "outputs": [
    {
     "data": {
      "text/html": [
       "<div>\n",
       "<style scoped>\n",
       "    .dataframe tbody tr th:only-of-type {\n",
       "        vertical-align: middle;\n",
       "    }\n",
       "\n",
       "    .dataframe tbody tr th {\n",
       "        vertical-align: top;\n",
       "    }\n",
       "\n",
       "    .dataframe thead th {\n",
       "        text-align: right;\n",
       "    }\n",
       "</style>\n",
       "<table border=\"1\" class=\"dataframe\">\n",
       "  <thead>\n",
       "    <tr style=\"text-align: right;\">\n",
       "      <th></th>\n",
       "      <th>Date</th>\n",
       "      <th>Price</th>\n",
       "      <th>Open</th>\n",
       "      <th>High</th>\n",
       "      <th>Low</th>\n",
       "    </tr>\n",
       "  </thead>\n",
       "  <tbody>\n",
       "    <tr>\n",
       "      <th>0</th>\n",
       "      <td>Aug 01, 2018</td>\n",
       "      <td>1216.6</td>\n",
       "      <td>1223.40</td>\n",
       "      <td>1223.4</td>\n",
       "      <td>1216.20</td>\n",
       "    </tr>\n",
       "    <tr>\n",
       "      <th>1</th>\n",
       "      <td>Jul 31, 2018</td>\n",
       "      <td>1223.7</td>\n",
       "      <td>1220.40</td>\n",
       "      <td>1228.1</td>\n",
       "      <td>1213.00</td>\n",
       "    </tr>\n",
       "    <tr>\n",
       "      <th>2</th>\n",
       "      <td>Jul 30, 2018</td>\n",
       "      <td>1221.3</td>\n",
       "      <td>1222.50</td>\n",
       "      <td>1223.9</td>\n",
       "      <td>1218.10</td>\n",
       "    </tr>\n",
       "    <tr>\n",
       "      <th>3</th>\n",
       "      <td>Jul 27, 2018</td>\n",
       "      <td>1222.2</td>\n",
       "      <td>1223.50</td>\n",
       "      <td>1226.8</td>\n",
       "      <td>1216.70</td>\n",
       "    </tr>\n",
       "    <tr>\n",
       "      <th>4</th>\n",
       "      <td>Jul 26, 2018</td>\n",
       "      <td>1225.3</td>\n",
       "      <td>1227.80</td>\n",
       "      <td>1227.8</td>\n",
       "      <td>1227.80</td>\n",
       "    </tr>\n",
       "    <tr>\n",
       "      <th>...</th>\n",
       "      <td>...</td>\n",
       "      <td>...</td>\n",
       "      <td>...</td>\n",
       "      <td>...</td>\n",
       "      <td>...</td>\n",
       "    </tr>\n",
       "    <tr>\n",
       "      <th>9766</th>\n",
       "      <td>Jan 03, 1980</td>\n",
       "      <td>625.0</td>\n",
       "      <td>627.00</td>\n",
       "      <td>640.0</td>\n",
       "      <td>603.00</td>\n",
       "    </tr>\n",
       "    <tr>\n",
       "      <th>9767</th>\n",
       "      <td>Jan 02, 1980</td>\n",
       "      <td>575.5</td>\n",
       "      <td>562.50</td>\n",
       "      <td>577.0</td>\n",
       "      <td>558.00</td>\n",
       "    </tr>\n",
       "    <tr>\n",
       "      <th>9768</th>\n",
       "      <td>Dec 31, 1979</td>\n",
       "      <td>533.6</td>\n",
       "      <td>527.88</td>\n",
       "      <td>534.5</td>\n",
       "      <td>527.88</td>\n",
       "    </tr>\n",
       "    <tr>\n",
       "      <th>9769</th>\n",
       "      <td>Dec 28, 1979</td>\n",
       "      <td>517.8</td>\n",
       "      <td>516.00</td>\n",
       "      <td>517.8</td>\n",
       "      <td>510.40</td>\n",
       "    </tr>\n",
       "    <tr>\n",
       "      <th>9770</th>\n",
       "      <td>Dec 27, 1979</td>\n",
       "      <td>515.5</td>\n",
       "      <td>517.00</td>\n",
       "      <td>517.0</td>\n",
       "      <td>513.00</td>\n",
       "    </tr>\n",
       "  </tbody>\n",
       "</table>\n",
       "<p>9771 rows × 5 columns</p>\n",
       "</div>"
      ],
      "text/plain": [
       "              Date   Price     Open    High      Low\n",
       "0     Aug 01, 2018  1216.6  1223.40  1223.4  1216.20\n",
       "1     Jul 31, 2018  1223.7  1220.40  1228.1  1213.00\n",
       "2     Jul 30, 2018  1221.3  1222.50  1223.9  1218.10\n",
       "3     Jul 27, 2018  1222.2  1223.50  1226.8  1216.70\n",
       "4     Jul 26, 2018  1225.3  1227.80  1227.8  1227.80\n",
       "...            ...     ...      ...     ...      ...\n",
       "9766  Jan 03, 1980   625.0   627.00   640.0   603.00\n",
       "9767  Jan 02, 1980   575.5   562.50   577.0   558.00\n",
       "9768  Dec 31, 1979   533.6   527.88   534.5   527.88\n",
       "9769  Dec 28, 1979   517.8   516.00   517.8   510.40\n",
       "9770  Dec 27, 1979   515.5   517.00   517.0   513.00\n",
       "\n",
       "[9771 rows x 5 columns]"
      ]
     },
     "execution_count": 77,
     "metadata": {},
     "output_type": "execute_result"
    }
   ],
   "source": [
    "gold = pd.read_csv('GoldPrice.csv')\n",
    "gold"
   ]
  },
  {
   "cell_type": "code",
   "execution_count": 78,
   "id": "865ae5cc",
   "metadata": {},
   "outputs": [
    {
     "data": {
      "text/plain": [
       "Date      object\n",
       "Price    float64\n",
       "Open     float64\n",
       "High     float64\n",
       "Low      float64\n",
       "dtype: object"
      ]
     },
     "execution_count": 78,
     "metadata": {},
     "output_type": "execute_result"
    }
   ],
   "source": [
    "gold.dtypes"
   ]
  },
  {
   "cell_type": "code",
   "execution_count": 79,
   "id": "2b611578",
   "metadata": {},
   "outputs": [
    {
     "data": {
      "text/html": [
       "<div>\n",
       "<style scoped>\n",
       "    .dataframe tbody tr th:only-of-type {\n",
       "        vertical-align: middle;\n",
       "    }\n",
       "\n",
       "    .dataframe tbody tr th {\n",
       "        vertical-align: top;\n",
       "    }\n",
       "\n",
       "    .dataframe thead th {\n",
       "        text-align: right;\n",
       "    }\n",
       "</style>\n",
       "<table border=\"1\" class=\"dataframe\">\n",
       "  <thead>\n",
       "    <tr style=\"text-align: right;\">\n",
       "      <th></th>\n",
       "      <th>Date</th>\n",
       "      <th>Price</th>\n",
       "      <th>Open</th>\n",
       "      <th>High</th>\n",
       "      <th>Low</th>\n",
       "    </tr>\n",
       "  </thead>\n",
       "  <tbody>\n",
       "    <tr>\n",
       "      <th>0</th>\n",
       "      <td>2018-08-01</td>\n",
       "      <td>1216.6</td>\n",
       "      <td>1223.40</td>\n",
       "      <td>1223.4</td>\n",
       "      <td>1216.20</td>\n",
       "    </tr>\n",
       "    <tr>\n",
       "      <th>1</th>\n",
       "      <td>2018-07-31</td>\n",
       "      <td>1223.7</td>\n",
       "      <td>1220.40</td>\n",
       "      <td>1228.1</td>\n",
       "      <td>1213.00</td>\n",
       "    </tr>\n",
       "    <tr>\n",
       "      <th>2</th>\n",
       "      <td>2018-07-30</td>\n",
       "      <td>1221.3</td>\n",
       "      <td>1222.50</td>\n",
       "      <td>1223.9</td>\n",
       "      <td>1218.10</td>\n",
       "    </tr>\n",
       "    <tr>\n",
       "      <th>3</th>\n",
       "      <td>2018-07-27</td>\n",
       "      <td>1222.2</td>\n",
       "      <td>1223.50</td>\n",
       "      <td>1226.8</td>\n",
       "      <td>1216.70</td>\n",
       "    </tr>\n",
       "    <tr>\n",
       "      <th>4</th>\n",
       "      <td>2018-07-26</td>\n",
       "      <td>1225.3</td>\n",
       "      <td>1227.80</td>\n",
       "      <td>1227.8</td>\n",
       "      <td>1227.80</td>\n",
       "    </tr>\n",
       "    <tr>\n",
       "      <th>...</th>\n",
       "      <td>...</td>\n",
       "      <td>...</td>\n",
       "      <td>...</td>\n",
       "      <td>...</td>\n",
       "      <td>...</td>\n",
       "    </tr>\n",
       "    <tr>\n",
       "      <th>9766</th>\n",
       "      <td>1980-01-03</td>\n",
       "      <td>625.0</td>\n",
       "      <td>627.00</td>\n",
       "      <td>640.0</td>\n",
       "      <td>603.00</td>\n",
       "    </tr>\n",
       "    <tr>\n",
       "      <th>9767</th>\n",
       "      <td>1980-01-02</td>\n",
       "      <td>575.5</td>\n",
       "      <td>562.50</td>\n",
       "      <td>577.0</td>\n",
       "      <td>558.00</td>\n",
       "    </tr>\n",
       "    <tr>\n",
       "      <th>9768</th>\n",
       "      <td>1979-12-31</td>\n",
       "      <td>533.6</td>\n",
       "      <td>527.88</td>\n",
       "      <td>534.5</td>\n",
       "      <td>527.88</td>\n",
       "    </tr>\n",
       "    <tr>\n",
       "      <th>9769</th>\n",
       "      <td>1979-12-28</td>\n",
       "      <td>517.8</td>\n",
       "      <td>516.00</td>\n",
       "      <td>517.8</td>\n",
       "      <td>510.40</td>\n",
       "    </tr>\n",
       "    <tr>\n",
       "      <th>9770</th>\n",
       "      <td>1979-12-27</td>\n",
       "      <td>515.5</td>\n",
       "      <td>517.00</td>\n",
       "      <td>517.0</td>\n",
       "      <td>513.00</td>\n",
       "    </tr>\n",
       "  </tbody>\n",
       "</table>\n",
       "<p>9771 rows × 5 columns</p>\n",
       "</div>"
      ],
      "text/plain": [
       "           Date   Price     Open    High      Low\n",
       "0    2018-08-01  1216.6  1223.40  1223.4  1216.20\n",
       "1    2018-07-31  1223.7  1220.40  1228.1  1213.00\n",
       "2    2018-07-30  1221.3  1222.50  1223.9  1218.10\n",
       "3    2018-07-27  1222.2  1223.50  1226.8  1216.70\n",
       "4    2018-07-26  1225.3  1227.80  1227.8  1227.80\n",
       "...         ...     ...      ...     ...      ...\n",
       "9766 1980-01-03   625.0   627.00   640.0   603.00\n",
       "9767 1980-01-02   575.5   562.50   577.0   558.00\n",
       "9768 1979-12-31   533.6   527.88   534.5   527.88\n",
       "9769 1979-12-28   517.8   516.00   517.8   510.40\n",
       "9770 1979-12-27   515.5   517.00   517.0   513.00\n",
       "\n",
       "[9771 rows x 5 columns]"
      ]
     },
     "execution_count": 79,
     "metadata": {},
     "output_type": "execute_result"
    }
   ],
   "source": [
    "gold['Date']=pd.to_datetime(gold['Date'])\n",
    "gold"
   ]
  },
  {
   "cell_type": "code",
   "execution_count": 80,
   "id": "980a29e1",
   "metadata": {},
   "outputs": [
    {
     "data": {
      "text/plain": [
       "Date     datetime64[ns]\n",
       "Price           float64\n",
       "Open            float64\n",
       "High            float64\n",
       "Low             float64\n",
       "dtype: object"
      ]
     },
     "execution_count": 80,
     "metadata": {},
     "output_type": "execute_result"
    }
   ],
   "source": [
    "gold.dtypes"
   ]
  },
  {
   "cell_type": "markdown",
   "id": "347d6cb3",
   "metadata": {},
   "source": [
    "Los objetos de tipo datetime tienen varios atributos, como **year,  month, day, hour**. Para acceder a los atributos y métodos  propios del tipo de dato datetime se utiliza el atributo dt."
   ]
  },
  {
   "cell_type": "code",
   "execution_count": 82,
   "id": "9f74c746",
   "metadata": {},
   "outputs": [
    {
     "data": {
      "text/plain": [
       "0       2018\n",
       "1       2018\n",
       "2       2018\n",
       "3       2018\n",
       "4       2018\n",
       "        ... \n",
       "9766    1980\n",
       "9767    1980\n",
       "9768    1979\n",
       "9769    1979\n",
       "9770    1979\n",
       "Name: Date, Length: 9771, dtype: int64"
      ]
     },
     "execution_count": 82,
     "metadata": {},
     "output_type": "execute_result"
    }
   ],
   "source": [
    "gold['Date'].dt.year"
   ]
  },
  {
   "cell_type": "code",
   "execution_count": 83,
   "id": "f5f850da",
   "metadata": {},
   "outputs": [
    {
     "data": {
      "text/plain": [
       "0        8\n",
       "1        7\n",
       "2        7\n",
       "3        7\n",
       "4        7\n",
       "        ..\n",
       "9766     1\n",
       "9767     1\n",
       "9768    12\n",
       "9769    12\n",
       "9770    12\n",
       "Name: Date, Length: 9771, dtype: int64"
      ]
     },
     "execution_count": 83,
     "metadata": {},
     "output_type": "execute_result"
    }
   ],
   "source": [
    "gold['Date'].dt.month"
   ]
  },
  {
   "cell_type": "code",
   "execution_count": 84,
   "id": "bb0b53f4",
   "metadata": {},
   "outputs": [
    {
     "data": {
      "text/plain": [
       "0        1\n",
       "1       31\n",
       "2       30\n",
       "3       27\n",
       "4       26\n",
       "        ..\n",
       "9766     3\n",
       "9767     2\n",
       "9768    31\n",
       "9769    28\n",
       "9770    27\n",
       "Name: Date, Length: 9771, dtype: int64"
      ]
     },
     "execution_count": 84,
     "metadata": {},
     "output_type": "execute_result"
    }
   ],
   "source": [
    "gold['Date'].dt.day"
   ]
  },
  {
   "cell_type": "markdown",
   "id": "e5281604",
   "metadata": {},
   "source": [
    "Podemos encontrar la fecha más antigua con **min** y la más reciente  con **max**. La resta de fechas da una instancia de **Timedelta**, que  representa intervalos de tiempo. No se puede sumar dos fechas,  pero sí se puede sumar un Datetime con un Timedelta."
   ]
  },
  {
   "cell_type": "code",
   "execution_count": 85,
   "id": "09a87e09",
   "metadata": {},
   "outputs": [
    {
     "data": {
      "text/plain": [
       "(Timestamp('1979-12-27 00:00:00'), Timestamp('2018-08-01 00:00:00'))"
      ]
     },
     "execution_count": 85,
     "metadata": {},
     "output_type": "execute_result"
    }
   ],
   "source": [
    "gold['Date'].min(), gold['Date'].max()"
   ]
  },
  {
   "cell_type": "code",
   "execution_count": 86,
   "id": "e98b39a2",
   "metadata": {},
   "outputs": [
    {
     "data": {
      "text/plain": [
       "Timedelta('14097 days 00:00:00')"
      ]
     },
     "execution_count": 86,
     "metadata": {},
     "output_type": "execute_result"
    }
   ],
   "source": [
    "gold['Date'].max()- gold['Date'].min()"
   ]
  },
  {
   "cell_type": "markdown",
   "id": "b318969b",
   "metadata": {},
   "source": [
    "Cuando tenemos datos relacionados a fechas, podemos  utilizar la serie de tiempo como índice. Esto le da mucha  funcionalidad ya que podemos seleccionar datos  reﬁriéndonos a las fechas.\n",
    "Para utilizar la columna de fechas como índice podemos  usar set_index. En este caso pandas crea un tipo de  dato especial, el DatetimeIndex. Como sólo se trata de  fechas podemos acceder a los métodos directamente,  sin pasar por el atributo dt.\n",
    "Ahora podemos seleccionar los datos según criterios  temporales, como todos los datos de un año o de todos  los lunes, usando indexing y ﬁltros."
   ]
  },
  {
   "cell_type": "code",
   "execution_count": 87,
   "id": "91c53831",
   "metadata": {},
   "outputs": [
    {
     "data": {
      "text/html": [
       "<div>\n",
       "<style scoped>\n",
       "    .dataframe tbody tr th:only-of-type {\n",
       "        vertical-align: middle;\n",
       "    }\n",
       "\n",
       "    .dataframe tbody tr th {\n",
       "        vertical-align: top;\n",
       "    }\n",
       "\n",
       "    .dataframe thead th {\n",
       "        text-align: right;\n",
       "    }\n",
       "</style>\n",
       "<table border=\"1\" class=\"dataframe\">\n",
       "  <thead>\n",
       "    <tr style=\"text-align: right;\">\n",
       "      <th></th>\n",
       "      <th>Date</th>\n",
       "      <th>Price</th>\n",
       "      <th>Open</th>\n",
       "      <th>High</th>\n",
       "      <th>Low</th>\n",
       "    </tr>\n",
       "  </thead>\n",
       "  <tbody>\n",
       "    <tr>\n",
       "      <th>0</th>\n",
       "      <td>2018-08-01</td>\n",
       "      <td>1216.6</td>\n",
       "      <td>1223.40</td>\n",
       "      <td>1223.4</td>\n",
       "      <td>1216.20</td>\n",
       "    </tr>\n",
       "    <tr>\n",
       "      <th>1</th>\n",
       "      <td>2018-07-31</td>\n",
       "      <td>1223.7</td>\n",
       "      <td>1220.40</td>\n",
       "      <td>1228.1</td>\n",
       "      <td>1213.00</td>\n",
       "    </tr>\n",
       "    <tr>\n",
       "      <th>2</th>\n",
       "      <td>2018-07-30</td>\n",
       "      <td>1221.3</td>\n",
       "      <td>1222.50</td>\n",
       "      <td>1223.9</td>\n",
       "      <td>1218.10</td>\n",
       "    </tr>\n",
       "    <tr>\n",
       "      <th>3</th>\n",
       "      <td>2018-07-27</td>\n",
       "      <td>1222.2</td>\n",
       "      <td>1223.50</td>\n",
       "      <td>1226.8</td>\n",
       "      <td>1216.70</td>\n",
       "    </tr>\n",
       "    <tr>\n",
       "      <th>4</th>\n",
       "      <td>2018-07-26</td>\n",
       "      <td>1225.3</td>\n",
       "      <td>1227.80</td>\n",
       "      <td>1227.8</td>\n",
       "      <td>1227.80</td>\n",
       "    </tr>\n",
       "    <tr>\n",
       "      <th>...</th>\n",
       "      <td>...</td>\n",
       "      <td>...</td>\n",
       "      <td>...</td>\n",
       "      <td>...</td>\n",
       "      <td>...</td>\n",
       "    </tr>\n",
       "    <tr>\n",
       "      <th>9766</th>\n",
       "      <td>1980-01-03</td>\n",
       "      <td>625.0</td>\n",
       "      <td>627.00</td>\n",
       "      <td>640.0</td>\n",
       "      <td>603.00</td>\n",
       "    </tr>\n",
       "    <tr>\n",
       "      <th>9767</th>\n",
       "      <td>1980-01-02</td>\n",
       "      <td>575.5</td>\n",
       "      <td>562.50</td>\n",
       "      <td>577.0</td>\n",
       "      <td>558.00</td>\n",
       "    </tr>\n",
       "    <tr>\n",
       "      <th>9768</th>\n",
       "      <td>1979-12-31</td>\n",
       "      <td>533.6</td>\n",
       "      <td>527.88</td>\n",
       "      <td>534.5</td>\n",
       "      <td>527.88</td>\n",
       "    </tr>\n",
       "    <tr>\n",
       "      <th>9769</th>\n",
       "      <td>1979-12-28</td>\n",
       "      <td>517.8</td>\n",
       "      <td>516.00</td>\n",
       "      <td>517.8</td>\n",
       "      <td>510.40</td>\n",
       "    </tr>\n",
       "    <tr>\n",
       "      <th>9770</th>\n",
       "      <td>1979-12-27</td>\n",
       "      <td>515.5</td>\n",
       "      <td>517.00</td>\n",
       "      <td>517.0</td>\n",
       "      <td>513.00</td>\n",
       "    </tr>\n",
       "  </tbody>\n",
       "</table>\n",
       "<p>9771 rows × 5 columns</p>\n",
       "</div>"
      ],
      "text/plain": [
       "           Date   Price     Open    High      Low\n",
       "0    2018-08-01  1216.6  1223.40  1223.4  1216.20\n",
       "1    2018-07-31  1223.7  1220.40  1228.1  1213.00\n",
       "2    2018-07-30  1221.3  1222.50  1223.9  1218.10\n",
       "3    2018-07-27  1222.2  1223.50  1226.8  1216.70\n",
       "4    2018-07-26  1225.3  1227.80  1227.8  1227.80\n",
       "...         ...     ...      ...     ...      ...\n",
       "9766 1980-01-03   625.0   627.00   640.0   603.00\n",
       "9767 1980-01-02   575.5   562.50   577.0   558.00\n",
       "9768 1979-12-31   533.6   527.88   534.5   527.88\n",
       "9769 1979-12-28   517.8   516.00   517.8   510.40\n",
       "9770 1979-12-27   515.5   517.00   517.0   513.00\n",
       "\n",
       "[9771 rows x 5 columns]"
      ]
     },
     "execution_count": 87,
     "metadata": {},
     "output_type": "execute_result"
    }
   ],
   "source": [
    "gold"
   ]
  },
  {
   "cell_type": "code",
   "execution_count": 88,
   "id": "c696911c",
   "metadata": {},
   "outputs": [
    {
     "data": {
      "text/html": [
       "<div>\n",
       "<style scoped>\n",
       "    .dataframe tbody tr th:only-of-type {\n",
       "        vertical-align: middle;\n",
       "    }\n",
       "\n",
       "    .dataframe tbody tr th {\n",
       "        vertical-align: top;\n",
       "    }\n",
       "\n",
       "    .dataframe thead th {\n",
       "        text-align: right;\n",
       "    }\n",
       "</style>\n",
       "<table border=\"1\" class=\"dataframe\">\n",
       "  <thead>\n",
       "    <tr style=\"text-align: right;\">\n",
       "      <th></th>\n",
       "      <th>Price</th>\n",
       "      <th>Open</th>\n",
       "      <th>High</th>\n",
       "      <th>Low</th>\n",
       "    </tr>\n",
       "    <tr>\n",
       "      <th>Date</th>\n",
       "      <th></th>\n",
       "      <th></th>\n",
       "      <th></th>\n",
       "      <th></th>\n",
       "    </tr>\n",
       "  </thead>\n",
       "  <tbody>\n",
       "    <tr>\n",
       "      <th>2018-08-01</th>\n",
       "      <td>1216.6</td>\n",
       "      <td>1223.40</td>\n",
       "      <td>1223.4</td>\n",
       "      <td>1216.20</td>\n",
       "    </tr>\n",
       "    <tr>\n",
       "      <th>2018-07-31</th>\n",
       "      <td>1223.7</td>\n",
       "      <td>1220.40</td>\n",
       "      <td>1228.1</td>\n",
       "      <td>1213.00</td>\n",
       "    </tr>\n",
       "    <tr>\n",
       "      <th>2018-07-30</th>\n",
       "      <td>1221.3</td>\n",
       "      <td>1222.50</td>\n",
       "      <td>1223.9</td>\n",
       "      <td>1218.10</td>\n",
       "    </tr>\n",
       "    <tr>\n",
       "      <th>2018-07-27</th>\n",
       "      <td>1222.2</td>\n",
       "      <td>1223.50</td>\n",
       "      <td>1226.8</td>\n",
       "      <td>1216.70</td>\n",
       "    </tr>\n",
       "    <tr>\n",
       "      <th>2018-07-26</th>\n",
       "      <td>1225.3</td>\n",
       "      <td>1227.80</td>\n",
       "      <td>1227.8</td>\n",
       "      <td>1227.80</td>\n",
       "    </tr>\n",
       "    <tr>\n",
       "      <th>...</th>\n",
       "      <td>...</td>\n",
       "      <td>...</td>\n",
       "      <td>...</td>\n",
       "      <td>...</td>\n",
       "    </tr>\n",
       "    <tr>\n",
       "      <th>1980-01-03</th>\n",
       "      <td>625.0</td>\n",
       "      <td>627.00</td>\n",
       "      <td>640.0</td>\n",
       "      <td>603.00</td>\n",
       "    </tr>\n",
       "    <tr>\n",
       "      <th>1980-01-02</th>\n",
       "      <td>575.5</td>\n",
       "      <td>562.50</td>\n",
       "      <td>577.0</td>\n",
       "      <td>558.00</td>\n",
       "    </tr>\n",
       "    <tr>\n",
       "      <th>1979-12-31</th>\n",
       "      <td>533.6</td>\n",
       "      <td>527.88</td>\n",
       "      <td>534.5</td>\n",
       "      <td>527.88</td>\n",
       "    </tr>\n",
       "    <tr>\n",
       "      <th>1979-12-28</th>\n",
       "      <td>517.8</td>\n",
       "      <td>516.00</td>\n",
       "      <td>517.8</td>\n",
       "      <td>510.40</td>\n",
       "    </tr>\n",
       "    <tr>\n",
       "      <th>1979-12-27</th>\n",
       "      <td>515.5</td>\n",
       "      <td>517.00</td>\n",
       "      <td>517.0</td>\n",
       "      <td>513.00</td>\n",
       "    </tr>\n",
       "  </tbody>\n",
       "</table>\n",
       "<p>9771 rows × 4 columns</p>\n",
       "</div>"
      ],
      "text/plain": [
       "             Price     Open    High      Low\n",
       "Date                                        \n",
       "2018-08-01  1216.6  1223.40  1223.4  1216.20\n",
       "2018-07-31  1223.7  1220.40  1228.1  1213.00\n",
       "2018-07-30  1221.3  1222.50  1223.9  1218.10\n",
       "2018-07-27  1222.2  1223.50  1226.8  1216.70\n",
       "2018-07-26  1225.3  1227.80  1227.8  1227.80\n",
       "...            ...      ...     ...      ...\n",
       "1980-01-03   625.0   627.00   640.0   603.00\n",
       "1980-01-02   575.5   562.50   577.0   558.00\n",
       "1979-12-31   533.6   527.88   534.5   527.88\n",
       "1979-12-28   517.8   516.00   517.8   510.40\n",
       "1979-12-27   515.5   517.00   517.0   513.00\n",
       "\n",
       "[9771 rows x 4 columns]"
      ]
     },
     "execution_count": 88,
     "metadata": {},
     "output_type": "execute_result"
    }
   ],
   "source": [
    "gold.set_index('Date', inplace = True)\n",
    "gold"
   ]
  },
  {
   "cell_type": "code",
   "execution_count": 89,
   "id": "da3c675e",
   "metadata": {},
   "outputs": [
    {
     "data": {
      "text/plain": [
       "DatetimeIndex(['2018-08-01', '2018-07-31', '2018-07-30', '2018-07-27',\n",
       "               '2018-07-26', '2018-07-25', '2018-07-24', '2018-07-23',\n",
       "               '2018-07-20', '2018-07-19',\n",
       "               ...\n",
       "               '1980-01-10', '1980-01-09', '1980-01-08', '1980-01-07',\n",
       "               '1980-01-04', '1980-01-03', '1980-01-02', '1979-12-31',\n",
       "               '1979-12-28', '1979-12-27'],\n",
       "              dtype='datetime64[ns]', name='Date', length=9771, freq=None)"
      ]
     },
     "execution_count": 89,
     "metadata": {},
     "output_type": "execute_result"
    }
   ],
   "source": [
    "gold.index"
   ]
  },
  {
   "cell_type": "code",
   "execution_count": 90,
   "id": "7b223081",
   "metadata": {},
   "outputs": [
    {
     "data": {
      "text/html": [
       "<div>\n",
       "<style scoped>\n",
       "    .dataframe tbody tr th:only-of-type {\n",
       "        vertical-align: middle;\n",
       "    }\n",
       "\n",
       "    .dataframe tbody tr th {\n",
       "        vertical-align: top;\n",
       "    }\n",
       "\n",
       "    .dataframe thead th {\n",
       "        text-align: right;\n",
       "    }\n",
       "</style>\n",
       "<table border=\"1\" class=\"dataframe\">\n",
       "  <thead>\n",
       "    <tr style=\"text-align: right;\">\n",
       "      <th></th>\n",
       "      <th>Price</th>\n",
       "      <th>Open</th>\n",
       "      <th>High</th>\n",
       "      <th>Low</th>\n",
       "    </tr>\n",
       "    <tr>\n",
       "      <th>Date</th>\n",
       "      <th></th>\n",
       "      <th></th>\n",
       "      <th></th>\n",
       "      <th></th>\n",
       "    </tr>\n",
       "  </thead>\n",
       "  <tbody>\n",
       "    <tr>\n",
       "      <th>2016-12-30</th>\n",
       "      <td>1150.00</td>\n",
       "      <td>1162.0</td>\n",
       "      <td>1162.00</td>\n",
       "      <td>1151.0</td>\n",
       "    </tr>\n",
       "    <tr>\n",
       "      <th>2016-12-29</th>\n",
       "      <td>1156.40</td>\n",
       "      <td>1143.8</td>\n",
       "      <td>1158.80</td>\n",
       "      <td>1143.6</td>\n",
       "    </tr>\n",
       "    <tr>\n",
       "      <th>2016-12-28</th>\n",
       "      <td>1139.40</td>\n",
       "      <td>1141.2</td>\n",
       "      <td>1141.20</td>\n",
       "      <td>1138.0</td>\n",
       "    </tr>\n",
       "    <tr>\n",
       "      <th>2016-12-27</th>\n",
       "      <td>1137.30</td>\n",
       "      <td>1134.3</td>\n",
       "      <td>1142.20</td>\n",
       "      <td>1134.3</td>\n",
       "    </tr>\n",
       "    <tr>\n",
       "      <th>2016-12-26</th>\n",
       "      <td>1134.55</td>\n",
       "      <td>1135.0</td>\n",
       "      <td>1136.05</td>\n",
       "      <td>1134.0</td>\n",
       "    </tr>\n",
       "    <tr>\n",
       "      <th>...</th>\n",
       "      <td>...</td>\n",
       "      <td>...</td>\n",
       "      <td>...</td>\n",
       "      <td>...</td>\n",
       "    </tr>\n",
       "    <tr>\n",
       "      <th>2016-01-08</th>\n",
       "      <td>1097.80</td>\n",
       "      <td>1111.1</td>\n",
       "      <td>1111.10</td>\n",
       "      <td>1093.0</td>\n",
       "    </tr>\n",
       "    <tr>\n",
       "      <th>2016-01-07</th>\n",
       "      <td>1107.70</td>\n",
       "      <td>1091.6</td>\n",
       "      <td>1109.40</td>\n",
       "      <td>1091.6</td>\n",
       "    </tr>\n",
       "    <tr>\n",
       "      <th>2016-01-06</th>\n",
       "      <td>1091.90</td>\n",
       "      <td>1081.6</td>\n",
       "      <td>1093.70</td>\n",
       "      <td>1081.6</td>\n",
       "    </tr>\n",
       "    <tr>\n",
       "      <th>2016-01-05</th>\n",
       "      <td>1078.40</td>\n",
       "      <td>1075.6</td>\n",
       "      <td>1081.50</td>\n",
       "      <td>1075.3</td>\n",
       "    </tr>\n",
       "    <tr>\n",
       "      <th>2016-01-04</th>\n",
       "      <td>1075.10</td>\n",
       "      <td>1063.4</td>\n",
       "      <td>1082.50</td>\n",
       "      <td>1063.2</td>\n",
       "    </tr>\n",
       "  </tbody>\n",
       "</table>\n",
       "<p>265 rows × 4 columns</p>\n",
       "</div>"
      ],
      "text/plain": [
       "              Price    Open     High     Low\n",
       "Date                                        \n",
       "2016-12-30  1150.00  1162.0  1162.00  1151.0\n",
       "2016-12-29  1156.40  1143.8  1158.80  1143.6\n",
       "2016-12-28  1139.40  1141.2  1141.20  1138.0\n",
       "2016-12-27  1137.30  1134.3  1142.20  1134.3\n",
       "2016-12-26  1134.55  1135.0  1136.05  1134.0\n",
       "...             ...     ...      ...     ...\n",
       "2016-01-08  1097.80  1111.1  1111.10  1093.0\n",
       "2016-01-07  1107.70  1091.6  1109.40  1091.6\n",
       "2016-01-06  1091.90  1081.6  1093.70  1081.6\n",
       "2016-01-05  1078.40  1075.6  1081.50  1075.3\n",
       "2016-01-04  1075.10  1063.4  1082.50  1063.2\n",
       "\n",
       "[265 rows x 4 columns]"
      ]
     },
     "execution_count": 90,
     "metadata": {},
     "output_type": "execute_result"
    }
   ],
   "source": [
    "# seleccionar el año 2016\n",
    "gold.loc['2016']"
   ]
  },
  {
   "cell_type": "code",
   "execution_count": 91,
   "id": "29722bb1",
   "metadata": {},
   "outputs": [
    {
     "data": {
      "text/html": [
       "<div>\n",
       "<style scoped>\n",
       "    .dataframe tbody tr th:only-of-type {\n",
       "        vertical-align: middle;\n",
       "    }\n",
       "\n",
       "    .dataframe tbody tr th {\n",
       "        vertical-align: top;\n",
       "    }\n",
       "\n",
       "    .dataframe thead th {\n",
       "        text-align: right;\n",
       "    }\n",
       "</style>\n",
       "<table border=\"1\" class=\"dataframe\">\n",
       "  <thead>\n",
       "    <tr style=\"text-align: right;\">\n",
       "      <th></th>\n",
       "      <th>Price</th>\n",
       "      <th>Open</th>\n",
       "      <th>High</th>\n",
       "      <th>Low</th>\n",
       "    </tr>\n",
       "    <tr>\n",
       "      <th>Date</th>\n",
       "      <th></th>\n",
       "      <th></th>\n",
       "      <th></th>\n",
       "      <th></th>\n",
       "    </tr>\n",
       "  </thead>\n",
       "  <tbody>\n",
       "    <tr>\n",
       "      <th>2018-08-01</th>\n",
       "      <td>1216.6</td>\n",
       "      <td>1223.4</td>\n",
       "      <td>1223.4</td>\n",
       "      <td>1216.2</td>\n",
       "    </tr>\n",
       "    <tr>\n",
       "      <th>2018-07-31</th>\n",
       "      <td>1223.7</td>\n",
       "      <td>1220.4</td>\n",
       "      <td>1228.1</td>\n",
       "      <td>1213.0</td>\n",
       "    </tr>\n",
       "    <tr>\n",
       "      <th>2018-07-30</th>\n",
       "      <td>1221.3</td>\n",
       "      <td>1222.5</td>\n",
       "      <td>1223.9</td>\n",
       "      <td>1218.1</td>\n",
       "    </tr>\n",
       "    <tr>\n",
       "      <th>2018-07-27</th>\n",
       "      <td>1222.2</td>\n",
       "      <td>1223.5</td>\n",
       "      <td>1226.8</td>\n",
       "      <td>1216.7</td>\n",
       "    </tr>\n",
       "    <tr>\n",
       "      <th>2018-07-26</th>\n",
       "      <td>1225.3</td>\n",
       "      <td>1227.8</td>\n",
       "      <td>1227.8</td>\n",
       "      <td>1227.8</td>\n",
       "    </tr>\n",
       "    <tr>\n",
       "      <th>...</th>\n",
       "      <td>...</td>\n",
       "      <td>...</td>\n",
       "      <td>...</td>\n",
       "      <td>...</td>\n",
       "    </tr>\n",
       "    <tr>\n",
       "      <th>2018-04-27</th>\n",
       "      <td>1320.3</td>\n",
       "      <td>1315.3</td>\n",
       "      <td>1321.7</td>\n",
       "      <td>1312.8</td>\n",
       "    </tr>\n",
       "    <tr>\n",
       "      <th>2018-04-26</th>\n",
       "      <td>1316.3</td>\n",
       "      <td>1315.7</td>\n",
       "      <td>1315.8</td>\n",
       "      <td>1315.7</td>\n",
       "    </tr>\n",
       "    <tr>\n",
       "      <th>2018-04-25</th>\n",
       "      <td>1321.2</td>\n",
       "      <td>1324.0</td>\n",
       "      <td>1325.0</td>\n",
       "      <td>1320.0</td>\n",
       "    </tr>\n",
       "    <tr>\n",
       "      <th>2018-04-24</th>\n",
       "      <td>1331.4</td>\n",
       "      <td>1326.4</td>\n",
       "      <td>1331.7</td>\n",
       "      <td>1326.2</td>\n",
       "    </tr>\n",
       "    <tr>\n",
       "      <th>2018-04-23</th>\n",
       "      <td>1322.5</td>\n",
       "      <td>1334.0</td>\n",
       "      <td>1334.4</td>\n",
       "      <td>1323.5</td>\n",
       "    </tr>\n",
       "  </tbody>\n",
       "</table>\n",
       "<p>74 rows × 4 columns</p>\n",
       "</div>"
      ],
      "text/plain": [
       "             Price    Open    High     Low\n",
       "Date                                      \n",
       "2018-08-01  1216.6  1223.4  1223.4  1216.2\n",
       "2018-07-31  1223.7  1220.4  1228.1  1213.0\n",
       "2018-07-30  1221.3  1222.5  1223.9  1218.1\n",
       "2018-07-27  1222.2  1223.5  1226.8  1216.7\n",
       "2018-07-26  1225.3  1227.8  1227.8  1227.8\n",
       "...            ...     ...     ...     ...\n",
       "2018-04-27  1320.3  1315.3  1321.7  1312.8\n",
       "2018-04-26  1316.3  1315.7  1315.8  1315.7\n",
       "2018-04-25  1321.2  1324.0  1325.0  1320.0\n",
       "2018-04-24  1331.4  1326.4  1331.7  1326.2\n",
       "2018-04-23  1322.5  1334.0  1334.4  1323.5\n",
       "\n",
       "[74 rows x 4 columns]"
      ]
     },
     "execution_count": 91,
     "metadata": {},
     "output_type": "execute_result"
    }
   ],
   "source": [
    "# registros posteriores a una fecha\n",
    "gold[gold.index > '2018-4-20' ]"
   ]
  },
  {
   "cell_type": "code",
   "execution_count": 92,
   "id": "ebe442a3",
   "metadata": {},
   "outputs": [
    {
     "data": {
      "text/html": [
       "<div>\n",
       "<style scoped>\n",
       "    .dataframe tbody tr th:only-of-type {\n",
       "        vertical-align: middle;\n",
       "    }\n",
       "\n",
       "    .dataframe tbody tr th {\n",
       "        vertical-align: top;\n",
       "    }\n",
       "\n",
       "    .dataframe thead th {\n",
       "        text-align: right;\n",
       "    }\n",
       "</style>\n",
       "<table border=\"1\" class=\"dataframe\">\n",
       "  <thead>\n",
       "    <tr style=\"text-align: right;\">\n",
       "      <th></th>\n",
       "      <th>Price</th>\n",
       "      <th>Open</th>\n",
       "      <th>High</th>\n",
       "      <th>Low</th>\n",
       "    </tr>\n",
       "    <tr>\n",
       "      <th>Date</th>\n",
       "      <th></th>\n",
       "      <th></th>\n",
       "      <th></th>\n",
       "      <th></th>\n",
       "    </tr>\n",
       "  </thead>\n",
       "  <tbody>\n",
       "    <tr>\n",
       "      <th>2018-07-30</th>\n",
       "      <td>1221.3</td>\n",
       "      <td>1222.50</td>\n",
       "      <td>1223.9</td>\n",
       "      <td>1218.10</td>\n",
       "    </tr>\n",
       "    <tr>\n",
       "      <th>2018-07-23</th>\n",
       "      <td>1224.0</td>\n",
       "      <td>1222.00</td>\n",
       "      <td>1222.0</td>\n",
       "      <td>1222.00</td>\n",
       "    </tr>\n",
       "    <tr>\n",
       "      <th>2018-07-16</th>\n",
       "      <td>1238.1</td>\n",
       "      <td>1242.70</td>\n",
       "      <td>1243.8</td>\n",
       "      <td>1242.70</td>\n",
       "    </tr>\n",
       "    <tr>\n",
       "      <th>2018-07-09</th>\n",
       "      <td>1258.1</td>\n",
       "      <td>1258.20</td>\n",
       "      <td>1262.3</td>\n",
       "      <td>1257.70</td>\n",
       "    </tr>\n",
       "    <tr>\n",
       "      <th>2018-07-02</th>\n",
       "      <td>1239.8</td>\n",
       "      <td>1249.90</td>\n",
       "      <td>1249.9</td>\n",
       "      <td>1239.80</td>\n",
       "    </tr>\n",
       "    <tr>\n",
       "      <th>...</th>\n",
       "      <td>...</td>\n",
       "      <td>...</td>\n",
       "      <td>...</td>\n",
       "      <td>...</td>\n",
       "    </tr>\n",
       "    <tr>\n",
       "      <th>1980-01-28</th>\n",
       "      <td>638.0</td>\n",
       "      <td>634.00</td>\n",
       "      <td>643.0</td>\n",
       "      <td>606.00</td>\n",
       "    </tr>\n",
       "    <tr>\n",
       "      <th>1980-01-21</th>\n",
       "      <td>825.5</td>\n",
       "      <td>875.00</td>\n",
       "      <td>875.0</td>\n",
       "      <td>812.00</td>\n",
       "    </tr>\n",
       "    <tr>\n",
       "      <th>1980-01-14</th>\n",
       "      <td>671.0</td>\n",
       "      <td>672.00</td>\n",
       "      <td>672.0</td>\n",
       "      <td>650.00</td>\n",
       "    </tr>\n",
       "    <tr>\n",
       "      <th>1980-01-07</th>\n",
       "      <td>627.0</td>\n",
       "      <td>629.00</td>\n",
       "      <td>635.0</td>\n",
       "      <td>611.00</td>\n",
       "    </tr>\n",
       "    <tr>\n",
       "      <th>1979-12-31</th>\n",
       "      <td>533.6</td>\n",
       "      <td>527.88</td>\n",
       "      <td>534.5</td>\n",
       "      <td>527.88</td>\n",
       "    </tr>\n",
       "  </tbody>\n",
       "</table>\n",
       "<p>1869 rows × 4 columns</p>\n",
       "</div>"
      ],
      "text/plain": [
       "             Price     Open    High      Low\n",
       "Date                                        \n",
       "2018-07-30  1221.3  1222.50  1223.9  1218.10\n",
       "2018-07-23  1224.0  1222.00  1222.0  1222.00\n",
       "2018-07-16  1238.1  1242.70  1243.8  1242.70\n",
       "2018-07-09  1258.1  1258.20  1262.3  1257.70\n",
       "2018-07-02  1239.8  1249.90  1249.9  1239.80\n",
       "...            ...      ...     ...      ...\n",
       "1980-01-28   638.0   634.00   643.0   606.00\n",
       "1980-01-21   825.5   875.00   875.0   812.00\n",
       "1980-01-14   671.0   672.00   672.0   650.00\n",
       "1980-01-07   627.0   629.00   635.0   611.00\n",
       "1979-12-31   533.6   527.88   534.5   527.88\n",
       "\n",
       "[1869 rows x 4 columns]"
      ]
     },
     "execution_count": 92,
     "metadata": {},
     "output_type": "execute_result"
    }
   ],
   "source": [
    "# seleccionar todos los lunes del dataset\n",
    "gold[gold.index.dayofweek == 0 ]"
   ]
  },
  {
   "cell_type": "markdown",
   "id": "cf8176a4",
   "metadata": {},
   "source": [
    "# Modulo 6.- Matplotlib 1"
   ]
  },
  {
   "cell_type": "markdown",
   "id": "790e7dbe",
   "metadata": {},
   "source": [
    "## 1.1. Visualización de datos\n",
    "La **visualización de datos** es la representación de  los datos a través de gráﬁcos de distinto tipo.      \n",
    "Es un  tipo de representación mucho más fácil de entender  para una persona que otras formas de representar  información, como las tablas, más aún cuando la  cantidad de datos es grande.\n",
    "Las representaciones visuales permiten descubrir y  comunicar relaciones complejas entre los datos y son  una herramienta importante del análisis de datos  moderno."
   ]
  },
  {
   "cell_type": "markdown",
   "id": "b6083f30",
   "metadata": {},
   "source": [
    "**Matplotlib** es un módulo de bajo nivel para  visualización de datos. Está hecho sobre Numpy,  por lo que es ideal para hacer gráﬁcos a partir  de datos alojados en arrays. Por esta razón se  integra perfectamente al ecosistema de  módulos de Python.\n",
    "Se dice que es de bajo nivel porque permite  controlar cualquier aspecto de un gráﬁco, ya que  tiene numerosas funciones para conﬁgurar  cualquier cosa que uno quiera. Por esto mismo  sirve de base a otros módulos (de alto nivel) que  están construidos sobre Matplotlib, como  Seaborn o Cartopy."
   ]
  },
  {
   "cell_type": "markdown",
   "id": "496933ad",
   "metadata": {},
   "source": [
    "## 1.2. Interfaces\n",
    "Matplotlib ofrece dos interfaces (o formas de  interactuar con las funcionalidades):\n",
    "- La interfaz “pyplot”.\n",
    "- La interfaz orientada a objetos.\n",
    "\n",
    "Las dos interfaces dan acceso a la misma  funcionalidad, sin embargo, la primera es más  cómoda a la hora de realizar gráﬁcos sencillos  de forma rápida mientras que la segunda es  algo más conveniente a la hora de hacer  gráﬁcos complejos."
   ]
  },
  {
   "cell_type": "markdown",
   "id": "192c169b",
   "metadata": {},
   "source": [
    "### 1.2.1. Interfaz Pyplot\n",
    "Dentro de matplotlib encontramos el módulo  pyplot que se suele importar bajo el alias plt.\n",
    "\n",
    "***import matplotlib.pyplot as plt***\n",
    "\n",
    "El módulo contiene numerosas funciones para  hacer distintos tipos de gráﬁcos a partir de los  datos."
   ]
  },
  {
   "cell_type": "markdown",
   "id": "4e53eab7",
   "metadata": {},
   "source": [
    "La función **plot** es una de las funciones básicas y sirve  para graﬁcar puntos en 2d y unirlos con líneas (por  defecto una línea continua azul). Recibe como  parámetros dos arrays, uno para las coordenadas x y  otro para las coordenadas y de los datos.\n",
    "En caso de que se provea un solo array, este se usa  como coordenadas **y** mientras que las coordenadas x se  defaultean a números enteros empezando por cero."
   ]
  },
  {
   "cell_type": "code",
   "execution_count": 3,
   "id": "026afa66",
   "metadata": {},
   "outputs": [
    {
     "data": {
      "text/plain": [
       "[<matplotlib.lines.Line2D at 0x2ae9039f2e0>]"
      ]
     },
     "execution_count": 3,
     "metadata": {},
     "output_type": "execute_result"
    },
    {
     "data": {
      "image/png": "[encoded data removed]",
      "text/plain": [
       "<Figure size 432x288 with 1 Axes>"
      ]
     },
     "metadata": {
      "needs_background": "light"
     },
     "output_type": "display_data"
    }
   ],
   "source": [
    "N = 8\n",
    "x = np.linspace(0,6,N)\n",
    "y = np.sin(x)\n",
    "plt.plot(x, y)"
   ]
  },
  {
   "cell_type": "code",
   "execution_count": 4,
   "id": "ce2a7c8a",
   "metadata": {},
   "outputs": [
    {
     "data": {
      "text/plain": [
       "[<matplotlib.lines.Line2D at 0x2ae9048afd0>]"
      ]
     },
     "execution_count": 4,
     "metadata": {},
     "output_type": "execute_result"
    },
    {
     "data": {
      "image/png": "[encoded data removed]",
      "text/plain": [
       "<Figure size 432x288 with 1 Axes>"
      ]
     },
     "metadata": {
      "needs_background": "light"
     },
     "output_type": "display_data"
    }
   ],
   "source": [
    "N = 200\n",
    "x = np.linspace(0,6,N)\n",
    "y = np.sin(x)\n",
    "plt.plot(x, y)"
   ]
  },
  {
   "cell_type": "code",
   "execution_count": 5,
   "id": "dcf2f986",
   "metadata": {},
   "outputs": [
    {
     "data": {
      "text/plain": [
       "[<matplotlib.lines.Line2D at 0x2ae904f5f70>]"
      ]
     },
     "execution_count": 5,
     "metadata": {},
     "output_type": "execute_result"
    },
    {
     "data": {
      "image/png": "[encoded data removed]",
      "text/plain": [
       "<Figure size 432x288 with 1 Axes>"
      ]
     },
     "metadata": {
      "needs_background": "light"
     },
     "output_type": "display_data"
    }
   ],
   "source": [
    "plt.plot([1,5,3,7,4])"
   ]
  },
  {
   "cell_type": "markdown",
   "id": "eaa9303a",
   "metadata": {},
   "source": [
    "# Modulo 6.- Matplotlib 2"
   ]
  },
  {
   "cell_type": "markdown",
   "id": "da5c756d",
   "metadata": {},
   "source": [
    "## 2.1. Format String\n",
    "Adicionalmente a los datos, a la función plot se le puede  pasar un string para controlar algunos aspectos básicos  del gráﬁco de forma rápida y sencilla. Este format string  puede contener información para controlar tres aspectos:\n",
    "- Marcador: controla el tipo de marca que se usa para  señalar los datos, como por ejemplo si los vamos a  marcar con círculos, cuadrados, triángulos, puntos,  estrellas, etc.\n",
    "- Línea: el tipo de línea a utilizar para unir los puntos:  continua, punteada, rayada, raya-punto o ninguna.\n",
    "- Color: algunos colores básicos que podemos usar para  el conjunto de datos"
   ]
  },
  {
   "cell_type": "markdown",
   "id": "56b03247",
   "metadata": {},
   "source": [
    "### 2.2.1. Marcador\n",
    "Cada opción tiene un carácter que lo representa y puede estar presente o no en el format string.  Las opciones para el marcador son:\n",
    "![imagen](marcadores.png)"
   ]
  },
  {
   "cell_type": "markdown",
   "id": "3e974b0f",
   "metadata": {},
   "source": [
    "### 2.2.2. Linea y Color\n",
    "Los caracteres para el tipo de línea y para el color se muestran a continuación.  Si el carácter de la línea se omite, solo graﬁcará los puntos.\n",
    "![imagen](lineas.png)"
   ]
  },
  {
   "cell_type": "code",
   "execution_count": 2,
   "id": "b40bfb60",
   "metadata": {},
   "outputs": [
    {
     "data": {
      "text/plain": [
       "[<matplotlib.lines.Line2D at 0x194fd1adfd0>]"
      ]
     },
     "execution_count": 2,
     "metadata": {},
     "output_type": "execute_result"
    },
    {
     "data": {
      "image/png": "[encoded data removed]",
      "text/plain": [
       "<Figure size 432x288 with 1 Axes>"
      ]
     },
     "metadata": {
      "needs_background": "light"
     },
     "output_type": "display_data"
    }
   ],
   "source": [
    "plt.plot([1,5,3,7,4], 's:m')"
   ]
  },
  {
   "cell_type": "code",
   "execution_count": 3,
   "id": "5010503b",
   "metadata": {},
   "outputs": [
    {
     "data": {
      "text/plain": [
       "[<matplotlib.lines.Line2D at 0x194fd934e20>]"
      ]
     },
     "execution_count": 3,
     "metadata": {},
     "output_type": "execute_result"
    },
    {
     "data": {
      "image/png": "[encoded data removed]",
      "text/plain": [
       "<Figure size 432x288 with 1 Axes>"
      ]
     },
     "metadata": {
      "needs_background": "light"
     },
     "output_type": "display_data"
    }
   ],
   "source": [
    "plt.plot([1,5,3,7,4], '^--g')"
   ]
  },
  {
   "cell_type": "code",
   "execution_count": 4,
   "id": "a6f72326",
   "metadata": {},
   "outputs": [
    {
     "data": {
      "text/plain": [
       "[<matplotlib.lines.Line2D at 0x194fd9a8070>]"
      ]
     },
     "execution_count": 4,
     "metadata": {},
     "output_type": "execute_result"
    },
    {
     "data": {
      "image/png": "[encoded data removed]",
      "text/plain": [
       "<Figure size 432x288 with 1 Axes>"
      ]
     },
     "metadata": {
      "needs_background": "light"
     },
     "output_type": "display_data"
    }
   ],
   "source": [
    "plt.plot([1,5,3,7,4], 'o-.b')"
   ]
  },
  {
   "cell_type": "code",
   "execution_count": 5,
   "id": "ffac689d",
   "metadata": {},
   "outputs": [
    {
     "data": {
      "text/plain": [
       "[<matplotlib.lines.Line2D at 0x194fd9ffd90>]"
      ]
     },
     "execution_count": 5,
     "metadata": {},
     "output_type": "execute_result"
    },
    {
     "data": {
      "image/png": "[encoded data removed]",
      "text/plain": [
       "<Figure size 432x288 with 1 Axes>"
      ]
     },
     "metadata": {
      "needs_background": "light"
     },
     "output_type": "display_data"
    }
   ],
   "source": [
    "plt.plot([1,5,3,7,4], ':k')"
   ]
  },
  {
   "cell_type": "markdown",
   "id": "a28853b8",
   "metadata": {},
   "source": [
    "## 2.3. Argumentos\n",
    "Si bien es posible controlar algunos  aspectos básicos con el format  string, para un control más completo  de los aspectos del gráﬁco debemos  usar los parámetros de la función."
   ]
  },
  {
   "cell_type": "code",
   "execution_count": 6,
   "id": "290abc7c",
   "metadata": {},
   "outputs": [
    {
     "data": {
      "text/plain": [
       "[<matplotlib.lines.Line2D at 0x194fda60e80>]"
      ]
     },
     "execution_count": 6,
     "metadata": {},
     "output_type": "execute_result"
    },
    {
     "data": {
      "image/png": "[encoded data removed]",
      "text/plain": [
       "<Figure size 432x288 with 1 Axes>"
      ]
     },
     "metadata": {
      "needs_background": "light"
     },
     "output_type": "display_data"
    }
   ],
   "source": [
    "plt.plot([1,5,3,7,4], marker ='s', markersize = 10, \n",
    "         markerfacecolor = 'red', markeredgecolor = 'blue', \n",
    "         markeredgewidth = 3, linewidth = 5)"
   ]
  },
  {
   "cell_type": "markdown",
   "id": "0c5e56cd",
   "metadata": {},
   "source": [
    "# Modulo 6.- Matplotlib 3"
   ]
  },
  {
   "cell_type": "markdown",
   "id": "20e2a93f",
   "metadata": {},
   "source": [
    "## 3.1. Anatomia de un gráfico\n",
    "Un gráﬁco de matplotlib se puede  componer de muchas partes, cada  una representada por un tipo de  objeto particular, constituyendo una  jerarquía de objetos.\n",
    "El más grande de ellos es la **ﬁgura**,  que puede contener uno o más  **subgráﬁcos** y estos a su vez pueden  contener otros objetos como **líneas,  puntos, leyendas**"
   ]
  },
  {
   "cell_type": "markdown",
   "id": "1ac781a1",
   "metadata": {},
   "source": [
    "Para controlar las propiedades de la ﬁgura se usa la  función **figure**. Esta función crea una nueva ﬁgura.  Cuando usamos solamente la función plot la ﬁgura  se crea implícitamente con los valores por defecto. Al  crearla explícitamente podemos controlar sus  parámetros, como por ejemplo el tamaño de la ﬁgura.\n",
    "\n",
    "El parámetro **figsize** recibe una tupla de números  con las dimensiones de ancho y alto total de la ﬁgura  medido en pulgadas."
   ]
  },
  {
   "cell_type": "markdown",
   "id": "b42d27c5",
   "metadata": {},
   "source": [
    "La interfaz de pyplot trabaja manteniendo un  registro de cuál es la ﬁgura activa, de modo que  las funciones que se invocan actúan sobre ella. Por ejemplo, si llamamos a la función plot  muchas veces seguidas actúan sobre el mismo  gráﬁco.\n",
    "\n",
    "Para que actúen sobre ﬁguras distintas  hay que crear un nueva ﬁgura mediante **plt.figure()**.\n",
    "\n",
    "Así podemos representar varios conjuntos de  datos en una o varias ﬁguras."
   ]
  },
  {
   "cell_type": "code",
   "execution_count": 7,
   "id": "37ce0853",
   "metadata": {},
   "outputs": [
    {
     "data": {
      "text/plain": [
       "[<matplotlib.lines.Line2D at 0x194fda3c1f0>]"
      ]
     },
     "execution_count": 7,
     "metadata": {},
     "output_type": "execute_result"
    },
    {
     "data": {
      "image/png": "[encoded data removed]",
      "text/plain": [
       "<Figure size 432x288 with 1 Axes>"
      ]
     },
     "metadata": {
      "needs_background": "light"
     },
     "output_type": "display_data"
    }
   ],
   "source": [
    "x = np.array([0, 1, 2, 3, 4, 5])\n",
    "plt.plot(x, 'o-r')\n",
    "plt.plot(x**2, 's:g')"
   ]
  },
  {
   "cell_type": "code",
   "execution_count": 8,
   "id": "e53a1322",
   "metadata": {},
   "outputs": [
    {
     "data": {
      "text/plain": [
       "[<matplotlib.lines.Line2D at 0x194fdb56040>]"
      ]
     },
     "execution_count": 8,
     "metadata": {},
     "output_type": "execute_result"
    },
    {
     "data": {
      "image/png": "[encoded data removed]",
      "text/plain": [
       "<Figure size 432x288 with 1 Axes>"
      ]
     },
     "metadata": {
      "needs_background": "light"
     },
     "output_type": "display_data"
    },
    {
     "data": {
      "image/png": "[encoded data removed]",
      "text/plain": [
       "<Figure size 432x288 with 1 Axes>"
      ]
     },
     "metadata": {
      "needs_background": "light"
     },
     "output_type": "display_data"
    }
   ],
   "source": [
    "x = np.array([0, 1, 2, 3, 4, 5])\n",
    "plt.plot(x, 'o-r')\n",
    "plt.figure()\n",
    "plt.plot(x**2, 's:g')"
   ]
  },
  {
   "cell_type": "markdown",
   "id": "401bea56",
   "metadata": {},
   "source": [
    "## 3.2. Otros elementos de un gráfico\n",
    "Del mismo modo podemos agregar más elementos  siempre teniendo en cuenta que las funciones actúan  sobre la ﬁgura activa. Por ejemplo la **función title**  permite agregarle un título a la ﬁgura. Las **funciones  xlabel e ylabel** permiten deﬁnir el texto de los ejes.      \n",
    "Si cada conjunto de datos tiene deﬁnido un label,  la **función legend** permite activar el recuadro de  leyendas. El label se deﬁne dentro de la función  que construye el gráﬁco con el parámetro del  mismo nombre.\n",
    "\n",
    "No importa el orden en que se vayan llamando a  las distintas funciones."
   ]
  },
  {
   "cell_type": "code",
   "execution_count": 9,
   "id": "94e42459",
   "metadata": {},
   "outputs": [
    {
     "data": {
      "text/plain": [
       "<matplotlib.legend.Legend at 0x194fdb614f0>"
      ]
     },
     "execution_count": 9,
     "metadata": {},
     "output_type": "execute_result"
    },
    {
     "data": {
      "image/png": "[encoded data removed]",
      "text/plain": [
       "<Figure size 432x288 with 1 Axes>"
      ]
     },
     "metadata": {
      "needs_background": "light"
     },
     "output_type": "display_data"
    }
   ],
   "source": [
    "x = np.array([0, 1, 2, 3, 4, 5])\n",
    "plt.plot(x, 'o-r', label = 'lineal')\n",
    "plt.plot(x**2, 's:g', label = 'cuadratica')\n",
    "plt.title('Grafico 1')\n",
    "plt.xlabel('Eje x')\n",
    "plt.ylabel('Eje y')\n",
    "plt.legend()"
   ]
  },
  {
   "cell_type": "markdown",
   "id": "c55b960d",
   "metadata": {},
   "source": [
    "# Modulo 6.- Matplotlib 4"
   ]
  },
  {
   "cell_type": "markdown",
   "id": "ee19e896",
   "metadata": {},
   "source": [
    "## 4.1. Otros tipos de gráficos\n",
    "Vimos que el módulo pyplot tiene numerosas  funciones para activar distintos elementos dentro  de un gráﬁco.      \n",
    "También tiene varias funciones para  realizar distintos tipos de gráﬁcos.      \n",
    "Hasta ahora solo vimos la función plot, pero  encontramos también las funciones **scatter,  hist, bar, barh, pie, violinplot, boxplot**. Con ellas vamos a poder representar  información de diversas"
   ]
  },
  {
   "cell_type": "markdown",
   "id": "3f6c3773",
   "metadata": {},
   "source": [
    "### 4.1.1. Gráficos de puntos - scatter plot.\n",
    "La función **scatter** función permite graﬁcar puntos  en el plano donde además podemos controlar el  color y el tamaño de cada punto para representar  más información aparte de las coordenadas de los  puntos, como categorías o magnitudes continuas  asociadas a cada punto."
   ]
  },
  {
   "cell_type": "code",
   "execution_count": 12,
   "id": "4eda6590",
   "metadata": {},
   "outputs": [],
   "source": [
    "x, y = np.random.random((2, 30))  \n",
    "c = np.random.randint(0, 9, 30)\n",
    "s = np.random.randint(10, 150, 30)"
   ]
  },
  {
   "cell_type": "code",
   "execution_count": 13,
   "id": "7eaadf1f",
   "metadata": {},
   "outputs": [
    {
     "data": {
      "text/plain": [
       "<matplotlib.collections.PathCollection at 0x194fdc4bcd0>"
      ]
     },
     "execution_count": 13,
     "metadata": {},
     "output_type": "execute_result"
    },
    {
     "data": {
      "image/png": "[encoded data removed]",
      "text/plain": [
       "<Figure size 432x288 with 1 Axes>"
      ]
     },
     "metadata": {
      "needs_background": "light"
     },
     "output_type": "display_data"
    }
   ],
   "source": [
    "plt.scatter(x, y, c = c, s = s)"
   ]
  },
  {
   "cell_type": "markdown",
   "id": "ef41b50c",
   "metadata": {},
   "source": [
    "### 4.1.2. Histogramas.\n",
    "Se pueden crear histogramas con la función **hist**.      \n",
    "Este tipo de gráﬁcos es útil para apreciar la  distribución de números. Se conforma de barras  cuyo alto es la cantidad de datos que están entre los  valores determinados por el ancho de la barra.\n",
    "Se puede controlar la cantidad de barras con el  parámetro **bins**. A su vez se puede hacer varios  histogramas en una misma ﬁgura y controlar cómo  se muestran juntas con el parámetro **histtype**.\n"
   ]
  },
  {
   "cell_type": "code",
   "execution_count": 14,
   "id": "dbdc59e9",
   "metadata": {},
   "outputs": [
    {
     "data": {
      "text/plain": [
       "<matplotlib.legend.Legend at 0x194fdcdad60>"
      ]
     },
     "execution_count": 14,
     "metadata": {},
     "output_type": "execute_result"
    },
    {
     "data": {
      "image/png": "[encoded data removed]",
      "text/plain": [
       "<Figure size 432x288 with 1 Axes>"
      ]
     },
     "metadata": {
      "needs_background": "light"
     },
     "output_type": "display_data"
    }
   ],
   "source": [
    "x1 = np.random.normal(4, 3, 1000)\n",
    "x2 = np.random.normal(1, 1, 1000)\n",
    "plt.hist((x1, x2), bins = 20, label = ['Grupo1', 'Grupo2'])\n",
    "plt.title('Histograma')\n",
    "plt.legend()"
   ]
  },
  {
   "cell_type": "code",
   "execution_count": 15,
   "id": "c6cae75f",
   "metadata": {},
   "outputs": [
    {
     "data": {
      "text/plain": [
       "Text(0.5, 1.0, 'Histograma')"
      ]
     },
     "execution_count": 15,
     "metadata": {},
     "output_type": "execute_result"
    },
    {
     "data": {
      "image/png": "[encoded data removed]",
      "text/plain": [
       "<Figure size 432x288 with 1 Axes>"
      ]
     },
     "metadata": {
      "needs_background": "light"
     },
     "output_type": "display_data"
    }
   ],
   "source": [
    "x1 = np.random.normal(4, 3, 1000)\n",
    "x2 = np.random.normal(1, 1, 1000)\n",
    "plt.hist((x1, x2), bins = 10, histtype = 'stepfilled', alpha = 0.5)\n",
    "plt.title('Histograma')\n"
   ]
  },
  {
   "cell_type": "markdown",
   "id": "47950b11",
   "metadata": {},
   "source": [
    "### 4.1.3. Grafico de Barras.\n",
    "Este tipo de gráﬁco permite visualizar cantidades mediante  barras en donde la longitud de cada barra es proporcional a la  magnitud que se quiere representar.       \n",
    "Se suele utilizar para  representar información que pertenece a categorías distintas.\n",
    "La función bar necesita dos parámetros x e y que representan  las posiciones de los centros de cada barra en el eje x y la  altura de cada barra en el eje y respectivamente. Así,  podemos poner barras en cualquier posición del eje x y con  cualquier altura. El ancho de las barras las podemos controlar  con el parámetro **width**.       \n",
    "Las etiquetas del eje x se controlan  con **tick_label**.\n",
    "La **función barh** permite hacer barras horizontales."
   ]
  },
  {
   "cell_type": "code",
   "execution_count": 16,
   "id": "55c81cf3",
   "metadata": {},
   "outputs": [
    {
     "data": {
      "text/plain": [
       "<BarContainer object of 3 artists>"
      ]
     },
     "execution_count": 16,
     "metadata": {},
     "output_type": "execute_result"
    },
    {
     "data": {
      "image/png": "[encoded data removed]",
      "text/plain": [
       "<Figure size 432x288 with 1 Axes>"
      ]
     },
     "metadata": {
      "needs_background": "light"
     },
     "output_type": "display_data"
    }
   ],
   "source": [
    "plt.bar([1, 2, 4], [18, 12, 21], tick_label = ['A', 'B', 'C'])"
   ]
  },
  {
   "cell_type": "code",
   "execution_count": 17,
   "id": "312674e5",
   "metadata": {},
   "outputs": [
    {
     "data": {
      "text/plain": [
       "<BarContainer object of 3 artists>"
      ]
     },
     "execution_count": 17,
     "metadata": {},
     "output_type": "execute_result"
    },
    {
     "data": {
      "image/png": "[encoded data removed]",
      "text/plain": [
       "<Figure size 432x288 with 1 Axes>"
      ]
     },
     "metadata": {
      "needs_background": "light"
     },
     "output_type": "display_data"
    }
   ],
   "source": [
    "plt.barh([1, 2, 4], [18, 12, 21], tick_label = ['A', 'B', 'C'])"
   ]
  },
  {
   "cell_type": "markdown",
   "id": "d77d725f",
   "metadata": {},
   "source": [
    "### 4.1.3. Grafico de Tortas - Pie.\n",
    "Este tipo de gráﬁco es muy útil para mostrar las  proporciones relativas entre distintas cantidades  visualizándolas como cuñas de un mismo círculo.        \n",
    "Se realizan con la **función pie** que toma las  magnitudes a representar.\n",
    "Se le puede especiﬁcar el **parámetro labels** para  asignar textos a cada cuña. También está el  **parámetro explode**, que permite separar las  cuñas del centro del gráﬁco para destacar alguna  de ellas."
   ]
  },
  {
   "cell_type": "code",
   "execution_count": 18,
   "id": "2dd2aad8",
   "metadata": {},
   "outputs": [
    {
     "data": {
      "text/plain": [
       "Text(0.5, 1.0, 'Gráfico de Torta')"
      ]
     },
     "execution_count": 18,
     "metadata": {},
     "output_type": "execute_result"
    },
    {
     "data": {
      "image/png": "[encoded data removed]",
      "text/plain": [
       "<Figure size 432x288 with 1 Axes>"
      ]
     },
     "metadata": {},
     "output_type": "display_data"
    }
   ],
   "source": [
    "plt.pie([12, 18, 35, 80], labels = list('ABCD'))\n",
    "plt.title('Gráfico de Torta')"
   ]
  },
  {
   "cell_type": "code",
   "execution_count": 19,
   "id": "bbb93698",
   "metadata": {},
   "outputs": [
    {
     "data": {
      "text/plain": [
       "Text(0.5, 1.0, 'Gráfico de Torta')"
      ]
     },
     "execution_count": 19,
     "metadata": {},
     "output_type": "execute_result"
    },
    {
     "data": {
      "image/png": "[encoded data removed]",
      "text/plain": [
       "<Figure size 432x288 with 1 Axes>"
      ]
     },
     "metadata": {},
     "output_type": "display_data"
    }
   ],
   "source": [
    "plt.pie([12, 18, 35, 58], labels = list('ABCD'),\n",
    "       explode = [0.7, 0.2, 0, 0], shadow = True)\n",
    "plt.title('Gráfico de Torta')"
   ]
  },
  {
   "cell_type": "markdown",
   "id": "1c75d465",
   "metadata": {},
   "source": [
    "# Modulo 6.- Matplotlib 5"
   ]
  },
  {
   "cell_type": "markdown",
   "id": "29b98de0",
   "metadata": {},
   "source": [
    "## 5.1. Subplots\n",
    "En ciertas situaciones podemos querer representar varios  gráﬁcos dentro de la misma ﬁgura.      Podemos crear varios  plots dentro de la misma ﬁgura con la **función subplot**.\n",
    "Esta función añade un subgráﬁco a la ﬁgura activa y  matplotlib queda enfocado en ese subplot, de modo que  las acciones que hagamos repercuten sobre ese  subgráﬁco. Para pasar a otro subgráﬁco debemos llamar a  subplot otra vez.\n",
    "La función subplot toma la cantidad de ﬁlas y columnas en  las que deben acomodarse los subgráﬁcos. Por ejemplo,  dos ﬁlas y una columna conforman un gráﬁco sobre otro.\n",
    "Dos ﬁlas y dos columnas conforman cuatro subgráﬁcos. El  tercer parámetro es el índice del subgráﬁco sobre el que  enfocarse.\n"
   ]
  },
  {
   "cell_type": "code",
   "execution_count": 20,
   "id": "ed51fd68",
   "metadata": {},
   "outputs": [
    {
     "data": {
      "text/plain": [
       "Text(0.5, 1.0, 'Gráfico de Tortas')"
      ]
     },
     "execution_count": 20,
     "metadata": {},
     "output_type": "execute_result"
    },
    {
     "data": {
      "image/png": "[encoded data removed]",
      "text/plain": [
       "<Figure size 576x216 with 2 Axes>"
      ]
     },
     "metadata": {
      "needs_background": "light"
     },
     "output_type": "display_data"
    }
   ],
   "source": [
    "plt.figure(figsize = (8,3))\n",
    "plt.subplot(1, 2, 1)\n",
    "plt.hist(np.random.rand(500))\n",
    "plt.title('Histograma')\n",
    "plt.subplot(1, 2, 2)\n",
    "plt.pie([6, 9, 15, 24, 38])\n",
    "plt.title('Gráfico de Tortas')"
   ]
  },
  {
   "cell_type": "code",
   "execution_count": 21,
   "id": "4ecfd41e",
   "metadata": {},
   "outputs": [
    {
     "data": {
      "text/plain": [
       "[<matplotlib.lines.Line2D at 0x194fefc4640>]"
      ]
     },
     "execution_count": 21,
     "metadata": {},
     "output_type": "execute_result"
    },
    {
     "data": {
      "image/png": "[encoded data removed]",
      "text/plain": [
       "<Figure size 432x288 with 2 Axes>"
      ]
     },
     "metadata": {
      "needs_background": "light"
     },
     "output_type": "display_data"
    }
   ],
   "source": [
    "x = np.linspace(-10, 10, 400)\n",
    "plt.figure(figsize = (6, 4))\n",
    "plt.subplot(2, 1, 1)\n",
    "plt.plot(x, np.cos(x))\n",
    "plt.subplot(2, 1, 2)\n",
    "plt.plot(x, np.cos(x * np.log(np.abs(x)+1)))"
   ]
  },
  {
   "cell_type": "markdown",
   "id": "2248c628",
   "metadata": {},
   "source": [
    "## 5.2. Interfaz orientada a objetos\n",
    "Hasta ahora vimos que la interfaz pyplot  mantiene un registro de cuál es la ﬁgura activa  y las funciones que ejecutamos tienen efecto  sobre esa ﬁgura. Para que las funciones tengan  efecto en otra parte tenemos que activar una  nueva ﬁgura o subplot.\n",
    "La interfaz orientada a objetos permite ponerle  nombre a los objetos como ﬁguras y subplots,  de modo que podamos referirnos a ellos en  cualquier parte y en cualquier orden. Y ahora  ya no vamos a trabajar con funciones sino con  métodos sobre esos objetos."
   ]
  },
  {
   "cell_type": "markdown",
   "id": "9a41fac5",
   "metadata": {},
   "source": [
    "### 5.2.1. plt.subplots\n",
    "Para crear estos objetos usamos la función subplots  (en plural) que crea una ﬁgura y uno o más subplots.  Debemos pasarle la cantidad de ﬁlas y columnas que  van a diagramar a los subplots (por defecto 1 y 1, es  decir, una ﬁgura con un subplot)."
   ]
  },
  {
   "cell_type": "code",
   "execution_count": 22,
   "id": "241ad24b",
   "metadata": {},
   "outputs": [
    {
     "data": {
      "image/png": "[encoded data removed]",
      "text/plain": [
       "<Figure size 432x288 with 1 Axes>"
      ]
     },
     "metadata": {
      "needs_background": "light"
     },
     "output_type": "display_data"
    }
   ],
   "source": [
    "fig, ax = plt.subplots()"
   ]
  },
  {
   "cell_type": "markdown",
   "id": "94784197",
   "metadata": {},
   "source": [
    "Si tenemos más de un subplot el segundo elemento es  un array que contiene a los objetos de cada subplot."
   ]
  },
  {
   "cell_type": "code",
   "execution_count": 23,
   "id": "511648c7",
   "metadata": {},
   "outputs": [
    {
     "name": "stdout",
     "output_type": "stream",
     "text": [
      "<class 'numpy.ndarray'> (2, 2)\n"
     ]
    },
    {
     "data": {
      "image/png": "[encoded data removed]",
      "text/plain": [
       "<Figure size 432x288 with 4 Axes>"
      ]
     },
     "metadata": {
      "needs_background": "light"
     },
     "output_type": "display_data"
    }
   ],
   "source": [
    "fig, axs = plt.subplots(2, 2)\n",
    "print(type(axs), axs.shape)"
   ]
  },
  {
   "cell_type": "markdown",
   "id": "a7da2e6a",
   "metadata": {},
   "source": [
    "### 5.2.3. Subplots\n",
    "Al hacer subgráﬁcos tenemos que acceder  a cada objeto del array usando los índices  correspondientes.\n"
   ]
  },
  {
   "cell_type": "code",
   "execution_count": 24,
   "id": "01d88feb",
   "metadata": {},
   "outputs": [
    {
     "data": {
      "text/plain": [
       "<BarContainer object of 3 artists>"
      ]
     },
     "execution_count": 24,
     "metadata": {},
     "output_type": "execute_result"
    },
    {
     "data": {
      "image/png": "[encoded data removed]",
      "text/plain": [
       "<Figure size 432x288 with 4 Axes>"
      ]
     },
     "metadata": {
      "needs_background": "light"
     },
     "output_type": "display_data"
    }
   ],
   "source": [
    "fig, axs = plt.subplots(2, 2)\n",
    "axs[0,0].plot([3, 6, 2, 5])\n",
    "axs[0,1].hist(np.random.randn(100))\n",
    "axs[1,0].pie([3, 6, 5, 18, 8])\n",
    "axs[1,1].bar([1, 2, 3], [4, 6, 8])\n"
   ]
  }
 ],
 "metadata": {
  "kernelspec": {
   "display_name": "Python 3",
   "language": "python",
   "name": "python3"
  },
  "language_info": {
   "codemirror_mode": {
    "name": "ipython",
    "version": 3
   },
   "file_extension": ".py",
   "mimetype": "text/x-python",
   "name": "python",
   "nbconvert_exporter": "python",
   "pygments_lexer": "ipython3",
   "version": "3.8.8"
  }
 },
 "nbformat": 4,
 "nbformat_minor": 5
}
