{
 "cells": [
  {
   "cell_type": "markdown",
   "id": "a09df688",
   "metadata": {},
   "source": [
    "## Link de Material Complementario\n"
   ]
  },
  {
   "cell_type": "markdown",
   "id": "25392a7a",
   "metadata": {},
   "source": [
    "# MODULO 2"
   ]
  },
  {
   "cell_type": "markdown",
   "id": "68a72134",
   "metadata": {},
   "source": [
    "# 1. Funciones"
   ]
  },
  {
   "cell_type": "markdown",
   "id": "2fc4c925",
   "metadata": {},
   "source": [
    "## 1.1. Definicion\n",
    "Las funciones nos permiten agrupar una o más líneas de código bajo\n",
    "un mismo nombre. Su objetivo principal es el de evitar la repetición\n",
    "de código, haciendo de un archivo de código de fuente más claro,\n",
    "legible y fácil de mantener.    \n",
    "Para deﬁnir una función se utiliza la palabra  reservada **def**. Las reglas para nombrar funciones  son las mismas que para las variables. Entre  paréntesis va la lista de parámetros y luego de los  dos puntos \"**:**\", va el bloque de código que constituye el  cuerpo de la función.    \n",
    "Este bloque puede contener la palabra reservada  **return** que indica el valor de retorno de la función.    \n",
    "Estrictamente hablando, la función devuelve una  referencia al objeto que señale con la palabra la  palabra return. Si luego de esta palabra no se  señala ningún objeto o la función no ejecuta ningún  return, entonces se devuelve None.\n"
   ]
  },
  {
   "cell_type": "code",
   "execution_count": null,
   "id": "4a730d0f",
   "metadata": {},
   "outputs": [],
   "source": [
    "print(\"¡Hola mundo!\")\n",
    "print(\"Desde Python.\")\n",
    "a = 5\n",
    "b = 7\n",
    "c = a * b\n",
    "print(c)\n",
    "print(\"¡Hola mundo!\")\n",
    "print(\"Desde Python.\")"
   ]
  },
  {
   "cell_type": "code",
   "execution_count": 2,
   "id": "37a8a3fc",
   "metadata": {},
   "outputs": [
    {
     "name": "stdout",
     "output_type": "stream",
     "text": [
      "¡Hola mundo!\n",
      "Desde Python.\n",
      "35\n",
      "¡Hola mundo!\n",
      "Desde Python.\n"
     ]
    }
   ],
   "source": [
    "# Definimos la funcion \n",
    "def mi_funcion():\n",
    "    print(\"¡Hola mundo!\")\n",
    "    print(\"Desde Python.\")\n",
    "\n",
    "# Ahora que tenemos esta función, en los lugares donde hacíamos uso de esas dos líneas simplemente pondremos mi_funcion() .\n",
    "# Para que se ejecute la funcion lo unico que tenemos que hacer es invocarla \n",
    "\n",
    "mi_funcion()\n",
    "a = 5\n",
    "b = 7\n",
    "c = a * b\n",
    "print(c)\n",
    "mi_funcion()\n",
    "\n"
   ]
  },
  {
   "cell_type": "markdown",
   "id": "259e66b8",
   "metadata": {},
   "source": [
    "## 1.2. Argumentos\n",
    "A una función se le puede pasar información  en forma de argumentos. Estos se deﬁnen  entre los paréntesis que siguen al nombre  de la función en la deﬁnición y pueden ser  tantos como se necesiten.    \n",
    "Se pueden deﬁnir argumentos de distinto tipo.  Los **argumentos posicionales** son aquellos que  necesariamente hay que incluir cuando se invoque a la  función, mientras que los **keyword arguments**  son aquellos que tienen un valor por defecto en la  deﬁnición de la función y no necesariamente hay  que pasarlos a la hora de ejecutar la función.\n",
    "Cuando una función tiene los dos tipos de  parámetros, hay que colocar los posicionales  antes de los keyword arguments.\n"
   ]
  },
  {
   "cell_type": "code",
   "execution_count": 5,
   "id": "2c40606a",
   "metadata": {},
   "outputs": [
    {
     "name": "stdout",
     "output_type": "stream",
     "text": [
      "4000000\n"
     ]
    },
    {
     "data": {
      "text/plain": [
       "360000"
      ]
     },
     "execution_count": 5,
     "metadata": {},
     "output_type": "execute_result"
    }
   ],
   "source": [
    "# Argumento posicional\n",
    "def f(x):\n",
    "    return 4 * x ** 2\n",
    "print(f(1000))\n",
    "\n",
    "w = f(300)\n",
    "w"
   ]
  },
  {
   "cell_type": "code",
   "execution_count": 9,
   "id": "d4506841",
   "metadata": {},
   "outputs": [
    {
     "data": {
      "text/plain": [
       "40"
      ]
     },
     "execution_count": 9,
     "metadata": {},
     "output_type": "execute_result"
    }
   ],
   "source": [
    "def suma(x, y):\n",
    "    return x + y \n",
    "\n",
    "z = suma(23, 17)\n",
    "z"
   ]
  },
  {
   "cell_type": "code",
   "execution_count": 11,
   "id": "535739fa",
   "metadata": {},
   "outputs": [
    {
     "name": "stdout",
     "output_type": "stream",
     "text": [
      "4\n"
     ]
    }
   ],
   "source": [
    "# Argumento Keyword\n",
    "def f(x, a = 4):\n",
    "    return a * x ** 2\n",
    "#print(f(2))\n",
    "print(f(2,1))\n"
   ]
  },
  {
   "cell_type": "code",
   "execution_count": 13,
   "id": "7ff744cc",
   "metadata": {},
   "outputs": [
    {
     "data": {
      "text/plain": [
       "40"
      ]
     },
     "execution_count": 13,
     "metadata": {},
     "output_type": "execute_result"
    }
   ],
   "source": [
    "def suma1(x, y):\n",
    "    z= x + y \n",
    "    return z\n",
    "\n",
    "m = suma(23, 17)\n",
    "m"
   ]
  },
  {
   "cell_type": "markdown",
   "id": "e7a8096c",
   "metadata": {},
   "source": [
    "# 1.3. Funciones de Orden Superior\n",
    "Se entiende por funciones de orden superior a aquellas  funciones que toman a otras funciones como parámetros o  devuelven a una función. "
   ]
  },
  {
   "cell_type": "markdown",
   "id": "2fb668ea",
   "metadata": {},
   "source": [
    "## 1.3.1 Funcion map()"
   ]
  },
  {
   "cell_type": "code",
   "execution_count": 14,
   "id": "8df12c91",
   "metadata": {},
   "outputs": [
    {
     "data": {
      "text/plain": [
       "[29, 89, 74, 61, 34]"
      ]
     },
     "execution_count": 14,
     "metadata": {},
     "output_type": "execute_result"
    }
   ],
   "source": [
    "def aplicar(funcion, lista):\n",
    "    resultado = []\n",
    "    for item in lista:\n",
    "        resultado.append(funcion(item))\n",
    "    return resultado\n",
    "\n",
    "def cuenta(x):\n",
    "    return x ** 2 + 25\n",
    "\n",
    "numeros = [2,8,7,6,3]\n",
    "aplicar(cuenta, numeros)\n"
   ]
  },
  {
   "cell_type": "markdown",
   "id": "b714353f",
   "metadata": {},
   "source": [
    "Esta función retorna un generador. Esto signiﬁca  que sus elementos no son calculados hasta que  sea explícitamente requerido. Esto permite  almacenarlo en la colección que queramos o  iterar sobre sus elementos de forma eﬁciente.\n"
   ]
  },
  {
   "cell_type": "code",
   "execution_count": 15,
   "id": "b6418e6e",
   "metadata": {},
   "outputs": [
    {
     "data": {
      "text/plain": [
       "<map at 0x2863db06f40>"
      ]
     },
     "execution_count": 15,
     "metadata": {},
     "output_type": "execute_result"
    }
   ],
   "source": [
    "def cuenta(x):\n",
    "    return x ** 2 + 25\n",
    "\n",
    "numeros = [2,8,7,6,3]\n",
    "map(cuenta, numeros)"
   ]
  },
  {
   "cell_type": "code",
   "execution_count": 16,
   "id": "f02cb975",
   "metadata": {},
   "outputs": [
    {
     "data": {
      "text/plain": [
       "[29, 89, 74, 61, 34]"
      ]
     },
     "execution_count": 16,
     "metadata": {},
     "output_type": "execute_result"
    }
   ],
   "source": [
    "list(map(cuenta, numeros))"
   ]
  },
  {
   "cell_type": "code",
   "execution_count": 17,
   "id": "0304ba10",
   "metadata": {},
   "outputs": [
    {
     "data": {
      "text/plain": [
       "(29, 89, 74, 61, 34)"
      ]
     },
     "execution_count": 17,
     "metadata": {},
     "output_type": "execute_result"
    }
   ],
   "source": [
    "tuple(map(cuenta, numeros))"
   ]
  },
  {
   "cell_type": "markdown",
   "id": "4b7ef9af",
   "metadata": {},
   "source": [
    "## 1.3.2. Funcion filter()\n",
    "La función ﬁlter permite seleccionar elementos de  un iterable utilizando a otra función para decidir qué  elementos seleccionar. Esta función debe retornar  True o False y se seleccionan los elementos para los\n",
    "que se devuelve True, es decir, se ﬁltran los elementos  según el resultado de la función.    \n",
    "Al igual que map, ﬁlter devuelve un  generador que se puede convertir  a alguna colección o sobre el que  se puede iterar.\n"
   ]
  },
  {
   "cell_type": "code",
   "execution_count": 18,
   "id": "8f4439af",
   "metadata": {},
   "outputs": [
    {
     "data": {
      "text/plain": [
       "<filter at 0x2863db06bb0>"
      ]
     },
     "execution_count": 18,
     "metadata": {},
     "output_type": "execute_result"
    }
   ],
   "source": [
    "# Selecciona los elementos pares de la lista\n",
    "numeros = [2,8,7,6,3,10,24,6,8,9]\n",
    "\n",
    "def par(x):\n",
    "    return x % 2 == 0\n",
    "filter(par,numeros)\n"
   ]
  },
  {
   "cell_type": "code",
   "execution_count": 19,
   "id": "03f167dc",
   "metadata": {},
   "outputs": [
    {
     "data": {
      "text/plain": [
       "[2, 8, 6, 10, 24, 6, 8]"
      ]
     },
     "execution_count": 19,
     "metadata": {},
     "output_type": "execute_result"
    }
   ],
   "source": [
    "list(filter(par,numeros))"
   ]
  },
  {
   "cell_type": "code",
   "execution_count": 20,
   "id": "08a2dda4",
   "metadata": {},
   "outputs": [
    {
     "data": {
      "text/plain": [
       "[29, 89, 61, 125, 601, 61, 89]"
      ]
     },
     "execution_count": 20,
     "metadata": {},
     "output_type": "execute_result"
    }
   ],
   "source": [
    "# Combinando map() y filter()\n",
    "\n",
    "list(map(cuenta, filter(par,numeros)))"
   ]
  },
  {
   "cell_type": "markdown",
   "id": "7987a988",
   "metadata": {},
   "source": [
    "## 1.3.3. Funciones Anonimas\n",
    "Python permite deﬁnir pequeñas funciones sin nombre: las  funciones **anónimas o lambda**.    \n",
    "Estas funciones no tienen  nombre y su cuerpo está limitado a una única expresión. Para  deﬁnirlas se utiliza la palabra reservada ***lambda*** seguida de los  parámetros que tome la función y luego de los dos puntos  sigue la expresión a evaluar y devolver. A continuación, algunos  ejemplos de funciones ordinarias y las lambda equivalentes.\n"
   ]
  },
  {
   "cell_type": "code",
   "execution_count": 22,
   "id": "9b73bc81",
   "metadata": {},
   "outputs": [
    {
     "data": {
      "text/plain": [
       "[29, 89, 74, 61, 34]"
      ]
     },
     "execution_count": 22,
     "metadata": {},
     "output_type": "execute_result"
    }
   ],
   "source": [
    "numeros = [2,8,7,6,3]\n",
    "def cuenta(x):\n",
    "    return x ** 2 + 25\n",
    "#list(map(cuenta, numeros))\n",
    "\n",
    "# Con lambda\n",
    "list(map(lambda x:x ** 2 + 25 , numeros))"
   ]
  },
  {
   "cell_type": "code",
   "execution_count": 23,
   "id": "38b17d8d",
   "metadata": {},
   "outputs": [
    {
     "data": {
      "text/plain": [
       "['Juan', 'Carolina', 'Raul', 'Flavia']"
      ]
     },
     "execution_count": 23,
     "metadata": {},
     "output_type": "execute_result"
    }
   ],
   "source": [
    "nombres = ['jUAN', ' carolina ', 'RAUL', '   FlaVIA']\n",
    "list(map(lambda x: x.strip().capitalize(),nombres))"
   ]
  },
  {
   "cell_type": "code",
   "execution_count": 24,
   "id": "8830d9ad",
   "metadata": {},
   "outputs": [
    {
     "data": {
      "text/plain": [
       "99980026"
      ]
     },
     "execution_count": 24,
     "metadata": {},
     "output_type": "execute_result"
    }
   ],
   "source": [
    "cuenta(9999)"
   ]
  },
  {
   "cell_type": "markdown",
   "id": "4bdd6ab5",
   "metadata": {},
   "source": [
    "# MODULO 3 - Biblioteca Numpy 1\n"
   ]
  },
  {
   "cell_type": "code",
   "execution_count": 25,
   "id": "d1908863",
   "metadata": {},
   "outputs": [],
   "source": [
    "import numpy as np"
   ]
  },
  {
   "cell_type": "markdown",
   "id": "0f098758",
   "metadata": {},
   "source": [
    "Numpy (de Numerical Python) es la principal librería de  cálculo numérico de Python y el ecosistema de librerías  cientíﬁcas del lenguaje (como Pandas y Matplotlib)  recurre a Numpy para realizar sus operaciones.    \n",
    "Se basa en una estructura de datos multidimensional  llamada **array** y en una serie de funciones muy  optimizadas para su manipulación, incluyendo  operaciones matemáticas, lógicas, de selección y  ordenamiento, operaciones estadísticas, álgebra lineal  y más.\n"
   ]
  },
  {
   "cell_type": "markdown",
   "id": "64d9015c",
   "metadata": {},
   "source": [
    "# 1.1. Array\n",
    "El array (o ndarray) es la estructura que permite  acelerar las operaciones matemáticas en Python, sin  la necesidad de recurrir a bucles para operar con  todos sus elementos, lo que se llama **vectorización**.     \n",
    "El array es una estructura de datos mucho más  optimizada que la lista, pero a cambio presenta  menos ﬂexibilidad.     \n",
    "El array sólo admite elementos  de un **único tipo de dato** y **no se puede cambiar la  cantidad de elementos**.     \n",
    "Esto garantiza que siempre  ocupe el mismo espacio y todos sus elementos se  puedan representar en una sección continua de  memoria.    \n",
    "Es una estructura multidimensional, por lo que  permite representar vectores, matrices o arreglos  de más dimensiones."
   ]
  },
  {
   "cell_type": "markdown",
   "id": "64060edb",
   "metadata": {},
   "source": [
    "### 1.1.1. Atributos de un Array\n",
    "- **dtype**: el tipo de dato del array, en general numérico.\n",
    "- **size**: cantidad de elementos.\n",
    "- **nbytes**: total de bytes consumidos por los datos  (bytes del tipo de dato por la cantidad de elementos).\n",
    "- **ndim**: número de dimensiones.\n",
    "- **shape**: cantidad de elementos en cada dimensión.\n",
    "\n"
   ]
  },
  {
   "cell_type": "code",
   "execution_count": 39,
   "id": "65fa539d",
   "metadata": {},
   "outputs": [
    {
     "name": "stdout",
     "output_type": "stream",
     "text": [
      "<class 'numpy.ndarray'>\n"
     ]
    },
    {
     "data": {
      "text/plain": [
       "dtype('int32')"
      ]
     },
     "execution_count": 39,
     "metadata": {},
     "output_type": "execute_result"
    }
   ],
   "source": [
    "a = np.array([1, 2, 3])\n",
    "print(type(a))\n",
    "a.dtype"
   ]
  },
  {
   "cell_type": "code",
   "execution_count": 30,
   "id": "a4aa20a9",
   "metadata": {},
   "outputs": [
    {
     "name": "stdout",
     "output_type": "stream",
     "text": [
      "[[4 5 6]\n",
      " [7 8 9]]\n",
      "------------\n",
      "[[4 7]\n",
      " [5 8]\n",
      " [6 9]]\n"
     ]
    }
   ],
   "source": [
    "b = np.array([[4, 5, 6], [7, 8, 9]])\n",
    "print(b)\n",
    "\n",
    "print('------------')\n",
    "# Obtenemos la transposicion de b\n",
    "print(b.T)"
   ]
  },
  {
   "cell_type": "code",
   "execution_count": 34,
   "id": "3002beb7",
   "metadata": {},
   "outputs": [
    {
     "name": "stdout",
     "output_type": "stream",
     "text": [
      "3 6\n"
     ]
    }
   ],
   "source": [
    "# Cantidad de elementos\n",
    "a.size\n",
    "b.size\n",
    "print(a.size, b.size )"
   ]
  },
  {
   "cell_type": "code",
   "execution_count": 35,
   "id": "ecfcc6f0",
   "metadata": {},
   "outputs": [
    {
     "name": "stdout",
     "output_type": "stream",
     "text": [
      "12 24\n"
     ]
    }
   ],
   "source": [
    "# Cuantos bytes hay en a y b\n",
    "a.nbytes\n",
    "b.nbytes\n",
    "print(a.nbytes, b.nbytes )"
   ]
  },
  {
   "cell_type": "code",
   "execution_count": 36,
   "id": "395c1a5f",
   "metadata": {},
   "outputs": [
    {
     "name": "stdout",
     "output_type": "stream",
     "text": [
      "int32 int32\n"
     ]
    }
   ],
   "source": [
    "# Tipos de datos\n",
    "a.dtype\n",
    "b.dtype\n",
    "print(a.dtype, b.dtype )"
   ]
  },
  {
   "cell_type": "code",
   "execution_count": 37,
   "id": "5a37d2dd",
   "metadata": {},
   "outputs": [
    {
     "name": "stdout",
     "output_type": "stream",
     "text": [
      "1 2\n"
     ]
    }
   ],
   "source": [
    "# Dimension \n",
    "a.ndim\n",
    "b.ndim\n",
    "print(a.ndim, b.ndim)"
   ]
  },
  {
   "cell_type": "code",
   "execution_count": null,
   "id": "c35eba3d",
   "metadata": {},
   "outputs": [],
   "source": [
    "# Tipos de shape(filas, columnas)\n",
    "a.shape\n",
    "b.shape\n",
    "print(a.shape, b.shape )"
   ]
  },
  {
   "cell_type": "markdown",
   "id": "cb570791",
   "metadata": {},
   "source": [
    "### 1.1.2. Creacion de un Array\n",
    "Hay muchas formas de crear arrays. A través de la función **np.array**  se pueden usar secuencias como listas (que pueden estar anidadas  para representar arreglos multidimensionales). Podemos pasar el  parámetro dtype para forzar a representar los datos en un tipo  determinado. Si no se pasa, la función tratará de inferirlo."
   ]
  },
  {
   "cell_type": "code",
   "execution_count": 41,
   "id": "6ad20108",
   "metadata": {},
   "outputs": [
    {
     "name": "stdout",
     "output_type": "stream",
     "text": [
      "[1 2 3 4 5] int32 20\n"
     ]
    }
   ],
   "source": [
    "arr1 =np.array([1,2,3,4,5])\n",
    "print(arr1, arr1.dtype, arr1.nbytes)"
   ]
  },
  {
   "cell_type": "code",
   "execution_count": 42,
   "id": "c8177d87",
   "metadata": {},
   "outputs": [
    {
     "name": "stdout",
     "output_type": "stream",
     "text": [
      "[1. 2. 3. 4. 5.] float64 40\n"
     ]
    }
   ],
   "source": [
    "arr2 =np.array([1,2,3,4,5], dtype = np.float64)\n",
    "print(arr2, arr2.dtype, arr2.nbytes)"
   ]
  },
  {
   "cell_type": "code",
   "execution_count": 43,
   "id": "62567c30",
   "metadata": {},
   "outputs": [
    {
     "name": "stdout",
     "output_type": "stream",
     "text": [
      "[1 2 3 4 5] int8 5\n"
     ]
    }
   ],
   "source": [
    "arr3 =np.array([1,2,3,4,5], dtype = np.int8)\n",
    "print(arr3, arr3.dtype, arr3.nbytes)"
   ]
  },
  {
   "cell_type": "markdown",
   "id": "707851ab",
   "metadata": {},
   "source": [
    "Podemos armar un array de dos dimensiones con listas anidadas,  siempre y cuando todas tengan la misma cantidad de elementos.\n"
   ]
  },
  {
   "cell_type": "code",
   "execution_count": 44,
   "id": "3141f963",
   "metadata": {},
   "outputs": [
    {
     "name": "stdout",
     "output_type": "stream",
     "text": [
      "[[ 1  2  3  4]\n",
      " [ 4  5  6  7]\n",
      " [ 8  9 10 11]]\n",
      "ndim: 2 - shape: (3, 4)\n"
     ]
    }
   ],
   "source": [
    "arr = np.array([[1,2,3,4], [4,5,6,7], [8,9,10,11]])\n",
    "print(arr)\n",
    "print('ndim:', arr.ndim, '- shape:', arr.shape)"
   ]
  },
  {
   "cell_type": "markdown",
   "id": "8d9dc65c",
   "metadata": {},
   "source": [
    "Además hay numerosas funciones para crear arrays:\n",
    "- **arange** y **linspace** para rangos de números equiespaciados.\n",
    "- **zeros**, **ones** y **full** para arrays de cualquier dimensión y forma.\n",
    "- **identity**, **eye** y **diagonal** para arrays de 2 dimensiones.    \n",
    "El módulo **random** permite crear arrays con distintas  distribuciones de números al azar.\n",
    "Las funciones loadtxt y genfromtxt permiten leer archivos de  texto tipo csv.\n",
    "Tener en cuenta especiﬁcar el tipo de dato y el shape cuando sea  necesario.\n"
   ]
  },
  {
   "cell_type": "code",
   "execution_count": 51,
   "id": "9f6521db",
   "metadata": {},
   "outputs": [
    {
     "data": {
      "text/plain": [
       "array([[0., 0., 0.],\n",
       "       [0., 0., 0.],\n",
       "       [0., 0., 0.],\n",
       "       [0., 0., 0.]])"
      ]
     },
     "execution_count": 51,
     "metadata": {},
     "output_type": "execute_result"
    }
   ],
   "source": [
    "# zeros\n",
    "# El dtype es float64 por defecto, pero puede ser asignado con cualquier tipo de datos en NumPy.\n",
    "#np.zeros(5)\n",
    "#np.zeros((5), dtype=int)\n",
    "np.zeros((4,3))\n"
   ]
  },
  {
   "cell_type": "code",
   "execution_count": 52,
   "id": "027e9832",
   "metadata": {},
   "outputs": [
    {
     "name": "stdout",
     "output_type": "stream",
     "text": [
      "[[1 2 3]\n",
      " [4 5 6]\n",
      " [7 8 9]]\n"
     ]
    },
    {
     "data": {
      "text/plain": [
       "array([[0., 0., 0.],\n",
       "       [0., 0., 0.],\n",
       "       [0., 0., 0.]])"
      ]
     },
     "execution_count": 52,
     "metadata": {},
     "output_type": "execute_result"
    }
   ],
   "source": [
    "# np.zeros_like\n",
    "test = np.array([[1,2,3],[4,5,6],[7,8,9]])\n",
    "print(test)\n",
    "np.zeros(test.shape)"
   ]
  },
  {
   "cell_type": "code",
   "execution_count": 55,
   "id": "dbce7a5b",
   "metadata": {},
   "outputs": [
    {
     "data": {
      "text/plain": [
       "array([[1., 1., 1., 1., 1.],\n",
       "       [1., 1., 1., 1., 1.],\n",
       "       [1., 1., 1., 1., 1.],\n",
       "       [1., 1., 1., 1., 1.],\n",
       "       [1., 1., 1., 1., 1.],\n",
       "       [1., 1., 1., 1., 1.],\n",
       "       [1., 1., 1., 1., 1.]])"
      ]
     },
     "execution_count": 55,
     "metadata": {},
     "output_type": "execute_result"
    }
   ],
   "source": [
    "# Ones\n",
    "# El dtype es float64 por defecto, pero puede ser asignado con cualquier tipo de datos en NumPy.\n",
    "#np.ones(5)\n",
    "#np.ones((5), dtype=int)\n",
    "np.ones((7,5))"
   ]
  },
  {
   "cell_type": "code",
   "execution_count": 56,
   "id": "51fc5a3d",
   "metadata": {},
   "outputs": [
    {
     "name": "stdout",
     "output_type": "stream",
     "text": [
      "[[1 2 3]\n",
      " [4 5 6]\n",
      " [7 8 9]]\n"
     ]
    },
    {
     "data": {
      "text/plain": [
       "array([[1., 1., 1.],\n",
       "       [1., 1., 1.],\n",
       "       [1., 1., 1.]])"
      ]
     },
     "execution_count": 56,
     "metadata": {},
     "output_type": "execute_result"
    }
   ],
   "source": [
    "# np.ones_like\n",
    "test = np.array([[1,2,3],[4,5,6],[7,8,9]])\n",
    "print(test)\n",
    "np.ones(test.shape)"
   ]
  },
  {
   "cell_type": "code",
   "execution_count": 58,
   "id": "dbcb189b",
   "metadata": {},
   "outputs": [
    {
     "data": {
      "text/plain": [
       "array([ 6,  8, 10, 12, 14, 16, 18])"
      ]
     },
     "execution_count": 58,
     "metadata": {},
     "output_type": "execute_result"
    }
   ],
   "source": [
    "# np.arange\n",
    "#np.arange(10)\n",
    "np.arange(6,20,2)"
   ]
  },
  {
   "cell_type": "code",
   "execution_count": 61,
   "id": "867ea2ba",
   "metadata": {},
   "outputs": [
    {
     "data": {
      "text/plain": [
       "array([ 0. ,  7.5, 15. , 22.5, 30. ])"
      ]
     },
     "execution_count": 61,
     "metadata": {},
     "output_type": "execute_result"
    }
   ],
   "source": [
    "# np.linspace\n",
    "np.linspace(10, 100, 10)\n",
    "np.linspace(0, 30, 5)"
   ]
  },
  {
   "cell_type": "markdown",
   "id": "334b5f49",
   "metadata": {},
   "source": [
    "### 1.1.3. Reshaping\n",
    "Ya vimos que el tipo de dato es muy importante  en un array. Ahora nos vamos a centrar en el  atributo shape. Éste determina la forma del  array, lo que implica la dimensión y el paso.\n",
    "Los datos se almacenan en un espacio contiguo  de memoria y el shape determina cómo debe  ser interpretada la forma del array: cuántos  elementos debe contener cada dimensión. Se  especiﬁca como una tupla de números enteros.  Estos números deben ser compatibles con la  cantidad de elementos.\n",
    "Para cambiar la forma del array se usa el método\n",
    "**reshape**.          El método **flatten** transforma  el array en unidimensional.\n"
   ]
  },
  {
   "cell_type": "code",
   "execution_count": 64,
   "id": "c1a9455f",
   "metadata": {},
   "outputs": [
    {
     "data": {
      "text/plain": [
       "array([[0, 1],\n",
       "       [2, 3],\n",
       "       [4, 5]])"
      ]
     },
     "execution_count": 64,
     "metadata": {},
     "output_type": "execute_result"
    }
   ],
   "source": [
    "#a = np.arange(6)\n",
    "a = np.arange(6).reshape((3, 2))\n",
    "a"
   ]
  },
  {
   "cell_type": "markdown",
   "id": "216cf80b",
   "metadata": {},
   "source": [
    "### 1.1.4. Indexing\n",
    "Se conoce como indexing a cualquier operación  que seleccione elementos de una array a través  de corchetes ([]).\n",
    "Para un array unidimensional la indexación  funciona igual que con las listas. Sin embargo,  para los arrays multidimensionales es posible  especiﬁcar los índices de cada dimensión  dentro de los mismos corchetes.                     \n",
    "Los índices en las matrices NumPy comienzan con 0, lo que significa que el primer elemento tiene el índice 0 y el segundo tiene el índice 1, etc."
   ]
  },
  {
   "cell_type": "code",
   "execution_count": 66,
   "id": "9ad54e31",
   "metadata": {},
   "outputs": [
    {
     "name": "stdout",
     "output_type": "stream",
     "text": [
      "<class 'numpy.ndarray'>\n",
      "1\n",
      "3\n"
     ]
    }
   ],
   "source": [
    "arr = np.array([1, 2, 3, 4])\n",
    "print(type(arr))\n",
    "print(arr[0])\n",
    "print(arr[2])"
   ]
  },
  {
   "cell_type": "markdown",
   "id": "f006ef8a",
   "metadata": {},
   "source": [
    "Para acceder a elementos de matrices **2-D**, podemos usar números enteros separados por comas que representan la dimensión y el índice del elemento.\n",
    "Piense en las matrices 2D como una tabla con filas y columnas, donde la fila representa la dimensión y el índice representa la columna."
   ]
  },
  {
   "cell_type": "code",
   "execution_count": 67,
   "id": "c16a7fc4",
   "metadata": {},
   "outputs": [
    {
     "name": "stdout",
     "output_type": "stream",
     "text": [
      "2do elemento en 1ra fila:  2\n"
     ]
    }
   ],
   "source": [
    "arr = np.array([[1,2,3,4,5], [6,7,8,9,10]])\n",
    "\n",
    "print('2do elemento en 1ra fila: ', arr[0, 1])"
   ]
  },
  {
   "cell_type": "code",
   "execution_count": 68,
   "id": "1fd5263b",
   "metadata": {},
   "outputs": [
    {
     "name": "stdout",
     "output_type": "stream",
     "text": [
      "5to elemento en 2da fila:  10\n"
     ]
    }
   ],
   "source": [
    "arr = np.array([[1,2,3,4,5], [6,7,8,9,10]])\n",
    "\n",
    "print('5to elemento en 2da fila: ', arr[1, 4])"
   ]
  },
  {
   "cell_type": "code",
   "execution_count": null,
   "id": "3c5d46af",
   "metadata": {},
   "outputs": [],
   "source": []
  }
 ],
 "metadata": {
  "kernelspec": {
   "display_name": "Python 3",
   "language": "python",
   "name": "python3"
  },
  "language_info": {
   "codemirror_mode": {
    "name": "ipython",
    "version": 3
   },
   "file_extension": ".py",
   "mimetype": "text/x-python",
   "name": "python",
   "nbconvert_exporter": "python",
   "pygments_lexer": "ipython3",
   "version": "3.8.8"
  }
 },
 "nbformat": 4,
 "nbformat_minor": 5
}
