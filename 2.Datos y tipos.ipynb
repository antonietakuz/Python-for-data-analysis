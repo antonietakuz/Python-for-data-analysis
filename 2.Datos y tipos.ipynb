{
 "cells": [
  {
   "cell_type": "markdown",
   "id": "d827fd0f",
   "metadata": {},
   "source": [
    "# Modulo 1- Introduccion y repaso"
   ]
  },
  {
   "cell_type": "markdown",
   "id": "e7411557",
   "metadata": {},
   "source": [
    "### Link acceso al material complementario\n",
    "https://1drv.ms/u/s!Anh5cvrOJtUTi4prd9joBnbECJU8Lw?e=qlrSR1"
   ]
  },
  {
   "cell_type": "markdown",
   "id": "7f6f47a6",
   "metadata": {},
   "source": [
    "## 1. Datos\n"
   ]
  },
  {
   "cell_type": "markdown",
   "id": "9e98fbdd",
   "metadata": {},
   "source": [
    "### 1.1.  ¿Qué es un dato?\n",
    "Los datos pueden ser cuantitativos o cualitativos,  es decir que pueden ser representados por números  (y normalmente alguna unidad) en el primer caso, o  por palabras que representan alguna cualidad en el  segundo. Por ejemplo, que un ﬁlm dure 2 horas es un  dato cuantitativo y que una persona lo caliﬁque como  ‘excelente’ es un dato cualitativo.\n",
    "\n",
    "### 1.2. Estructura de datos\n",
    "También se puede diferenciar entre datos estructurados\n",
    "y no estructurados.\n",
    "Básicamente, entendemos por datos estructurados a  aquellos que se encuentran ordenados por tipo de dato y  que son fácilmente accesibles. Ejemplos de este tipo son  las bases de datos relacionales, las planillas de cálculo, los  csv, los formularios, etc.\n",
    "Por su parte, los datos no estructurados son aquellos  que carecen de un orden dado por un esquema  predeﬁnido. Esto hace que la información no sea tan fácil  de acceder como en los datos estructurados. Ejemplos son  archivos de texto, audio, imágenes, video, etc.\n"
   ]
  },
  {
   "cell_type": "markdown",
   "id": "b21fec34",
   "metadata": {},
   "source": [
    "![imagen](datos.png)\n",
    "\n",
    "\n",
    "\n",
    "### 1.3. Datos Estructurados\n",
    "\n",
    "Son datos formateados según parámetros específicos, para organización en esquemas relacionales. Uno de los principales formatos de datos estructurados son las tablas, que se distribuyen en filas y columnas con valores predeterminados.\n",
    "\n",
    "Ejemplos: hojas de cálculo y bases de datos (Excel, CSV, SQL, archivos JSON, entre otros).\n",
    "\n",
    " \n",
    "\n",
    "### 1.4. Datos Semiestructurados\n",
    "\n",
    "Como su nombre indica, se dan con cierta organización interna, pero no están del todo estructurados.\n",
    "\n",
    "Ejemplos: archivos web (HTML, XML, OWL, entre otros).\n",
    "\n",
    " \n",
    "\n",
    "### 1.5. Datos no Estructurados\n",
    "\n",
    "Son datos sin una organización o jerarquía interna clara. Es la categoría más amplia y cubre la mayor parte de los datos de la web.\n",
    "\n",
    "Ejemplos: documentos de texto (archivos Word, PDF), archivos multimedia (imagen, audio y video), correos electrónicos, mensajes de texto, datos de redes sociales, dispositivos móviles, Internet de las cosas (IoT), entre otros.\n",
    "\n",
    " "
   ]
  },
  {
   "cell_type": "markdown",
   "id": "2135c74a",
   "metadata": {},
   "source": [
    "### 1.6. Representación de datos\n",
    "La memoria de una computadora se constituye en una  serie de bits, que sólo pueden almacenar ceros y unos.  Así que, para poder usar una computadora para analizar  datos, hay que representarlos como una combinación de  ceros y unos.\n",
    "Es decir, hay que establecer algún tipo de codiﬁcación  entre la información que queremos representar y los  elementos de la memoria de la máquina para que sea  posible tanto codiﬁcarlos, como analizarlos y  decodiﬁcarlos.\n",
    "Así es como surge la necesidad de deﬁnir distintos tipos  de datos.\n",
    "\n",
    "### Mostrar pdf con tipos de datos y hacer ejermplo de binario a decimal"
   ]
  },
  {
   "cell_type": "markdown",
   "id": "cede774d",
   "metadata": {},
   "source": [
    "![imagen](binarios.png)\n",
    "\n",
    "https://www.um.es/geograf/sigmur/temariohtml/node31.html"
   ]
  },
  {
   "cell_type": "markdown",
   "id": "581469bc",
   "metadata": {},
   "source": [
    "### 1.7. Tipos de datos en Python\n",
    "En Python, distinguimos  cuatro tipos de dato básicos: números enteros,  \n",
    "números de coma flotante (racionales), cadenas  (conjunto de caracteres para representar un texto) \n",
    "y booleanos (aquellos que solo pueden contener  dos valores: verdadero o falso)."
   ]
  },
  {
   "cell_type": "code",
   "execution_count": 1,
   "id": "774d0e15",
   "metadata": {},
   "outputs": [],
   "source": [
    "a = 12\n",
    "saludo = \"Hola mundo\"\n",
    "pi = 3.14\n",
    "encendido = True"
   ]
  },
  {
   "cell_type": "code",
   "execution_count": 2,
   "id": "2a8e6de4",
   "metadata": {},
   "outputs": [
    {
     "data": {
      "text/plain": [
       "12"
      ]
     },
     "execution_count": 2,
     "metadata": {},
     "output_type": "execute_result"
    }
   ],
   "source": [
    "a"
   ]
  },
  {
   "cell_type": "code",
   "execution_count": 3,
   "id": "134cda14",
   "metadata": {},
   "outputs": [
    {
     "name": "stdout",
     "output_type": "stream",
     "text": [
      "<class 'int'> <class 'str'> <class 'float'> <class 'bool'>\n"
     ]
    }
   ],
   "source": [
    "print(type(a),type(saludo),type(pi), type(encendido))"
   ]
  },
  {
   "cell_type": "markdown",
   "id": "f2ffde3e",
   "metadata": {},
   "source": [
    "La sintaxis de Python para representar números decimales el punto, como separador. En el caso de los booleanos, los únicos dos valores que aceptan son True y False. Nótese que Python distingue entre minúsculas y mayúsculas; por ende, true o TRUE son incorrectos."
   ]
  },
  {
   "cell_type": "markdown",
   "id": "3f05f7b0",
   "metadata": {},
   "source": [
    "### 1.8. Tipado Dinamico\n",
    "Un  lenguaje de programación es dinámicamente  tipado si una variable puede tomar valores de distinto tipo, en tiempo de ejecucion del programa."
   ]
  },
  {
   "cell_type": "code",
   "execution_count": 6,
   "id": "a8e7e404",
   "metadata": {},
   "outputs": [
    {
     "name": "stdout",
     "output_type": "stream",
     "text": [
      "<class 'int'>\n",
      "<class 'str'>\n",
      "<class 'bool'>\n"
     ]
    }
   ],
   "source": [
    "b = 1\n",
    "print(type(b))\n",
    "\n",
    "b = \"Hola mundo\"\n",
    "print(type(b))\n",
    "\n",
    "b = True\n",
    "print(type(b))"
   ]
  },
  {
   "cell_type": "code",
   "execution_count": null,
   "id": "b0308ec5",
   "metadata": {},
   "outputs": [],
   "source": []
  }
 ],
 "metadata": {
  "kernelspec": {
   "display_name": "Python 3 (ipykernel)",
   "language": "python",
   "name": "python3"
  },
  "language_info": {
   "codemirror_mode": {
    "name": "ipython",
    "version": 3
   },
   "file_extension": ".py",
   "mimetype": "text/x-python",
   "name": "python",
   "nbconvert_exporter": "python",
   "pygments_lexer": "ipython3",
   "version": "3.9.7"
  }
 },
 "nbformat": 4,
 "nbformat_minor": 5
}
